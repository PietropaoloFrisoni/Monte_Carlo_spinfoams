{
 "cells": [
  {
   "cell_type": "code",
   "execution_count": 38,
   "id": "1e53c649-9965-4871-898a-ff760b305449",
   "metadata": {},
   "outputs": [],
   "source": [
    "using Random, HalfIntegers, Distributions, SL2Cfoam"
   ]
  },
  {
   "cell_type": "code",
   "execution_count": 43,
   "id": "a1ad26d3-06fd-4567-83fa-9716ae788a60",
   "metadata": {},
   "outputs": [
    {
     "data": {
      "text/plain": [
       "1-element Vector{Function}:\n",
       " format_current_cell (generic function with 1 method)"
      ]
     },
     "execution_count": 43,
     "metadata": {},
     "output_type": "execute_result"
    }
   ],
   "source": [
    "using JupyterFormatter\n",
    "enable_autoformat()"
   ]
  },
  {
   "cell_type": "code",
   "execution_count": 16,
   "id": "7a8e1415-7afb-468d-a4ae-8116ab01af74",
   "metadata": {},
   "outputs": [
    {
     "data": {
      "text/plain": [
       "5×5 Matrix{Float64}:\n",
       "  1.0  0.0  3.0  1.0   1.0\n",
       " 10.0  0.0  3.0  0.0   3.0\n",
       "  8.0  3.0  6.0  7.0   9.0\n",
       "  6.0  1.0  0.0  1.0   9.0\n",
       "  3.0  9.0  5.0  4.0  10.0"
      ]
     },
     "execution_count": 16,
     "metadata": {},
     "output_type": "execute_result"
    }
   ],
   "source": [
    "rand(0.0:10.0, 5, 5)"
   ]
  },
  {
   "cell_type": "code",
   "execution_count": 17,
   "id": "ade811ad-9529-4171-91ce-a3151759b19b",
   "metadata": {},
   "outputs": [
    {
     "data": {
      "text/plain": [
       "16-element Vector{HalfInt8}:\n",
       "     8\n",
       "  41/2\n",
       " -73/2\n",
       "   -51\n",
       " -29/2\n",
       " 127/2\n",
       "     0\n",
       "     0\n",
       "    24\n",
       "  41/2\n",
       " -73/2\n",
       "   -51\n",
       " -29/2\n",
       " 127/2\n",
       "     0\n",
       "     0"
      ]
     },
     "execution_count": 17,
     "metadata": {},
     "output_type": "execute_result"
    }
   ],
   "source": [
    "spins_draw = Array{HalfInt8}(undef, 16)"
   ]
  },
  {
   "cell_type": "code",
   "execution_count": 20,
   "id": "47784b7f-9124-4ad9-9a91-b2cc97d9e30d",
   "metadata": {},
   "outputs": [
    {
     "data": {
      "text/plain": [
       "Uniform{Float64}(a=0.0, b=10.0)"
      ]
     },
     "execution_count": 20,
     "metadata": {},
     "output_type": "execute_result"
    }
   ],
   "source": [
    "Uniform_distribution = Uniform(0, 10)"
   ]
  },
  {
   "cell_type": "code",
   "execution_count": 19,
   "id": "6027ee34-c679-49fd-86f0-6d0191e90fd4",
   "metadata": {},
   "outputs": [
    {
     "data": {
      "text/plain": [
       "Uniform{Float64}(a=0.0, b=10.0)"
      ]
     },
     "execution_count": 19,
     "metadata": {},
     "output_type": "execute_result"
    }
   ],
   "source": [
    "Uniform(0, 10)"
   ]
  },
  {
   "cell_type": "code",
   "execution_count": 21,
   "id": "98ff5555-2302-46e3-a6d6-d0ed3814b89d",
   "metadata": {},
   "outputs": [
    {
     "ename": "LoadError",
     "evalue": "ArgumentError: Sampler for this object is not defined",
     "output_type": "error",
     "traceback": [
      "ArgumentError: Sampler for this object is not defined",
      "",
      "Stacktrace:",
      "  [1] Random.Sampler(#unused#::Type{TaskLocalRNG}, sp::Random.SamplerType{HalfInt8}, #unused#::Val{1})",
      "    @ Random ~/Scrivania/julia-1.7.2/share/julia/stdlib/v1.7/Random/src/Random.jl:146",
      "  [2] Random.Sampler(rng::Random._GLOBAL_RNG, x::Random.SamplerType{HalfInt8}, r::Val{1})",
      "    @ Random ~/Scrivania/julia-1.7.2/share/julia/stdlib/v1.7/Random/src/Random.jl:140",
      "  [3] rand(rng::Random._GLOBAL_RNG, X::Random.SamplerType{HalfInt8})",
      "    @ Random ~/Scrivania/julia-1.7.2/share/julia/stdlib/v1.7/Random/src/Random.jl:254",
      "  [4] rand!",
      "    @ ~/Scrivania/julia-1.7.2/share/julia/stdlib/v1.7/Random/src/Random.jl:272 [inlined]",
      "  [5] rand! (repeats 2 times)",
      "    @ ~/Scrivania/julia-1.7.2/share/julia/stdlib/v1.7/Random/src/Random.jl:268 [inlined]",
      "  [6] _rand!(rng::Random._GLOBAL_RNG, d::Uniform{Float64}, A::Vector{HalfInt8})",
      "    @ Distributions ~/.julia/packages/Distributions/N1Ika/src/univariate/continuous/uniform.jl:122",
      "  [7] rand!",
      "    @ ~/.julia/packages/Distributions/N1Ika/src/univariates.jl:142 [inlined]",
      "  [8] rand!(s::Uniform{Float64}, X::Vector{HalfInt8})",
      "    @ Distributions ~/.julia/packages/Distributions/N1Ika/src/genericrand.jl:77",
      "  [9] top-level scope",
      "    @ In[21]:1",
      " [10] eval",
      "    @ ./boot.jl:373 [inlined]",
      " [11] include_string(mapexpr::typeof(REPL.softscope), mod::Module, code::String, filename::String)",
      "    @ Base ./loading.jl:1196"
     ]
    }
   ],
   "source": [
    "rand!(Uniform_distribution, spins_draw)"
   ]
  },
  {
   "cell_type": "code",
   "execution_count": 80,
   "id": "1c90ebc6-7e64-457a-a624-f8fca180dac3",
   "metadata": {},
   "outputs": [
    {
     "data": {
      "text/plain": [
       "funza (generic function with 1 method)"
      ]
     },
     "execution_count": 80,
     "metadata": {},
     "output_type": "execute_result"
    }
   ],
   "source": [
    "function funza()\n",
    "\n",
    "    draw_float_sample = Array{Float64}(undef, 1)\n",
    "    spins_draw = Array{HalfInt8}(undef, 6)\n",
    "\n",
    "    step = onehalf = half(1)\n",
    "    jb = half(1)\n",
    "\n",
    "    ampls = Float64[]\n",
    "\n",
    "    # loop over partial cutoffs\n",
    "    for pcutoff = step:step:100\n",
    "\n",
    "        Uniform_distribution = Uniform(0, pcutoff)\n",
    "\n",
    "        while true\n",
    "\n",
    "            # sampling j23, j24, j25 for the draw [j23, j24, j25, jb]\n",
    "            while true\n",
    "\n",
    "                for i = 1:3\n",
    "                    rand!(Uniform_distribution, draw_float_sample)\n",
    "                    draw_float_sample[1] = round(Int64, 2 * draw_float_sample[1])\n",
    "                    spins_draw[i] = half(draw_float_sample[1])\n",
    "                end\n",
    "\n",
    "                r, _ = intertwiner_range(spins_draw[1], spins_draw[2], spins_draw[3], jb)\n",
    "                isempty(r) || break\n",
    "\n",
    "            end\n",
    "\n",
    "            # sampling j34, j35 for the draw [j34, j35, jb, j23]\n",
    "            while true\n",
    "\n",
    "                for i = 4:5\n",
    "                    rand!(Uniform_distribution, draw_float_sample)\n",
    "                    draw_float_sample[1] = round(Int64, 2 * draw_float_sample[1])\n",
    "                    spins_draw[i] = half(draw_float_sample[1])\n",
    "                end\n",
    "\n",
    "                r, _ = intertwiner_range(spins_draw[4], spins_draw[5], jb, spins_draw[1])\n",
    "                isempty(r) || break\n",
    "\n",
    "            end\n",
    "\n",
    "\n",
    "            # sampling j45 for the draw [j45, jb, j24, j34]\n",
    "            while true\n",
    "\n",
    "                for i = 6:6\n",
    "                    rand!(Uniform_distribution, draw_float_sample)\n",
    "                    draw_float_sample[1] = round(Int64, 2 * draw_float_sample[1])\n",
    "                    spins_draw[i] = half(draw_float_sample[1])\n",
    "                end\n",
    "\n",
    "                r, _ = intertwiner_range(spins_draw[6], jb, spins_draw[2], spins_draw[4])\n",
    "                isempty(r) || break\n",
    "\n",
    "            end\n",
    "\n",
    "            final_test_1 = false\n",
    "\n",
    "            # check that draw [jb, j25, j35, j45] satisfies triangular inequalities\n",
    "            r, _ = intertwiner_range(jb, spins_draw[3], spins_draw[5], spins_draw[6])\n",
    "            if (!isempty(r))\n",
    "                final_test_1 = true\n",
    "            end\n",
    "\n",
    "            final_test_2 = false\n",
    "\n",
    "            # check that at least one spin is equal to pcutoff \n",
    "            for i = 1:6\n",
    "                if (spins_draw[i] == pcutoff)\n",
    "                    final_test_2 = true\n",
    "                end\n",
    "            end\n",
    "\n",
    "            if (final_test_1 == true && final_test_2 == true)\n",
    "                break\n",
    "            end\n",
    "\n",
    "        end\n",
    "\n",
    "        #println(spins_draw)\n",
    "\n",
    "    end\n",
    "\n",
    "end"
   ]
  },
  {
   "cell_type": "code",
   "execution_count": 76,
   "id": "93f87e9d-d2c4-42ae-8790-0249f96fd917",
   "metadata": {},
   "outputs": [
    {
     "data": {
      "text/plain": [
       "6-element Vector{HalfInt8}:\n",
       "    7\n",
       "    4\n",
       "  5/2\n",
       " 17/2\n",
       "    8\n",
       "   10"
      ]
     },
     "execution_count": 76,
     "metadata": {},
     "output_type": "execute_result"
    }
   ],
   "source": [
    "spins_draw"
   ]
  },
  {
   "cell_type": "code",
   "execution_count": 79,
   "id": "081063a4-a764-468c-a20e-9a42116e75c6",
   "metadata": {},
   "outputs": [],
   "source": [
    "@time funza()"
   ]
  },
  {
   "cell_type": "code",
   "execution_count": null,
   "id": "98859e72-e506-40c4-8b41-9eea6282326d",
   "metadata": {},
   "outputs": [],
   "source": []
  }
 ],
 "metadata": {
  "kernelspec": {
   "display_name": "Julia 1.7.2",
   "language": "julia",
   "name": "julia-1.7"
  },
  "language_info": {
   "file_extension": ".jl",
   "mimetype": "application/julia",
   "name": "julia",
   "version": "1.7.2"
  }
 },
 "nbformat": 4,
 "nbformat_minor": 5
}
