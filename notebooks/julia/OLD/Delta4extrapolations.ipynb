{
 "cells": [
  {
   "cell_type": "markdown",
   "metadata": {
    "slideshow": {
     "slide_type": "skip"
    },
    "tags": []
   },
   "source": [
    "#### Using a Julia 1.7.2 kernel"
   ]
  },
  {
   "cell_type": "code",
   "execution_count": 1,
   "metadata": {
    "ExecuteTime": {
     "end_time": "2022-04-19T18:14:34.553747Z",
     "start_time": "2022-04-19T18:14:34.543052Z"
    },
    "slideshow": {
     "slide_type": "slide"
    },
    "tags": []
   },
   "outputs": [],
   "source": [
    "# import the library\n",
    "using SL2Cfoam\n",
    "\n",
    "# Barbero-Immirzi parameter\n",
    "Immirzi = 1\n",
    "\n",
    "# initializing sl2cfoam-next   \n",
    "sl2c_data_folder = \"/home/pdona/data_sl2cfoam\"\n",
    "sl2c_config = SL2Cfoam.Config(VerbosityOff, VeryHighAccuracy, 100, 0)\n",
    "SL2Cfoam.cinit(sl2c_data_folder,Immirzi, sl2c_config)\n",
    "\n",
    "# truncation parameter\n",
    "Dl = 10;"
   ]
  },
  {
   "cell_type": "code",
   "execution_count": 2,
   "metadata": {
    "ExecuteTime": {
     "end_time": "2022-04-19T18:14:34.587384Z",
     "start_time": "2022-04-19T18:14:34.556811Z"
    },
    "tags": []
   },
   "outputs": [
    {
     "data": {
      "text/plain": [
       "extrapolate (generic function with 1 method)"
      ]
     },
     "execution_count": 2,
     "metadata": {},
     "output_type": "execute_result"
    }
   ],
   "source": [
    "function extrapolate(Av_Dl,Av_Dlm1, Av_Dlm2)\n",
    "    num = Av_Dl * Av_Dlm2 - Av_Dlm1^2 \n",
    "    den = Av_Dl  - 2* Av_Dlm1 + Av_Dlm2\n",
    "    num/den\n",
    "end"
   ]
  },
  {
   "cell_type": "code",
   "execution_count": 3,
   "metadata": {
    "ExecuteTime": {
     "end_time": "2022-04-19T18:14:34.587384Z",
     "start_time": "2022-04-19T18:14:34.556811Z"
    },
    "tags": []
   },
   "outputs": [],
   "source": [
    "j = 2\n",
    "j_bulk_min, j_bulk_max = 0, 3j;"
   ]
  },
  {
   "cell_type": "code",
   "execution_count": 4,
   "metadata": {
    "ExecuteTime": {
     "end_time": "2022-04-19T18:14:34.587384Z",
     "start_time": "2022-04-19T18:14:34.556811Z"
    },
    "slideshow": {
     "slide_type": "fragment"
    },
    "tags": []
   },
   "outputs": [],
   "source": [
    "# loop over all the possible bulk spins and save the result\n",
    "for j_bulk = j_bulk_min:j_bulk_max\n",
    "    spins = [j, j, j, j, j, j, j, j_bulk, j, j]\n",
    "    v = vertex_compute(spins, Dl-2)\n",
    "    v = vertex_compute(spins, Dl-1)\n",
    "    v = vertex_compute(spins, Dl)\n",
    "end"
   ]
  },
  {
   "cell_type": "code",
   "execution_count": 11,
   "metadata": {
    "ExecuteTime": {
     "end_time": "2022-04-19T18:14:34.587384Z",
     "start_time": "2022-04-19T18:14:34.556811Z"
    },
    "tags": []
   },
   "outputs": [
    {
     "name": "stdout",
     "output_type": "stream",
     "text": [
      "0\n",
      "1\n",
      "2\n",
      "3\n",
      "4\n",
      "5\n",
      "6\n"
     ]
    }
   ],
   "source": [
    "i_b = 1; i_idx = i_b + 1;\n",
    "D4_amp_extrapolated = 0.0\n",
    "D4_amp_pre_extrapolated = 0.0\n",
    "D4_amp_Dl = 0.0\n",
    "D4_amp_Dlm1 = 0.0\n",
    "D4_amp_Dlm2 = 0.0\n",
    "\n",
    "for j_bulk = j_bulk_min:j_bulk_max\n",
    "    spins = [j, j, j, j, j, j, j, j_bulk, j, j]\n",
    "    println(j_bulk)\n",
    "    AvDl = vertex_compute(spins,Dl).a\n",
    "    AvDlm1 = vertex_compute(spins,Dl-1).a\n",
    "    AvDlm2 = vertex_compute(spins,Dl-2).a\n",
    "    \n",
    "    AvDlex = extrapolate.(AvDl,AvDlm1,AvDlm2)\n",
    "    \n",
    "    D4_partial_amp_Dl = 0.0\n",
    "    D4_partial_amp_Dlm1 = 0.0\n",
    "    D4_partial_amp_Dlm2 = 0.0\n",
    "    D4_partial_amp_pre = 0.0\n",
    "    \n",
    "    D = size(AvDl[i_idx,:,:,i_idx,i_idx])[1]\n",
    "    for i1 in 1:D, i2 in 1:D, i3 in 1:D, i4 in 1:D\n",
    "        @inbounds D4_partial_amp_Dl += AvDl[i_idx,i2,i1,i_idx,i_idx]*\n",
    "                                    AvDl[i_idx,i1,i4,i_idx,i_idx]*\n",
    "                                    AvDl[i_idx,i4,i3,i_idx,i_idx]*\n",
    "                                    AvDl[i_idx,i3,i2,i_idx,i_idx]     \n",
    "        @inbounds D4_partial_amp_Dlm1 += AvDlm1[i_idx,i2,i1,i_idx,i_idx]*\n",
    "                                    AvDlm1[i_idx,i1,i4,i_idx,i_idx]*\n",
    "                                    AvDlm1[i_idx,i4,i3,i_idx,i_idx]*\n",
    "                                    AvDlm1[i_idx,i3,i2,i_idx,i_idx]     \n",
    "        @inbounds D4_partial_amp_Dlm2 += AvDlm2[i_idx,i2,i1,i_idx,i_idx]*\n",
    "                                    AvDlm2[i_idx,i1,i4,i_idx,i_idx]*\n",
    "                                    AvDlm2[i_idx,i4,i3,i_idx,i_idx]*\n",
    "                                    AvDlm2[i_idx,i3,i2,i_idx,i_idx]     \n",
    "        @inbounds D4_partial_amp_pre += AvDlex[i_idx,i2,i1,i_idx,i_idx]*\n",
    "                                    AvDlex[i_idx,i1,i4,i_idx,i_idx]*\n",
    "                                    AvDlex[i_idx,i4,i3,i_idx,i_idx]*\n",
    "                                    AvDlex[i_idx,i3,i2,i_idx,i_idx]     \n",
    "    end\n",
    "    D4_partial_amp_extrapolated = extrapolate(D4_partial_amp_Dl,D4_partial_amp_Dlm1,D4_partial_amp_Dlm2)\n",
    "    D4_amp_extrapolated += D4_partial_amp_extrapolated  * (2j_bulk + 1)\n",
    "    \n",
    "    D4_amp_pre_extrapolated += D4_partial_amp_pre  * (2j_bulk + 1)\n",
    "\n",
    "    D4_amp_Dl += D4_partial_amp_Dl  * (2j_bulk + 1)\n",
    "    D4_amp_Dlm1 += D4_partial_amp_Dlm1  * (2j_bulk + 1)\n",
    "    D4_amp_Dlm2 += D4_partial_amp_Dlm2  * (2j_bulk + 1)\n",
    "end"
   ]
  },
  {
   "cell_type": "code",
   "execution_count": 12,
   "metadata": {},
   "outputs": [
    {
     "data": {
      "text/plain": [
       "3-element Vector{Float64}:\n",
       " 4.015812341964804e-40\n",
       " 4.015699918071825e-40\n",
       " 4.008148090441742e-40"
      ]
     },
     "execution_count": 12,
     "metadata": {},
     "output_type": "execute_result"
    }
   ],
   "source": [
    "[D4_amp_extrapolated,extrapolate(D4_amp_Dl,D4_amp_Dlm1,D4_amp_Dlm2),D4_amp_pre_extrapolated]"
   ]
  },
  {
   "cell_type": "code",
   "execution_count": 10,
   "metadata": {},
   "outputs": [
    {
     "data": {
      "text/plain": [
       "4.015699918071825e-40"
      ]
     },
     "execution_count": 10,
     "metadata": {},
     "output_type": "execute_result"
    }
   ],
   "source": [
    "extrapolate(D4_amp_Dl,D4_amp_Dlm1,D4_amp_Dlm2)"
   ]
  },
  {
   "cell_type": "code",
   "execution_count": null,
   "metadata": {},
   "outputs": [],
   "source": []
  }
 ],
 "metadata": {
  "celltoolbar": "Slideshow",
  "interpreter": {
   "hash": "916dbcbb3f70747c44a77c7bcd40155683ae19c65e1c03b4aa3499c5328201f1"
  },
  "kernelspec": {
   "display_name": "Julia 1.7.2",
   "language": "julia",
   "name": "julia-1.7"
  },
  "language_info": {
   "file_extension": ".jl",
   "mimetype": "application/julia",
   "name": "julia",
   "version": "1.7.2"
  },
  "toc": {
   "base_numbering": 1,
   "nav_menu": {},
   "number_sections": true,
   "sideBar": true,
   "skip_h1_title": false,
   "title_cell": "Table of Contents",
   "title_sidebar": "Contents",
   "toc_cell": false,
   "toc_position": {},
   "toc_section_display": true,
   "toc_window_display": false
  }
 },
 "nbformat": 4,
 "nbformat_minor": 4
}
