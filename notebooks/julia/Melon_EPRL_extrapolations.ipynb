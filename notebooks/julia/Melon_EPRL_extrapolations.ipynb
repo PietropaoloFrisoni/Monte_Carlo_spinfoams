{
 "cells": [
  {
   "cell_type": "markdown",
   "id": "7097f7c3-1454-409e-90ea-a70529060fa5",
   "metadata": {},
   "source": [
    "# Experiments with EPRL Melon extrapolation"
   ]
  },
  {
   "cell_type": "markdown",
   "id": "309dce43-93ba-4051-9caa-0cc386375279",
   "metadata": {},
   "source": [
    "We can extrapolate in different ways, according to the order in which we perform the summations:"
   ]
  },
  {
   "cell_type": "markdown",
   "id": "0efcd932-2ce6-4012-969b-75b767193d20",
   "metadata": {},
   "source": [
    "$$ \n",
    "W_1 \\left( K, \\Delta l \\right) = \\sum\\limits_{k}^{K} \\sum\\limits_{j}^{k} \\sum\\limits_{i} \\sum\\limits_{l}^{\\Delta l} f \\left(j, i, l \\right) \\ ,\n",
    "$$\n",
    "\n",
    "$$ \n",
    "W_2 \\left( K, \\Delta l \\right) = \\sum\\limits_{k}^{K} \\sum\\limits_{j}^{k} \\sum\\limits_{l}^{\\Delta l} \\sum\\limits_{i} f \\left(j, i, l \\right) \\ ,\n",
    "$$\n",
    "\n",
    "$$ \n",
    "W_3 \\left( K, \\Delta l \\right) = \\sum\\limits_{k}^{K} \\sum\\limits_{l}^{\\Delta l} \\sum\\limits_{j}^{k} \\sum\\limits_{i} f \\left(j, i, l \\right) \\ ,\n",
    "$$\n",
    "\n",
    "$$ \n",
    "W_4 \\left( K, \\Delta l \\right) = \\sum\\limits_{l}^{\\Delta l} \\sum\\limits_{k}^{K} \\sum\\limits_{j}^{k} \\sum\\limits_{i} f \\left(j, i, l \\right) \\ .\n",
    "$$"
   ]
  },
  {
   "cell_type": "markdown",
   "id": "3eb8bd33-ae9a-480f-b694-4c4a580a7df0",
   "metadata": {},
   "source": [
    "Of course $W_1 = W_2 = W_3 = W_4$ when $\\Delta l$ is fixed. However, when we extrapolate with the Aitken's delta-squared process:"
   ]
  },
  {
   "cell_type": "markdown",
   "id": "e25f96b7-af33-43fe-ac5f-c957fa9cf24d",
   "metadata": {},
   "source": [
    "$$\n",
    "A_{\\Delta l} \\left( \\infty \\right) \\approx \\frac{A(\\Delta l) A (\\Delta l-2) - A^2(\\Delta l-1)}{A(\\Delta l) - 2A(\\Delta l-1)+A(\\Delta l-2)} \\ ,\n",
    "$$\n",
    "\n",
    "where\n",
    "\n",
    "$$\n",
    "A \\left( \\Delta l \\right) = \\sum\\limits_{l}^{\\Delta l} a(l) \\ ,\n",
    "$$"
   ]
  },
  {
   "cell_type": "markdown",
   "id": "614bfbd5-c4da-4a82-96bb-9c4da979c306",
   "metadata": {},
   "source": [
    "We need to be careful about the order, since in general $W_i \\neq W_j$. So far, we only extrapolated using expression $W_4$.\n",
    "\n",
    "The purpose of this notebook is to check what happens with the melon EPRL by extrapolating using the other three possible cases.\n",
    "\n",
    "We completely forget about Monte Carlo, since this has nothing to do with it!"
   ]
  },
  {
   "cell_type": "markdown",
   "id": "80714a56-2f11-43b5-9bdb-37a5e003dbfb",
   "metadata": {},
   "source": [
    "Notice that:\n",
    "\n",
    "- $W_1$ involves extrapolating *positive* and *negative* quantities\n",
    "- $W_2$ involves extrapolating *positive* quantities\n",
    "- $W_3$ involves extrapolating *positive* quantities\n",
    "- $W_4$ involves extrapolating *positive* quantities"
   ]
  },
  {
   "cell_type": "markdown",
   "id": "55b366c4",
   "metadata": {},
   "source": [
    "Should we consider an extrapolation method which gives the highest value of the amplitude for each $K$ *and* dealing only with positive quantities?\n",
    "\n",
    "I'm not sure, but it seems legitimate and \"safe\"."
   ]
  }
 ],
 "metadata": {
  "kernelspec": {
   "display_name": "Julia 1.8.1",
   "language": "julia",
   "name": "julia-1.8"
  },
  "language_info": {
   "file_extension": ".jl",
   "mimetype": "application/julia",
   "name": "julia",
   "version": "1.8.1"
  }
 },
 "nbformat": 4,
 "nbformat_minor": 5
}
