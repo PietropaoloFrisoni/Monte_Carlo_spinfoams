{
 "cells": [
  {
   "cell_type": "code",
   "execution_count": 16,
   "metadata": {},
   "outputs": [],
   "source": [
    "using WignerSymbols\n",
    "using HalfIntegers\n",
    "using Distributed"
   ]
  },
  {
   "cell_type": "code",
   "execution_count": 7,
   "metadata": {},
   "outputs": [
    {
     "data": {
      "text/plain": [
       "0.1666666666666666666666666666666666666666666666666666666666666666666666666666674"
      ]
     },
     "execution_count": 7,
     "metadata": {},
     "output_type": "execute_result"
    }
   ],
   "source": [
    "float(wigner6j(1, 1, 1, 1, 1, 1))"
   ]
  },
  {
   "cell_type": "code",
   "execution_count": 6,
   "metadata": {},
   "outputs": [
    {
     "data": {
      "text/plain": [
       "0.16666666666666666"
      ]
     },
     "execution_count": 6,
     "metadata": {},
     "output_type": "execute_result"
    }
   ],
   "source": [
    "1/6"
   ]
  },
  {
   "cell_type": "code",
   "execution_count": null,
   "metadata": {},
   "outputs": [],
   "source": [
    "wigner6j[pink, blue, green, red, sgreen, \n",
    "   purple] *wigner6j[green, sgreen, red, violet, orange, \n",
    "   dgreen] *wigner6j[green, dgreen, orange, brown, blue, \n",
    "   pink] *wigner6j[pink, purple, sgreen, violet, dgreen, \n",
    "   brown] *wigner6j[violet, orange, red, blue, purple, brown]"
   ]
  },
  {
   "cell_type": "markdown",
   "metadata": {},
   "source": [
    "The amplitude for $j_b=0$ is \n",
    "$$ (-1)^{red+green+seagreen+pink+purple+violet+darkgreen+brown+blue+orange}$$\n",
    "$$\\left\\{ \\begin{array}{ccc}\n",
    "pink & blue & green\\\\\n",
    "red & seagreen & purple\n",
    "\\end{array}\\right\\}\n",
    "\n",
    "\\left\\{ \\begin{array}{ccc}\n",
    "green & seagreen & red\\\\\n",
    "violet & orange & darkgreen\n",
    "\\end{array}\\right\\}$$ \n",
    "$$\n",
    "\\left\\{ \\begin{array}{ccc}\n",
    "green & darkgreen & orange\\\\\n",
    "brown & blue & pink\n",
    "\\end{array}\\right\\} \n",
    "\n",
    "\\left\\{ \\begin{array}{ccc}\n",
    "pink & purple & seagreen\\\\\n",
    "violet & darkgreen & brown\n",
    "\\end{array}\\right\\} \n",
    "$$\n",
    "$$\n",
    "\\left\\{ \\begin{array}{ccc}\n",
    "violet & orange & red\\\\\n",
    "blue & purple & brown\n",
    "\\end{array}\\right\\} $$"
   ]
  },
  {
   "cell_type": "code",
   "execution_count": 52,
   "metadata": {},
   "outputs": [
    {
     "data": {
      "text/plain": [
       "1/2"
      ]
     },
     "execution_count": 52,
     "metadata": {},
     "output_type": "execute_result"
    }
   ],
   "source": [
    "k=half(5)\n",
    "s=half(1)"
   ]
  },
  {
   "cell_type": "code",
   "execution_count": 53,
   "metadata": {},
   "outputs": [],
   "source": [
    "amp = 0 \n",
    "for pink::HalfInt = 0:s:k, blue::HalfInt = 0:s:k, green::HalfInt = 0:s:k, red::HalfInt = 0:s:k, sgreen::HalfInt = 0:s:k, purple::HalfInt = 0:s:k, violet::HalfInt = 0:s:k, orange::HalfInt = 0:s:k, dgreen::HalfInt = 0:s:k, brown::HalfInt = 0:s:k\n",
    "    tmpamp = wigner6j(pink, blue, green, red, sgreen, purple) *wigner6j(green, sgreen, red, violet, orange, dgreen) *wigner6j(green, dgreen, orange, brown, blue, pink) *wigner6j(pink, purple, sgreen, violet, dgreen,brown) *wigner6j(violet, orange, red, blue, purple, brown)\n",
    "    if tmpamp != 0\n",
    "        dj = (2*pink + 1)*(2*blue + 1)*(2*green + 1)*(2*red + 1)*(2*sgreen + 1)*(2*purple + 1)*(2*violet + 1)*(2*orange + 1)*(2*dgreen + 1)*(2*brown + 1)\n",
    "        fase = (-1)^(pink + blue + green + red + sgreen + purple + violet + orange + dgreen + brown)\n",
    "        amp += dj* fase* tmpamp\n",
    "    end\n",
    "end"
   ]
  },
  {
   "cell_type": "code",
   "execution_count": 54,
   "metadata": {},
   "outputs": [
    {
     "data": {
      "text/plain": [
       "3.4707262393843615e6"
      ]
     },
     "execution_count": 54,
     "metadata": {},
     "output_type": "execute_result"
    }
   ],
   "source": [
    "amp"
   ]
  },
  {
   "cell_type": "code",
   "execution_count": null,
   "metadata": {},
   "outputs": [],
   "source": []
  }
 ],
 "metadata": {
  "kernelspec": {
   "display_name": "Julia 1.7.2",
   "language": "julia",
   "name": "julia-1.7"
  },
  "language_info": {
   "file_extension": ".jl",
   "mimetype": "application/julia",
   "name": "julia",
   "version": "1.7.2"
  },
  "orig_nbformat": 4
 },
 "nbformat": 4,
 "nbformat_minor": 2
}
