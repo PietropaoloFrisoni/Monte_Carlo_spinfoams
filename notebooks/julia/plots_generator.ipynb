{
 "cells": [
  {
   "cell_type": "markdown",
   "id": "66fea05f-7846-4b98-9445-073dfad3d127",
   "metadata": {},
   "source": [
    "# Notebook for plots"
   ]
  },
  {
   "cell_type": "code",
   "execution_count": 14,
   "id": "778df459-e928-4aa2-9e3f-a24e1c136519",
   "metadata": {},
   "outputs": [
    {
     "data": {
      "text/plain": [
       "2-element Vector{Function}:\n",
       " format_current_cell (generic function with 1 method)\n",
       " format_current_cell (generic function with 1 method)"
      ]
     },
     "execution_count": 14,
     "metadata": {},
     "output_type": "execute_result"
    }
   ],
   "source": [
    "using JupyterFormatter\n",
    "enable_autoformat()"
   ]
  },
  {
   "cell_type": "code",
   "execution_count": 54,
   "id": "aee5d3d8-77f6-4fb9-af80-f26b8c83e19f",
   "metadata": {},
   "outputs": [],
   "source": [
    "using HalfIntegers\n",
    "using CSV\n",
    "using DataFrames\n",
    "using Statistics\n",
    "\n",
    "# set Plot style\n",
    "using Plots\n",
    "using Plots.PlotMeasures\n",
    "using LaTeXStrings\n",
    "\n",
    "# set backend and style\n",
    "pgfplotsx()\n",
    "theme(:default)\n",
    "default(\n",
    "    markerstrokewidth = 0,\n",
    "    markerstrokealpha = 0,\n",
    "    linewidth = 2,\n",
    "    #grid=:none,   \n",
    "    gridlinewidth = 0.5,\n",
    "    markersize = 5,\n",
    "    tickfontsize = 18,\n",
    "    size = (900, 600),\n",
    "    grid = false,\n",
    "    legendfontsize = 18,\n",
    "    guidefontsize = 20,\n",
    "    titlefontsize = 20,\n",
    "    legend = (0.03, 0.98),\n",
    "    foreground_color_axis = \"black\",\n",
    "    foreground_color_border = \"black\",\n",
    "    foreground_color_guide = \"darkorange\",\n",
    "    foreground_color_text = \"black\",\n",
    "    guidefontcolor = \"black\",\n",
    "    plot_titlefontcolor = \"black\",\n",
    "    titlefontcolor = \"black\",\n",
    "    shape = [:circle],\n",
    "    markershape = [:circle],\n",
    ")"
   ]
  },
  {
   "cell_type": "code",
   "execution_count": 3,
   "id": "08e01913-1caa-4f97-94be-561c33ab7468",
   "metadata": {},
   "outputs": [
    {
     "data": {
      "text/plain": [
       "\"../../\""
      ]
     },
     "execution_count": 3,
     "metadata": {},
     "output_type": "execute_result"
    }
   ],
   "source": [
    "FOLDER_WITH_DATA = \"../../\""
   ]
  },
  {
   "cell_type": "code",
   "execution_count": 70,
   "id": "94dba179-10c3-4915-b685-c09ee5eaaf98",
   "metadata": {},
   "outputs": [
    {
     "data": {
      "text/plain": [
       "20"
      ]
     },
     "execution_count": 70,
     "metadata": {},
     "output_type": "execute_result"
    }
   ],
   "source": [
    "CUTOFF = 10\n",
    "JB = 0.5\n",
    "IB = 0\n",
    "IMMIRZI = 0.1\n",
    "TRIALS_TO_AVERAGE = 20"
   ]
  },
  {
   "cell_type": "markdown",
   "id": "d0cfa10e-b44e-43bd-9230-9d7e62f87ebc",
   "metadata": {
    "tags": []
   },
   "source": [
    "## BF self-energy"
   ]
  },
  {
   "cell_type": "code",
   "execution_count": 69,
   "id": "d6bf62d5-82a2-4623-8103-2c2d83cd0a41",
   "metadata": {},
   "outputs": [],
   "source": [
    "ampls = vec(\n",
    "    Matrix(\n",
    "        DataFrame(\n",
    "            CSV.File(\n",
    "                \"$(FOLDER_WITH_DATA)/data/self_energy/jb_$(JB)/exact/BF/ampls_cutoff_$(CUTOFF)_ib_$(IB).0.csv\",\n",
    "            ),\n",
    "        ),\n",
    "    ),\n",
    ")\n",
    "\n",
    "for MC_ITERATIONS in [10^3, 10^4]\n",
    "\n",
    "    AMPLS_MATRIX = zeros(TRIALS_TO_AVERAGE, 2 * CUTOFF + 1)\n",
    "\n",
    "    for trial = 1:TRIALS_TO_AVERAGE\n",
    "\n",
    "        ampls_MC = Matrix(\n",
    "            DataFrame(\n",
    "                CSV.File(\n",
    "                    \"$(FOLDER_WITH_DATA)/data/self_energy/jb_$(JB)/monte_carlo/Nmc_$(MC_ITERATIONS)/BF/ampls_cutoff_$(CUTOFF)_ib_$(IB).0_trial_$(trial).csv\",\n",
    "                ),\n",
    "            ),\n",
    "        )\n",
    "\n",
    "        AMPLS_MATRIX[trial, :] .= ampls_MC[:, 1]\n",
    "\n",
    "    end\n",
    "\n",
    "    AMPLS_MEAN_VEC = mean(AMPLS_MATRIX, dims = 1)\n",
    "    AMPLS_STD_VEC = std(AMPLS_MATRIX, dims = 1)\n",
    "\n",
    "    pl1 = plot(\n",
    "        0.5:0.5:10,\n",
    "        [ampls[2:end], AMPLS_MEAN_VEC[2:end]],\n",
    "        label = [\"Exact amplitude\" \"MC estimate\"],\n",
    "        markershape = [:circle :circle :circle],\n",
    "        shape = [:circle :circle :circle],\n",
    "        xticks = 1:1:10,\n",
    "        legend = (0.10, 0.97),\n",
    "        yscale = :log10,\n",
    "        xscale = :log10,\n",
    "        palette = palette([:blue, :skyblue], 2),\n",
    "        legendfontsize = 22,\n",
    "    )\n",
    "    xlabel!(L\"K\")\n",
    "    title!(L\"\\textrm{Self energy BF} \\left(j_b=%$JB, \\, i_b=%$IB \\right)\")\n",
    "    savefig(\n",
    "        \"./plots/BF/self_energy_MC_$(MC_ITERATIONS)_plus_exact_trials_$(TRIALS_TO_AVERAGE).pdf\",\n",
    "    )\n",
    "\n",
    "    pl1 = plot(\n",
    "        0.5:0.5:10,\n",
    "        [AMPLS_MEAN_VEC[2:end]],\n",
    "        label = [\"MC estimate\"],\n",
    "        markershape = [:circle :circle :circle],\n",
    "        shape = [:circle :circle :circle],\n",
    "        yerror = AMPLS_STD_VEC[2:end],\n",
    "        xticks = 1:1:10,\n",
    "        legend = (0.10, 0.97),\n",
    "        yscale = :log10,\n",
    "        xscale = :log10,\n",
    "        markerstrokewidth = 10,\n",
    "        #palette = palette([:skyblue, :red], 2),\n",
    "        legendfontsize = 22,\n",
    "    )\n",
    "    xlabel!(L\"K\")\n",
    "    title!(L\"\\textrm{Self energy BF} \\left(j_b=%$JB, \\, i_b=%$IB \\right)\")\n",
    "    savefig(\"./plots/BF/self_energy_MC_$(MC_ITERATIONS)_trials_$(TRIALS_TO_AVERAGE).pdf\")\n",
    "\n",
    "\n",
    "end"
   ]
  },
  {
   "cell_type": "markdown",
   "id": "bc876c10-7bd8-4138-81dd-a4b278b4c63c",
   "metadata": {},
   "source": [
    "## EPRL self-energy"
   ]
  },
  {
   "cell_type": "code",
   "execution_count": 68,
   "id": "89abefdb-c629-4c0a-8914-31a3286f8c62",
   "metadata": {},
   "outputs": [],
   "source": [
    "for Dl = 0:10\n",
    "\n",
    "    ampls = Matrix(\n",
    "        DataFrame(\n",
    "            CSV.File(\n",
    "                \"$(FOLDER_WITH_DATA)/data/self_energy/jb_$(JB)/exact/EPRL/immirzi_$(IMMIRZI)/Dl_$(Dl)/ampls_cutoff_$(CUTOFF)_ib_$(IB).0.csv\",\n",
    "            ),\n",
    "        ),\n",
    "    )\n",
    "\n",
    "\n",
    "    for MC_ITERATIONS in [10^3, 10^4, 10^5]\n",
    "\n",
    "\n",
    "        AMPLS_MATRIX = zeros(TRIALS_TO_AVERAGE, 2 * CUTOFF + 1)\n",
    "\n",
    "\n",
    "        for trial = 1:TRIALS_TO_AVERAGE\n",
    "\n",
    "            ampls_MC = Matrix(\n",
    "                DataFrame(\n",
    "                    CSV.File(\n",
    "                        \"$(FOLDER_WITH_DATA)/data/self_energy/jb_$(JB)/monte_carlo/Nmc_$(MC_ITERATIONS)/EPRL/immirzi_$(IMMIRZI)/Dl_$(Dl)/ampls_cutoff_$(CUTOFF)_ib_$(IB).0_trial_$(trial).csv\",\n",
    "                    ),\n",
    "                ),\n",
    "            )\n",
    "\n",
    "            AMPLS_MATRIX[trial, :] .= ampls_MC[:, 1]\n",
    "\n",
    "        end\n",
    "\n",
    "        AMPLS_MEAN_VEC = mean(AMPLS_MATRIX, dims = 1)\n",
    "        AMPLS_STD_VEC = std(AMPLS_MATRIX, dims = 1)\n",
    "\n",
    "        pl1 = plot(\n",
    "            0.5:0.5:10,\n",
    "            [ampls[2:end], AMPLS_MEAN_VEC[2:end]],\n",
    "            label = [\"Exact amplitude\" \"MC estimate\"],\n",
    "            markershape = [:circle :circle :circle],\n",
    "            shape = [:circle :circle :circle],\n",
    "            xticks = 1:1:10,\n",
    "            legend = (0.10, 0.97),\n",
    "            palette = palette([:blue, :skyblue], 2),\n",
    "            legendfontsize = 22,\n",
    "        )\n",
    "        xlabel!(L\"K\")\n",
    "        title!(L\"\\textrm{Self energy EPRL} \\left(j_b=%$JB, \\, i_b=%$IB \\right)\")\n",
    "        savefig(\n",
    "            \"./plots/EPRL/self_energy_immirzi_$(IMMIRZI)_MC_$(MC_ITERATIONS)_Dl_$(Dl)_plus_exact_trials_$(TRIALS_TO_AVERAGE).pdf\",\n",
    "        )\n",
    "\n",
    "\n",
    "        pl1 = plot(\n",
    "            0.5:0.5:10,\n",
    "            [AMPLS_MEAN_VEC[2:end]],\n",
    "            label = [\"MC estimate\"],\n",
    "            markershape = [:circle :circle :circle],\n",
    "            shape = [:circle :circle :circle],\n",
    "            yerror = AMPLS_STD_VEC[2:end],\n",
    "            xticks = 1:1:10,\n",
    "            legend = (0.10, 0.97),\n",
    "            markerstrokewidth = 10,\n",
    "            #palette = palette([:skyblue, :red], 2),\n",
    "            legendfontsize = 22,\n",
    "        )\n",
    "        xlabel!(L\"K\")\n",
    "        title!(L\"\\textrm{Self energy EPRL} \\left(j_b=%$JB, \\, i_b=%$IB \\right)\")\n",
    "        savefig(\n",
    "            \"./plots/EPRL/self_energy_immirzi_$(IMMIRZI)_MC_$(MC_ITERATIONS)_Dl_$(Dl)_trials_$(TRIALS_TO_AVERAGE).pdf\",\n",
    "        )\n",
    "\n",
    "    end\n",
    "\n",
    "end"
   ]
  }
 ],
 "metadata": {
  "kernelspec": {
   "display_name": "Julia 1.8.0",
   "language": "julia",
   "name": "julia-1.8"
  },
  "language_info": {
   "file_extension": ".jl",
   "mimetype": "application/julia",
   "name": "julia",
   "version": "1.8.0"
  }
 },
 "nbformat": 4,
 "nbformat_minor": 5
}
