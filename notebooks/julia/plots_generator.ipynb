{
 "cells": [
  {
   "cell_type": "markdown",
   "id": "66fea05f-7846-4b98-9445-073dfad3d127",
   "metadata": {},
   "source": [
    "# Notebook for plots"
   ]
  },
  {
   "cell_type": "code",
   "execution_count": 1,
   "id": "778df459-e928-4aa2-9e3f-a24e1c136519",
   "metadata": {},
   "outputs": [
    {
     "data": {
      "text/plain": [
       "1-element Vector{Function}:\n",
       " format_current_cell (generic function with 1 method)"
      ]
     },
     "execution_count": 1,
     "metadata": {},
     "output_type": "execute_result"
    }
   ],
   "source": [
    "using JupyterFormatter\n",
    "enable_autoformat()"
   ]
  },
  {
   "cell_type": "code",
   "execution_count": 2,
   "id": "aee5d3d8-77f6-4fb9-af80-f26b8c83e19f",
   "metadata": {},
   "outputs": [],
   "source": [
    "using HalfIntegers\n",
    "using DelimitedFiles\n",
    "using CSV\n",
    "using DataFrames\n",
    "\n",
    "# set Plot style\n",
    "using Plots\n",
    "using Plots.PlotMeasures\n",
    "using LaTeXStrings\n",
    "\n",
    "# set backend and style\n",
    "pgfplotsx()\n",
    "theme(:default)\n",
    "default(\n",
    "    markerstrokewidth = 0,\n",
    "    markerstrokealpha = 0,\n",
    "    linewidth = 2,\n",
    "    #grid=:none,   \n",
    "    gridlinewidth = 0.5,\n",
    "    markersize = 5,\n",
    "    markershape = :circle,\n",
    "    tickfontsize = 18,\n",
    "    size = (900, 600),\n",
    "    grid = false,\n",
    "    legendfontsize = 18,\n",
    "    guidefontsize = 20,\n",
    "    titlefontsize = 20,\n",
    "    legend = (0.03, 0.98),\n",
    "    foreground_color_axis = \"black\",\n",
    "    foreground_color_border = \"black\",\n",
    "    foreground_color_guide = \"darkorange\",\n",
    "    foreground_color_text = \"black\",\n",
    "    guidefontcolor = \"black\",\n",
    "    plot_titlefontcolor = \"black\",\n",
    "    titlefontcolor = \"black\",\n",
    "    shape = [:circle],\n",
    "    markershape = [:circle]\n",
    ")"
   ]
  },
  {
   "cell_type": "code",
   "execution_count": 5,
   "id": "08e01913-1caa-4f97-94be-561c33ab7468",
   "metadata": {},
   "outputs": [
    {
     "data": {
      "text/plain": [
       "\"/home/frisus95/Scrivania/Monte_Carlo_divergences\""
      ]
     },
     "execution_count": 5,
     "metadata": {},
     "output_type": "execute_result"
    }
   ],
   "source": [
    "FOLDER_WITH_DATA = \"/home/frisus95/Scrivania/Monte_Carlo_divergences\""
   ]
  },
  {
   "cell_type": "markdown",
   "id": "d0cfa10e-b44e-43bd-9230-9d7e62f87ebc",
   "metadata": {
    "tags": []
   },
   "source": [
    "## BF self-energy"
   ]
  },
  {
   "cell_type": "code",
   "execution_count": 18,
   "id": "d9c9117b-ed0d-4d0d-88c7-5227a62320f3",
   "metadata": {},
   "outputs": [],
   "source": [
    "CUTOFF = 10\n",
    "JB = 0.5\n",
    "IB = 0\n",
    "\n",
    "ampls = vec(\n",
    "    Matrix(\n",
    "        DataFrame(\n",
    "            CSV.File(\n",
    "                \"$(FOLDER_WITH_DATA)/data/self_energy/jb_$(JB)/exact/BF/ampls_cutoff_$(CUTOFF)_ib_$(IB).0.csv\",\n",
    "            ),\n",
    "        ),\n",
    "    ),\n",
    ")\n",
    "\n",
    "for MC_ITERATIONS in [10^3, 10^4, 10^5]\n",
    "\n",
    "    ampls_MC = Matrix(\n",
    "        DataFrame(\n",
    "            CSV.File(\n",
    "                \"$(FOLDER_WITH_DATA)/data/self_energy/jb_$(JB)/monte_carlo/Nmc_$(MC_ITERATIONS)/BF/ampls_cutoff_$(CUTOFF)_ib_$(IB).0.csv\",\n",
    "            ),\n",
    "        ),\n",
    "    )\n",
    "\n",
    "    pl1 = plot(\n",
    "        0.5:0.5:10,\n",
    "        [ampls[2:end], ampls_MC[2:end, 1]],\n",
    "        label = [\"Exact amplitude\" \"MC estimate\"],\n",
    "        markershape = [:circle :circle :circle],\n",
    "        shape = [:circle :circle :circle],\n",
    "        #xticks = 0:0.5:10, \n",
    "        legend = (0.10, 0.97),\n",
    "        yscale = :log10,\n",
    "        xscale = :log10,\n",
    "        palette = palette([:blue, :skyblue], 2),\n",
    "        legendfontsize = 22,\n",
    "    )\n",
    "    xlabel!(L\"K\")\n",
    "    title!(L\"\\textrm{Self energy BF} \\left(j_b=%$JB, \\, i_b=%$IB \\right)\")\n",
    "    savefig(\"./plots/BF/self_energy_MC_$(MC_ITERATIONS).pdf\")\n",
    "\n",
    "    pl1 = plot(\n",
    "        0.5:0.5:10,\n",
    "        [ampls_MC[2:end, 1]],\n",
    "        label = [\"MC estimate\"],\n",
    "        markershape = [:circle :circle :circle],\n",
    "        shape = [:circle :circle :circle],\n",
    "        yerror = ampls_MC[2:end, 2],\n",
    "        #xticks = 0:0.5:10, \n",
    "        legend = (0.10, 0.97),\n",
    "        yscale = :log10,\n",
    "        xscale = :log10,\n",
    "        markerstrokewidth = 10,\n",
    "        #palette = palette([:skyblue, :red], 2),\n",
    "        legendfontsize = 22,\n",
    "    )\n",
    "    xlabel!(L\"K\")\n",
    "    title!(L\"\\textrm{Self energy BF} \\left(j_b=%$JB, \\, i_b=%$IB \\right)\")\n",
    "    savefig(\"./plots/BF/self_energy_MC_$(MC_ITERATIONS)_error.pdf\")\n",
    "\n",
    "end"
   ]
  },
  {
   "cell_type": "markdown",
   "id": "bc876c10-7bd8-4138-81dd-a4b278b4c63c",
   "metadata": {},
   "source": [
    "## EPRL self-energy"
   ]
  },
  {
   "cell_type": "code",
   "execution_count": 17,
   "id": "7789c00c-302f-4cbe-b081-05c76cbeb6a2",
   "metadata": {},
   "outputs": [],
   "source": [
    "CUTOFF = 10\n",
    "JB = 0.5\n",
    "IB = 0\n",
    "IMMIRZI = 0.1\n",
    "\n",
    "for MC_ITERATIONS in [10^3, 10^4, 10^5]\n",
    "\n",
    "    for Dl in [0]\n",
    "\n",
    "        ampls = Matrix(\n",
    "            DataFrame(\n",
    "                CSV.File(\n",
    "                    \"$(FOLDER_WITH_DATA)/data/self_energy/jb_$(JB)/exact/EPRL/immirzi_$(IMMIRZI)/Dl_$(Dl)/ampls_cutoff_$(CUTOFF)_ib_$(IB).0.csv\",\n",
    "                ),\n",
    "            ),\n",
    "        )\n",
    "\n",
    "        ampls_MC = Matrix(\n",
    "            DataFrame(\n",
    "                CSV.File(\n",
    "                    \"$(FOLDER_WITH_DATA)/data/self_energy/jb_$(JB)/monte_carlo/Nmc_$(MC_ITERATIONS)/EPRL/immirzi_$(IMMIRZI)/Dl_$(Dl)/ampls_cutoff_$(CUTOFF)_ib_$(IB).0.csv\",\n",
    "                ),\n",
    "            ),\n",
    "        )\n",
    "\n",
    "        pl1 = plot(\n",
    "            0.5:0.5:10,\n",
    "            [ampls[2:end], ampls_MC[2:end, 1]],\n",
    "            label = [\"Exact amplitude\" \"MC estimate\"],\n",
    "            markershape = [:circle :circle :circle],\n",
    "            shape = [:circle :circle :circle],\n",
    "            #xticks = 0:0.5:10, \n",
    "            legend = (0.10, 0.97),\n",
    "            palette = palette([:blue, :skyblue], 2),\n",
    "            legendfontsize = 22,\n",
    "        )\n",
    "        xlabel!(L\"K\")\n",
    "        title!(L\"\\textrm{Self energy EPRL} \\left(j_b=%$JB, \\, i_b=%$IB \\right)\")\n",
    "        savefig(\n",
    "            \"./plots/EPRL/self_energy_immirzi_$(IMMIRZI)_MC_$(MC_ITERATIONS)_Dl_$(Dl).pdf\",\n",
    "        )\n",
    "\n",
    "        pl1 = plot(\n",
    "            0.5:0.5:10,\n",
    "            [ampls_MC[2:end, 1]],\n",
    "            label = [\"MC estimate\"],\n",
    "            markershape = [:circle :circle :circle],\n",
    "            shape = [:circle :circle :circle],\n",
    "            yerror = ampls_MC[2:end, 2],\n",
    "            #xticks = 0:0.5:10, \n",
    "            legend = (0.10, 0.97),\n",
    "            markerstrokewidth = 10,\n",
    "            #palette = palette([:skyblue, :red], 2),\n",
    "            legendfontsize = 22,\n",
    "        )\n",
    "        xlabel!(L\"K\")\n",
    "        title!(L\"\\textrm{Self energy EPRL} \\left(j_b=%$JB, \\, i_b=%$IB \\right)\")\n",
    "        savefig(\n",
    "            \"./plots/EPRL/self_energy_immirzi_$(IMMIRZI)_MC_$(MC_ITERATIONS)_Dl_$(Dl)_error.pdf\",\n",
    "        )\n",
    "\n",
    "    end\n",
    "\n",
    "\n",
    "end"
   ]
  }
 ],
 "metadata": {
  "kernelspec": {
   "display_name": "Julia 1.7.2",
   "language": "julia",
   "name": "julia-1.7"
  },
  "language_info": {
   "file_extension": ".jl",
   "mimetype": "application/julia",
   "name": "julia",
   "version": "1.7.2"
  }
 },
 "nbformat": 4,
 "nbformat_minor": 5
}
