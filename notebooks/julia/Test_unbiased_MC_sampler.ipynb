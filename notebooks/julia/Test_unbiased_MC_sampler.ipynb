{
 "cells": [
  {
   "cell_type": "markdown",
   "id": "5fcdf65b-ff53-4e96-8678-f92c8bdb233d",
   "metadata": {},
   "source": [
    "# Testing the Monte Carlo sampler"
   ]
  },
  {
   "cell_type": "code",
   "execution_count": 1,
   "id": "b8f45789-cce1-454c-8490-f8fc7573ffba",
   "metadata": {},
   "outputs": [],
   "source": [
    "using HalfIntegers, JLD2, Distributions, SL2Cfoam, DataFrames, CSV, Random"
   ]
  },
  {
   "cell_type": "code",
   "execution_count": 2,
   "id": "efa0f14f-3842-49e4-aee5-0d2dbd897515",
   "metadata": {},
   "outputs": [
    {
     "data": {
      "text/plain": [
       "1-element Vector{Function}:\n",
       " format_current_cell (generic function with 1 method)"
      ]
     },
     "metadata": {},
     "output_type": "display_data"
    }
   ],
   "source": [
    "using JupyterFormatter\n",
    "enable_autoformat()"
   ]
  },
  {
   "cell_type": "markdown",
   "id": "4ba4319e-eb42-4249-9a80-4232747bcb6f",
   "metadata": {},
   "source": [
    "The function in the cell below is the generator of bulk spins configurations that we use in the exact calculation."
   ]
  },
  {
   "cell_type": "code",
   "execution_count": 3,
   "id": "44aded76-15d7-4caf-b439-decfdd54a219",
   "metadata": {},
   "outputs": [
    {
     "data": {
      "text/plain": [
       "self_energy_spins_conf (generic function with 2 methods)"
      ]
     },
     "metadata": {},
     "output_type": "display_data"
    }
   ],
   "source": [
    "# store self-energy spins configurations for all partial cutoffs up to cutoff\n",
    "function self_energy_spins_conf(cutoff, jb::HalfInt, configs_path::String, step = half(1))\n",
    "\n",
    "    total_number_spins_configs = Int[]\n",
    "\n",
    "    # loop over partial cutoffs\n",
    "    for pcutoff = 0:step:cutoff\n",
    "\n",
    "        # generate a list of all spins to compute\n",
    "        spins_configurations = NTuple{6,HalfInt8}[]\n",
    "\n",
    "        for j23::HalfInt = 0:step:pcutoff,\n",
    "            j24::HalfInt = 0:step:pcutoff,\n",
    "            j25::HalfInt = 0:step:pcutoff,\n",
    "            j34::HalfInt = 0:step:pcutoff,\n",
    "            j35::HalfInt = 0:step:pcutoff,\n",
    "            j45::HalfInt = 0:step:pcutoff\n",
    "\n",
    "            # skip if computed in lower partial cutoff\n",
    "            j23 <= (pcutoff - step) &&\n",
    "                j24 <= (pcutoff - step) &&\n",
    "                j25 <= (pcutoff - step) &&\n",
    "                j34 <= (pcutoff - step) &&\n",
    "                j35 <= (pcutoff - step) &&\n",
    "                j45 <= (pcutoff - step) &&\n",
    "                continue\n",
    "\n",
    "            # skip if any intertwiner range empty\n",
    "            r2, _ = intertwiner_range(jb, j25, j24, j23)\n",
    "            r3, _ = intertwiner_range(j23, jb, j34, j35)\n",
    "            r4, _ = intertwiner_range(j34, j24, jb, j45)\n",
    "            r5, _ = intertwiner_range(j45, j35, j25, jb)\n",
    "\n",
    "            isempty(r2) && continue\n",
    "            isempty(r3) && continue\n",
    "            isempty(r4) && continue\n",
    "            isempty(r5) && continue\n",
    "\n",
    "            # must be computed\n",
    "            push!(spins_configurations, (j23, j24, j25, j34, j35, j45))\n",
    "\n",
    "        end\n",
    "\n",
    "        # store partial spins configurations at pctuoff\n",
    "        @save \"$(configs_path)/configs_pcutoff_$(twice(pcutoff)/2).jld2\" spins_configurations\n",
    "\n",
    "        total_conf = size(spins_configurations)[1]\n",
    "\n",
    "        if (!isempty(total_number_spins_configs))\n",
    "            total_conf += total_number_spins_configs[end]\n",
    "        end\n",
    "\n",
    "        println(\"configurations at partial cutoff = $pcutoff: $(total_conf)\")\n",
    "        push!(total_number_spins_configs, total_conf)\n",
    "\n",
    "    end\n",
    "\n",
    "    # store total spins configurations at total cutoff\n",
    "    total_number_spins_configs_df =\n",
    "        DataFrame(total_spins_configs = total_number_spins_configs)\n",
    "    CSV.write(\n",
    "        \"$(configs_path)/spins_configurations_cutoff_$(twice(cutoff)/2).csv\",\n",
    "        total_number_spins_configs_df,\n",
    "    )\n",
    "\n",
    "end"
   ]
  },
  {
   "cell_type": "markdown",
   "id": "f32e0308-4fcd-4a5e-8402-1922e74344fa",
   "metadata": {},
   "source": [
    "In the present context, it is better to store configurations using a hash table. \n",
    "\n",
    "The function below is more than one order of magnitude slower than the one above (and the stored configurations occupy much more memory), but the advantage emerges in the retrieving phase"
   ]
  },
  {
   "cell_type": "code",
   "execution_count": 4,
   "id": "e9d5bc27-1809-4c53-820b-d19d2afe8707",
   "metadata": {},
   "outputs": [
    {
     "data": {
      "text/plain": [
       "self_energy_spins_conf_Dict (generic function with 2 methods)"
      ]
     },
     "metadata": {},
     "output_type": "display_data"
    }
   ],
   "source": [
    "# store self-energy spins configurations for all partial cutoffs up to cutoff\n",
    "function self_energy_spins_conf_Dict(\n",
    "    cutoff,\n",
    "    jb::HalfInt,\n",
    "    configs_path::String,\n",
    "    step = half(1),\n",
    ")\n",
    "\n",
    "    # loop over partial cutoffs\n",
    "    for pcutoff = 0:step:cutoff\n",
    "\n",
    "        # generate a Dict (hash table) of all spins to compute\n",
    "        spins_configurations = Dict{Vector{HalfInt8},Int}()\n",
    "\n",
    "        index_in_list = 0\n",
    "\n",
    "        for j23::HalfInt8 = 0:step:pcutoff,\n",
    "            j24::HalfInt8 = 0:step:pcutoff,\n",
    "            j25::HalfInt8 = 0:step:pcutoff,\n",
    "            j34::HalfInt8 = 0:step:pcutoff,\n",
    "            j35::HalfInt8 = 0:step:pcutoff,\n",
    "            j45::HalfInt8 = 0:step:pcutoff\n",
    "\n",
    "            # skip if computed in lower partial cutoff\n",
    "            j23 <= (pcutoff - step) &&\n",
    "                j24 <= (pcutoff - step) &&\n",
    "                j25 <= (pcutoff - step) &&\n",
    "                j34 <= (pcutoff - step) &&\n",
    "                j35 <= (pcutoff - step) &&\n",
    "                j45 <= (pcutoff - step) &&\n",
    "                continue\n",
    "\n",
    "            # skip if any intertwiner range empty\n",
    "            r2, _ = intertwiner_range(jb, j25, j24, j23)\n",
    "            r3, _ = intertwiner_range(j23, jb, j34, j35)\n",
    "            r4, _ = intertwiner_range(j34, j24, jb, j45)\n",
    "            r5, _ = intertwiner_range(j45, j35, j25, jb)\n",
    "\n",
    "            isempty(r2) && continue\n",
    "            isempty(r3) && continue\n",
    "            isempty(r4) && continue\n",
    "            isempty(r5) && continue\n",
    "\n",
    "            # must be computed\n",
    "            index_in_list += 1\n",
    "            spins_configurations[[j23, j24, j25, j34, j35, j45]] = index_in_list\n",
    "\n",
    "\n",
    "        end\n",
    "\n",
    "        # store partial spins configurations at pctuoff\n",
    "        @save \"$(configs_path)/Dict_configs_pcutoff_$(twice(pcutoff)/2).jld2\" spins_configurations\n",
    "\n",
    "        total_conf = index_in_list\n",
    "\n",
    "        println(\"configurations at partial cutoff = $pcutoff: $(index_in_list)\")\n",
    "\n",
    "    end\n",
    "\n",
    "end"
   ]
  },
  {
   "cell_type": "markdown",
   "id": "027d2ebf-e231-46a0-afb6-3401e55163ab",
   "metadata": {},
   "source": [
    "This is the Monte Carlo sampler used in the code:"
   ]
  },
  {
   "cell_type": "code",
   "execution_count": 5,
   "id": "3b97ac97-ebdf-4f2c-8989-6ecd282ba8b3",
   "metadata": {},
   "outputs": [
    {
     "data": {
      "text/plain": [
       "self_energy_MC_sampling (generic function with 2 methods)"
      ]
     },
     "metadata": {},
     "output_type": "display_data"
    }
   ],
   "source": [
    "# store Monte Carlo self-energy spins configurations for all partial cutoffs up to cutoff\n",
    "function self_energy_MC_sampling(cutoff, Nmc::Int, jb::HalfInt, MC_configs_path::String, step=half(1))\n",
    "\n",
    "    MC_draws = Array{HalfInt8}(undef, 6, Nmc)\n",
    "    draw_float_sample = Array{Float64}(undef, 1)\n",
    "\n",
    "    # loop over partial cutoffs\n",
    "    for pcutoff = step:step:cutoff\n",
    "\n",
    "        distr = Uniform(0, Int(2 * pcutoff + 1))\n",
    "\n",
    "        for n = 1:Nmc\n",
    "\n",
    "            while true\n",
    "\n",
    "                # sampling j23, j24, j25 for the 4j with spins [j23, j24, j25, jb]\n",
    "                for i = 1:3\n",
    "                    rand!(distr, draw_float_sample)\n",
    "                    MC_draws[i, n] = half(floor(draw_float_sample[1]))\n",
    "                end\n",
    "\n",
    "                # sampling j34, j35 for the 4j with spins [j34, j35, jb, j23]\n",
    "                for i = 4:5\n",
    "                    rand!(distr, draw_float_sample)\n",
    "                    MC_draws[i, n] = half(floor(draw_float_sample[1]))\n",
    "                end\n",
    "\n",
    "                # sampling j45 for the 4j with spins [j45, jb, j24, j34]\n",
    "                for i = 6:6\n",
    "                    rand!(distr, draw_float_sample)\n",
    "                    MC_draws[i, n] = half(floor(draw_float_sample[1]))\n",
    "                end\n",
    "\n",
    "                # skip if computed in lower partial cutoff\n",
    "                MC_draws[1, n] <= (pcutoff - step) && MC_draws[2, n] <= (pcutoff - step) &&\n",
    "                    MC_draws[3, n] <= (pcutoff - step) && MC_draws[4, n] <= (pcutoff - step) &&\n",
    "                    MC_draws[5, n] <= (pcutoff - step) && MC_draws[6, n] <= (pcutoff - step) && continue\n",
    "\n",
    "                # check that 4j with spins [j45, jb, j24, j34] satisfies triangular inequalities\n",
    "                r, _ = intertwiner_range(\n",
    "                    MC_draws[6, n],\n",
    "                    jb,\n",
    "                    MC_draws[2, n],\n",
    "                    MC_draws[4, n]\n",
    "                )\n",
    "                isempty(r) && continue\n",
    "\n",
    "                # check that 4j with spins [j34, j35, jb, j23] satisfies triangular inequalities\n",
    "                r, _ = intertwiner_range(\n",
    "                    MC_draws[4, n],\n",
    "                    MC_draws[5, n],\n",
    "                    jb,\n",
    "                    MC_draws[1, n]\n",
    "                )\n",
    "                isempty(r) && continue\n",
    "\n",
    "                # check that 4j with spins [j23, j24, j25, jb] satisfies triangular inequalities\n",
    "                r, _ = intertwiner_range(\n",
    "                    MC_draws[1, n],\n",
    "                    MC_draws[2, n],\n",
    "                    MC_draws[3, n],\n",
    "                    jb\n",
    "                )\n",
    "                isempty(r) && continue\n",
    "\n",
    "                # check that 4j with spins [jb, j25, j35, j45] satisfies triangular inequalities\n",
    "                r, _ = intertwiner_range(\n",
    "                    jb,\n",
    "                    MC_draws[3, n],\n",
    "                    MC_draws[5, n],\n",
    "                    MC_draws[6, n],\n",
    "                )\n",
    "                isempty(r) && continue\n",
    "\n",
    "                # bulk spins have passed all tests -> must be computed\n",
    "                break\n",
    "\n",
    "            end\n",
    "\n",
    "        end\n",
    "\n",
    "        # store MC spins indices \n",
    "        @save \"$(MC_configs_path)/MC_draws_pcutoff_$(twice(pcutoff)/2).jld2\" MC_draws\n",
    "\n",
    "    end\n",
    "\n",
    "end"
   ]
  },
  {
   "cell_type": "code",
   "execution_count": 6,
   "id": "ffa799fe-404a-41b5-9f8f-48cd5c4017f3",
   "metadata": {},
   "outputs": [
    {
     "data": {
      "text/plain": [
       "1000"
      ]
     },
     "metadata": {},
     "output_type": "display_data"
    }
   ],
   "source": [
    "CUTOFF = half(20)\n",
    "JB = half(1)\n",
    "PATH = \"./MC_sampler_test\"\n",
    "mkpath(PATH)\n",
    "MONTE_CARLO_ITERATIONS = 10^3"
   ]
  },
  {
   "cell_type": "markdown",
   "id": "fb89e521-c139-4867-93ad-7067d413abec",
   "metadata": {},
   "source": [
    "## Step 1"
   ]
  },
  {
   "cell_type": "markdown",
   "id": "fa69fa76-d895-4cf7-87c9-916294b29ba1",
   "metadata": {},
   "source": [
    "Let's compute and store all the configurations for each partial cutoff (alias \"LISTONE\") using the hash table version"
   ]
  },
  {
   "cell_type": "code",
   "execution_count": 8,
   "id": "4bab4c11-a8a1-4709-94d9-9c8df71746bf",
   "metadata": {},
   "outputs": [
    {
     "name": "stdout",
     "output_type": "stream",
     "text": [
      "configurations at partial cutoff = 0: 0\n",
      "configurations at partial cutoff = 1/2: 8\n",
      "configurations at partial cutoff = 1: 73\n",
      "configurations at partial cutoff = 3/2: 286\n",
      "configurations at partial cutoff = 2: 758\n",
      "configurations at partial cutoff = 5/2: 1728\n",
      "configurations at partial cutoff = 3: 3399\n",
      "configurations at partial cutoff = 7/2: 6242\n"
     ]
    },
    {
     "name": "stdout",
     "output_type": "stream",
     "text": [
      "configurations at partial cutoff = 4: 10564\n",
      "configurations at partial cutoff = 9/2: 17164\n"
     ]
    },
    {
     "name": "stdout",
     "output_type": "stream",
     "text": [
      "configurations at partial cutoff = 5: 26453\n"
     ]
    },
    {
     "name": "stdout",
     "output_type": "stream",
     "text": [
      "configurations at partial cutoff = 11/2: 39666\n"
     ]
    },
    {
     "name": "stdout",
     "output_type": "stream",
     "text": [
      "configurations at partial cutoff = 6: 57306\n"
     ]
    },
    {
     "name": "stdout",
     "output_type": "stream",
     "text": [
      "configurations at partial cutoff = 13/2: 81164\n"
     ]
    },
    {
     "name": "stdout",
     "output_type": "stream",
     "text": [
      "configurations at partial cutoff = 7: 111811\n"
     ]
    },
    {
     "name": "stdout",
     "output_type": "stream",
     "text": [
      "configurations at partial cutoff = 15/2: 151726\n"
     ]
    },
    {
     "name": "stdout",
     "output_type": "stream",
     "text": [
      "configurations at partial cutoff = 8: 201512\n"
     ]
    },
    {
     "name": "stdout",
     "output_type": "stream",
     "text": [
      "configurations at partial cutoff = 17/2: 264480\n"
     ]
    },
    {
     "name": "stdout",
     "output_type": "stream",
     "text": [
      "configurations at partial cutoff = 9: 341217\n"
     ]
    },
    {
     "name": "stdout",
     "output_type": "stream",
     "text": [
      "configurations at partial cutoff = 19/2: 436022\n"
     ]
    },
    {
     "name": "stdout",
     "output_type": "stream",
     "text": [
      "configurations at partial cutoff = 10: 549406\n",
      " 14.389159 seconds (78.25 M allocations: 3.882 GiB, 8.63% gc time)\n"
     ]
    }
   ],
   "source": [
    "@time self_energy_spins_conf_Dict(CUTOFF, JB, PATH)"
   ]
  },
  {
   "cell_type": "markdown",
   "id": "a79e2455-95f9-4a2e-9454-5faa478e6c6a",
   "metadata": {},
   "source": [
    "## Step 2"
   ]
  },
  {
   "cell_type": "markdown",
   "id": "2a730045-4ca2-495e-8ac1-9783d95994f0",
   "metadata": {},
   "source": [
    "Let's compute and store all the sampled Monte Carlo configurations which DO NOT USE THE LISTONE"
   ]
  },
  {
   "cell_type": "code",
   "execution_count": 10,
   "id": "0b2124a1-023a-4f66-9710-52a938a187e0",
   "metadata": {},
   "outputs": [
    {
     "name": "stdout",
     "output_type": "stream",
     "text": [
      "  0.125282 seconds (4.64 k allocations: 327.734 KiB)\n"
     ]
    }
   ],
   "source": [
    "@time self_energy_MC_sampling(CUTOFF, MONTE_CARLO_ITERATIONS, JB, PATH)"
   ]
  },
  {
   "cell_type": "markdown",
   "id": "64994223-3419-443c-9c3e-ac07099fcd3f",
   "metadata": {},
   "source": [
    "## Step 3"
   ]
  },
  {
   "cell_type": "markdown",
   "id": "8672692b-c1d2-45c2-bd92-5f300ddeab83",
   "metadata": {},
   "source": [
    "Now, for each pcutoff, we retrieve both the list of spins configurations computed exactly and the spins sampled with MC.\n",
    "\n",
    "For each spin configuration sampled with MC; we save the corresponding position in the LISTONE.\n",
    "\n",
    "In order for the sampler to be really unbiased, the position variable has to be distributed uniformly between 1 and number of configurations at each pcutoff."
   ]
  },
  {
   "cell_type": "code",
   "execution_count": 15,
   "id": "eccdf5b2-08f8-47ee-bc3b-d17d039ab793",
   "metadata": {},
   "outputs": [
    {
     "data": {
      "text/plain": [
       "Test_sampler (generic function with 2 methods)"
      ]
     },
     "metadata": {},
     "output_type": "display_data"
    }
   ],
   "source": [
    "function Test_sampler(cutoff, jb::HalfInt, configs_path::String, Nmc::Int, step = half(1))\n",
    "\n",
    "    # loop over partial cutoffs\n",
    "    for pcutoff = step:step:cutoff\n",
    "\n",
    "        @load \"$(configs_path)/Dict_configs_pcutoff_$(twice(pcutoff)/2).jld2\" spins_configurations\n",
    "        @load \"$(configs_path)/MC_draws_pcutoff_$(twice(pcutoff)/2).jld2\" MC_draws\n",
    "\n",
    "        indices_set = Int[]\n",
    "\n",
    "        for mc_index = 1:Nmc\n",
    "\n",
    "            index_listone = spins_configurations[MC_draws[:, mc_index]]\n",
    "\n",
    "            push!(indices_set, index_listone)\n",
    "\n",
    "        end\n",
    "\n",
    "        number_of_configs = length(spins_configurations)\n",
    "\n",
    "        println(\"CONFIGURATIONS AT PCUTOFF = $pcutoff: $(number_of_configs)\\n\")\n",
    "\n",
    "        expected_mean = (1 + number_of_configs) / 2\n",
    "        expected_skewness = 0.0\n",
    "        expected_var = (number_of_configs^2 - 1) / 12\n",
    "\n",
    "        computed_mean = mean(indices_set)\n",
    "        computed_skewness = skewness(indices_set)\n",
    "        computed_var = var(indices_set)\n",
    "\n",
    "        println(\"expected mean = $(expected_mean)\")\n",
    "        println(\"computed mean = $(computed_mean)\\n\")\n",
    "\n",
    "        println(\"expected skewness = $(expected_skewness)\")\n",
    "        println(\"computed skewness = $(computed_skewness)\\n\")\n",
    "\n",
    "        println(\"expected var = $(expected_var)\")\n",
    "        println(\"computed var = $(computed_var)\\n\\n\")\n",
    "\n",
    "    end\n",
    "\n",
    "end"
   ]
  },
  {
   "cell_type": "code",
   "execution_count": 16,
   "id": "23924b67-7c36-414a-8ebc-486e72cc3fdc",
   "metadata": {},
   "outputs": [
    {
     "name": "stdout",
     "output_type": "stream",
     "text": [
      "CONFIGURATIONS AT PCUTOFF = 1/2: 8\n",
      "\n",
      "expected mean = 4.5\n",
      "computed mean = 4.472\n",
      "\n",
      "expected skewness = 0.0\n",
      "computed skewness = 0.0386414326496776\n",
      "\n",
      "expected var = 5.25\n",
      "computed var = 5.176392392392392\n",
      "\n",
      "\n",
      "CONFIGURATIONS AT PCUTOFF = 1: 73\n",
      "\n",
      "expected mean = 37.0\n",
      "computed mean = 37.615\n",
      "\n",
      "expected skewness = 0.0\n",
      "computed skewness = -0.019489057396469354\n",
      "\n",
      "expected var = 444.0\n",
      "computed var = 439.7425175175175\n",
      "\n",
      "\n",
      "CONFIGURATIONS AT PCUTOFF = 3/2: 286\n",
      "\n",
      "expected mean = 143.5\n",
      "computed mean = 146.778\n",
      "\n",
      "expected skewness = 0.0\n",
      "computed skewness = -0.06234219786906478\n",
      "\n",
      "expected var = 6816.25\n",
      "computed var = 7298.93364964965\n",
      "\n",
      "\n",
      "CONFIGURATIONS AT PCUTOFF = 2: 758\n",
      "\n",
      "expected mean = 379.5\n",
      "computed mean = 368.877\n",
      "\n",
      "expected skewness = 0.0\n",
      "computed skewness = 0.03142154077499181\n",
      "\n",
      "expected var = 47880.25\n",
      "computed var = 47412.10797897898\n",
      "\n",
      "\n",
      "CONFIGURATIONS AT PCUTOFF = 5/2: 1728\n",
      "\n",
      "expected mean = 864.5\n",
      "computed mean = 868.206\n",
      "\n",
      "expected skewness = 0.0\n",
      "computed skewness = 0.03189606237105071\n",
      "\n",
      "expected var = 248831.91666666666\n",
      "computed var = 246063.19475875876\n",
      "\n",
      "\n",
      "CONFIGURATIONS AT PCUTOFF = 3: 3399\n",
      "\n",
      "expected mean = 1700.0\n",
      "computed mean = 1698.396\n",
      "\n",
      "expected skewness = 0.0\n",
      "computed skewness = 0.024016398111915686\n",
      "\n",
      "expected var = 962766.6666666666\n",
      "computed var = 997680.930114114\n",
      "\n",
      "\n",
      "CONFIGURATIONS AT PCUTOFF = 7/2: 6242\n",
      "\n",
      "expected mean = 3121.5\n",
      "computed mean = 3220.15\n",
      "\n",
      "expected skewness = 0.0\n",
      "computed skewness = -0.09603734459680521\n",
      "\n",
      "expected var = 3.24688025e6\n",
      "computed var = 3.327493472972974e6\n",
      "\n",
      "\n",
      "CONFIGURATIONS AT PCUTOFF = 4: 10564\n",
      "\n",
      "expected mean = 5282.5\n",
      "computed mean = 5275.49\n",
      "\n",
      "expected skewness = 0.0\n",
      "computed skewness = -0.006860858856031108\n",
      "\n",
      "expected var = 9.29984125e6\n",
      "computed var = 9.157583287187185e6\n",
      "\n",
      "\n",
      "CONFIGURATIONS AT PCUTOFF = 9/2: 17164\n",
      "\n",
      "expected mean = 8582.5\n",
      "computed mean = 8781.376\n",
      "\n",
      "expected skewness = 0.0\n",
      "computed skewness = -0.027369049597510867\n",
      "\n",
      "expected var = 2.455024125e7\n",
      "computed var = 2.446728375638038e7\n",
      "\n",
      "\n"
     ]
    },
    {
     "name": "stdout",
     "output_type": "stream",
     "text": [
      "CONFIGURATIONS AT PCUTOFF = 5: 26453\n",
      "\n",
      "expected mean = 13227.0\n",
      "computed mean = 13416.37\n",
      "\n",
      "expected skewness = 0.0\n",
      "computed skewness = -0.03729586085418951\n",
      "\n",
      "expected var = 5.8313434e7\n",
      "computed var = 5.8305256227327324e7\n",
      "\n",
      "\n"
     ]
    },
    {
     "name": "stdout",
     "output_type": "stream",
     "text": [
      "CONFIGURATIONS AT PCUTOFF = 11/2: 39666\n",
      "\n",
      "expected mean = 19833.5\n",
      "computed mean = 19887.43\n",
      "\n",
      "expected skewness = 0.0\n",
      "computed skewness = 0.04606843906210031\n",
      "\n",
      "expected var = 1.3111596291666667e8\n",
      "computed var = 1.328381082873874e8\n",
      "\n",
      "\n"
     ]
    },
    {
     "name": "stdout",
     "output_type": "stream",
     "text": [
      "CONFIGURATIONS AT PCUTOFF = 6: 57306\n",
      "\n",
      "expected mean = 28653.5\n",
      "computed mean = 27956.903\n",
      "\n",
      "expected skewness = 0.0\n",
      "computed skewness = 0.0276225481077604\n",
      "\n",
      "expected var = 2.736648029166667e8\n",
      "computed var = 2.5634287627786884e8\n",
      "\n",
      "\n"
     ]
    },
    {
     "name": "stdout",
     "output_type": "stream",
     "text": [
      "CONFIGURATIONS AT PCUTOFF = 13/2: 81164\n",
      "\n",
      "expected mean = 40582.5\n",
      "computed mean = 41002.126\n",
      "\n",
      "expected skewness = 0.0\n",
      "computed skewness = -0.07082756423108895\n",
      "\n",
      "expected var = 5.4896624125e8\n",
      "computed var = 5.478230215716958e8\n",
      "\n",
      "\n"
     ]
    },
    {
     "name": "stdout",
     "output_type": "stream",
     "text": [
      "CONFIGURATIONS AT PCUTOFF = 7: 111811\n",
      "\n",
      "expected mean = 55906.0\n",
      "computed mean = 53554.687\n",
      "\n",
      "expected skewness = 0.0\n",
      "computed skewness = 0.10748298745354021\n",
      "\n",
      "expected var = 1.04180831e9\n",
      "computed var = 1.087481541812844e9\n",
      "\n",
      "\n"
     ]
    },
    {
     "name": "stdout",
     "output_type": "stream",
     "text": [
      "CONFIGURATIONS AT PCUTOFF = 15/2: 151726\n",
      "\n",
      "expected mean = 75863.5\n",
      "computed mean = 78056.26\n",
      "\n",
      "expected skewness = 0.0\n",
      "computed skewness = -0.07563921842537849\n",
      "\n",
      "expected var = 1.91839825625e9\n",
      "computed var = 1.963180182578979e9\n",
      "\n",
      "\n"
     ]
    },
    {
     "name": "stdout",
     "output_type": "stream",
     "text": [
      "CONFIGURATIONS AT PCUTOFF = 8: 201512\n",
      "\n",
      "expected mean = 100756.5\n",
      "computed mean = 101347.806\n",
      "\n",
      "expected skewness = 0.0\n",
      "computed skewness = 0.0072719535620843\n",
      "\n",
      "expected var = 3.38392384525e9\n",
      "computed var = 3.4548705166490126e9\n",
      "\n",
      "\n"
     ]
    },
    {
     "name": "stdout",
     "output_type": "stream",
     "text": [
      "CONFIGURATIONS AT PCUTOFF = 17/2: 264480\n",
      "\n",
      "expected mean = 132240.5\n",
      "computed mean = 134434.086\n",
      "\n",
      "expected skewness = 0.0\n",
      "computed skewness = -0.018903182272425493\n",
      "\n",
      "expected var = 5.829139199916667e9\n",
      "computed var = 5.690838266206811e9\n",
      "\n",
      "\n"
     ]
    },
    {
     "name": "stdout",
     "output_type": "stream",
     "text": [
      "CONFIGURATIONS AT PCUTOFF = 9: 341217\n",
      "\n",
      "expected mean = 170609.0\n",
      "computed mean = 174590.12\n",
      "\n",
      "expected skewness = 0.0\n",
      "computed skewness = -0.00046433486365888795\n",
      "\n",
      "expected var = 9.702420090666666e9\n",
      "computed var = 9.57780104929089e9\n",
      "\n",
      "\n"
     ]
    },
    {
     "name": "stdout",
     "output_type": "stream",
     "text": [
      "CONFIGURATIONS AT PCUTOFF = 19/2: 436022\n",
      "\n",
      "expected mean = 218011.5\n",
      "computed mean = 224823.685\n",
      "\n",
      "expected skewness = 0.0\n",
      "computed skewness = -0.07405474253696678\n",
      "\n",
      "expected var = 1.584293204025e10\n",
      "computed var = 1.5695582579325098e10\n",
      "\n",
      "\n"
     ]
    },
    {
     "name": "stdout",
     "output_type": "stream",
     "text": [
      "CONFIGURATIONS AT PCUTOFF = 10: 549406\n",
      "\n",
      "expected mean = 274703.5\n",
      "computed mean = 277866.999\n",
      "\n",
      "expected skewness = 0.0\n",
      "computed skewness = 0.010608004250355477\n",
      "\n",
      "expected var = 2.515391273625e10\n",
      "computed var = 2.561844706698198e10\n",
      "\n",
      "\n"
     ]
    }
   ],
   "source": [
    "Test_sampler(CUTOFF, JB, PATH, MONTE_CARLO_ITERATIONS)"
   ]
  },
  {
   "cell_type": "code",
   "execution_count": null,
   "id": "3440c4ef",
   "metadata": {},
   "outputs": [],
   "source": []
  }
 ],
 "metadata": {
  "kernelspec": {
   "display_name": "Julia 1.8.0",
   "language": "julia",
   "name": "julia-1.8"
  },
  "language_info": {
   "file_extension": ".jl",
   "mimetype": "application/julia",
   "name": "julia",
   "version": "1.8.0"
  }
 },
 "nbformat": 4,
 "nbformat_minor": 5
}
