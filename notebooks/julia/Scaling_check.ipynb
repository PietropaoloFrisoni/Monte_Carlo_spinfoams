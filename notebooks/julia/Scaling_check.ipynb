{
 "cells": [
  {
   "cell_type": "markdown",
   "id": "d97e914c-7718-4648-8708-6e7459a09e86",
   "metadata": {},
   "source": [
    "# Scaling check"
   ]
  },
  {
   "cell_type": "code",
   "execution_count": 10,
   "id": "25d21739-0031-4ed3-b299-cdfb276a59d7",
   "metadata": {},
   "outputs": [],
   "source": [
    "using HalfIntegers\n",
    "using DelimitedFiles\n",
    "using CSV\n",
    "using DataFrames\n",
    "\n",
    "\n",
    "# set Plot style\n",
    "\n",
    "using Plots\n",
    "using Plots.PlotMeasures\n",
    "using LaTeXStrings\n",
    "\n",
    "# set backend and style\n",
    "pgfplotsx()\n",
    "theme(:default)\n",
    "default(markerstrokewidth = 0, \n",
    "        markerstrokealpha = 0, \n",
    "        linewidth = 2, \n",
    "        #grid=:none,   \n",
    "        gridlinewidth= 0.5,\n",
    "        markersize = 5,\n",
    "        markershape = :circle,\n",
    "        tickfontsize = 18, \n",
    "        size = (900, 600), \n",
    "        legendfontsize = 18, \n",
    "        guidefontsize=20,\n",
    "        titlefontsize = 20,\n",
    "        legend=(0.03,0.98), \n",
    "        foreground_color_axis = \"black\",\n",
    "        foreground_color_border = \"black\",\n",
    "        foreground_color_guide = \"darkorange\",\n",
    "        foreground_color_text = \"black\",\n",
    "        guidefontcolor = \"black\", \n",
    "        plot_titlefontcolor = \"black\",\n",
    "        titlefontcolor = \"black\", \n",
    "        shape=[:circle])"
   ]
  },
  {
   "cell_type": "code",
   "execution_count": 11,
   "id": "0329f258-c957-469b-a7d6-d41af570ad77",
   "metadata": {},
   "outputs": [
    {
     "data": {
      "text/plain": [
       "9-element Vector{Float64}:\n",
       "      0.0\n",
       "      2.267836276754566\n",
       "    778.7031304906774\n",
       "  45158.04252804824\n",
       " 861108.0899024778\n",
       "      1.0994214776838938e7\n",
       "      8.951926089729786e7\n",
       "      5.854047872463852e8\n",
       "      2.981021756908098e9"
      ]
     },
     "metadata": {},
     "output_type": "display_data"
    }
   ],
   "source": [
    "ampls = vec(Matrix(DataFrame(CSV.File(\"/home/frisus95/Scrivania/Monte_Carlo_divergences/data/vertex_renormalization/jb_0.5/exact/BF/ampls_cutoff_4.0_ib_0.0.csv\"))))"
   ]
  },
  {
   "cell_type": "code",
   "execution_count": 12,
   "id": "cc09ba06-cb1d-45e6-b798-e3c044bfce52",
   "metadata": {},
   "outputs": [
    {
     "data": {
      "text/plain": [
       "9-element Vector{Float64}:\n",
       "      0.0\n",
       "      0.0244140625\n",
       "    100.0\n",
       "  12974.6337890625\n",
       " 409600.0\n",
       "      5.9604644775390625e6\n",
       "      5.31441e7\n",
       "      3.3792205080566406e8\n",
       "      1.6777216e9"
      ]
     },
     "metadata": {},
     "output_type": "display_data"
    }
   ],
   "source": [
    "check = Float64[]\n",
    "\n",
    "for i in 0:0.5:4\n",
    "  push!(check, 100*i^12)  \n",
    "end\n",
    "\n",
    "check"
   ]
  },
  {
   "cell_type": "code",
   "execution_count": 15,
   "id": "86cf13be-f0a5-4bbd-becf-3751bea5add3",
   "metadata": {},
   "outputs": [],
   "source": [
    "pl1 = plot(0.5:0.5:4, \n",
    "    [ampls[2:end], check[2:end]],\n",
    "    label=[\"computed\" L\"10^2 \\cdot K^{12}\"],\n",
    "    markershape = [:circle :star],\n",
    "    shape = [:circle :star],\n",
    "    xticks = 0.5:0.5:4, \n",
    "    xscale=:log10,\n",
    "    yscale=:log10,\n",
    "    legend=(0.10,0.97), \n",
    "    palette = palette([:skyblue, :royalblue2]),\n",
    "    legendfontsize = 22)\n",
    "    xlabel!(L\"K\")\n",
    "    title!(L\"\\textrm{Vert. renorm. BF exact} \\, \\left(j_b=0.5, \\, i_b=0 \\right)\")\n",
    "savefig(\"./vertex_renorm_check.pdf\")   "
   ]
  }
 ],
 "metadata": {
  "kernelspec": {
   "display_name": "Julia 1.8.0",
   "language": "julia",
   "name": "julia-1.8"
  },
  "language_info": {
   "file_extension": ".jl",
   "mimetype": "application/julia",
   "name": "julia",
   "version": "1.8.0"
  }
 },
 "nbformat": 4,
 "nbformat_minor": 5
}
