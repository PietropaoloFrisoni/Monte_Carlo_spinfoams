{
 "cells": [
  {
   "cell_type": "markdown",
   "id": "66fea05f-7846-4b98-9445-073dfad3d127",
   "metadata": {},
   "source": [
    "# Notebook for plots"
   ]
  },
  {
   "cell_type": "code",
   "execution_count": 1,
   "id": "aee5d3d8-77f6-4fb9-af80-f26b8c83e19f",
   "metadata": {},
   "outputs": [],
   "source": [
    "using HalfIntegers\n",
    "using DelimitedFiles\n",
    "using CSV\n",
    "using DataFrames\n",
    "\n",
    "\n",
    "# set Plot style\n",
    "\n",
    "using Plots\n",
    "using Plots.PlotMeasures\n",
    "using LaTeXStrings\n",
    "\n",
    "# set backend and style\n",
    "pgfplotsx()\n",
    "theme(:default)\n",
    "default(markerstrokewidth = 0, \n",
    "        markerstrokealpha = 0, \n",
    "        linewidth = 2, \n",
    "        #grid=:none,   \n",
    "        gridlinewidth= 0.5,\n",
    "        markersize = 5,\n",
    "        markershape = :circle,\n",
    "        tickfontsize = 18, \n",
    "        size = (900, 600), \n",
    "        legendfontsize = 18, \n",
    "        guidefontsize=20,\n",
    "        titlefontsize = 20,\n",
    "        legend=(0.03,0.98), \n",
    "        foreground_color_axis = \"black\",\n",
    "        foreground_color_border = \"black\",\n",
    "        foreground_color_guide = \"darkorange\",\n",
    "        foreground_color_text = \"black\",\n",
    "        guidefontcolor = \"black\", \n",
    "        plot_titlefontcolor = \"black\",\n",
    "        titlefontcolor = \"black\", \n",
    "        shape=[:circle])"
   ]
  },
  {
   "cell_type": "code",
   "execution_count": 13,
   "id": "0e75549c-e494-4c31-b906-096330b55980",
   "metadata": {},
   "outputs": [
    {
     "data": {
      "text/plain": [
       "1000"
      ]
     },
     "execution_count": 13,
     "metadata": {},
     "output_type": "execute_result"
    }
   ],
   "source": [
    "CUTOFF = 10.0\n",
    "MC_ITERATIONS = 1000"
   ]
  },
  {
   "cell_type": "markdown",
   "id": "d0cfa10e-b44e-43bd-9230-9d7e62f87ebc",
   "metadata": {},
   "source": [
    "## BF self-energy"
   ]
  },
  {
   "cell_type": "code",
   "execution_count": 14,
   "id": "cc14eab8-80a6-4d2b-a27d-a6165fcc1326",
   "metadata": {},
   "outputs": [
    {
     "name": "stdout",
     "output_type": "stream",
     "text": [
      "ampls_MC = [0.0, 18.31511111111106, 336.60423611111105, 4021.211193888882, 23625.584214637176, 114513.96741137184, 427100.0592415504, 1.2986206573008737e6, 3.565056842567978e6, 8.958792382168135e6, 2.0007164437549725e7, 4.3232047746211e7, 8.676545513856675e7, 1.640158200702116e8, 3.0000680085474026e8, 5.2670066832307166e8, 9.015206018971332e8, 1.4711638821098802e9, 2.35865706729434e9, 3.7326101448215437e9, 5.639346939767004e9]\n",
      "ampls = [0.0, 17.944444444444443, 351.81944444444446, 4036.8150000000023, 24514.613469387765, 115535.07908163266, 418965.43027210876, 1.3175296938936901e6, 3.5862436553176683e6, 8.913799667163823e6, 2.0217887709183477e7, 4.3060217783452325e7, 8.609056967573586e7, 1.64357360762854e8, 2.9957659964757156e8, 5.271053418785647e8, 8.951935281928358e8, 1.478545295036699e9, 2.37478651992384e9, 3.7292215044068594e9, 5.725292596913422e9]\n"
     ]
    }
   ],
   "source": [
    "ampls_MC = vec(Matrix(DataFrame(CSV.File(\"./data_MC/BF/cutoff_$(CUTOFF)/MC_iterations_$(MC_ITERATIONS)/self_energy.csv\"))));\n",
    "@show ampls_MC;\n",
    "\n",
    "ampls = vec(Matrix(DataFrame(CSV.File(\"./data/BF/cutoff_$(CUTOFF)/self_energy.csv\"))));\n",
    "@show ampls;"
   ]
  },
  {
   "cell_type": "code",
   "execution_count": 15,
   "id": "3f9f320f-eaf2-4c12-ae6f-37a55c6ff0dd",
   "metadata": {},
   "outputs": [
    {
     "name": "stdout",
     "output_type": "stream",
     "text": [
      "exact_scaling = [0.0, 0.01123046875, 5.75, 221.04931640625, 2944.0, 21934.50927734375, 113177.25, 453189.92236328125, 1.507328e6, 4.350913694824219e6, 1.123046875e7, 2.6480857857910156e7, 5.7946752e7, 1.190934988178711e8, 2.3203324025e8, 4.3173694610595703e8, 7.71751936e8, 1.331797441128418e9, 2.22766781175e9, 3.623934105916504e9, 5.75e9]\n"
     ]
    }
   ],
   "source": [
    "exact_scaling = Float64[]\n",
    "\n",
    "for K in 0:0.5:10\n",
    "  push!(exact_scaling, 5.75*K^9)  \n",
    "end\n",
    "\n",
    "@show exact_scaling;"
   ]
  },
  {
   "cell_type": "code",
   "execution_count": 16,
   "id": "101f7b84-1c29-4b3b-9e62-c2a4cd624b50",
   "metadata": {},
   "outputs": [],
   "source": [
    "pl1 = plot(0.5:0.5:10, \n",
    "    [ampls[2:end], ampls_MC[2:end], exact_scaling[2:end]],\n",
    "    label=[\"Exact amplitude\" \"MC estimator\" L\"5.75 \\cdot K^9\"],\n",
    "    markershape = [:circle :circle :circle],\n",
    "    shape = [:circle :circle :circle],\n",
    "    #xticks = 0:0.5:10, \n",
    "    legend=(0.10,0.97), \n",
    "    yscale=:log10,\n",
    "    xscale=:log10,\n",
    "    palette = palette([:skyblue, :red], 3),\n",
    "    legendfontsize = 22)\n",
    "    xlabel!(L\"K\")\n",
    "    title!(L\"Self \\ energy \\, \\, BF \\, \\left(j_b=0.5, \\, i_b=0 \\right)\")\n",
    "savefig(\"./plots/BF_self_energy_MC_$(MC_ITERATIONS).pdf\")   "
   ]
  },
  {
   "cell_type": "markdown",
   "id": "bc876c10-7bd8-4138-81dd-a4b278b4c63c",
   "metadata": {},
   "source": [
    "## EPRL self-energy"
   ]
  },
  {
   "cell_type": "code",
   "execution_count": 23,
   "id": "ca0f39e3-2bc8-4a9f-9658-d558e82eded5",
   "metadata": {},
   "outputs": [
    {
     "data": {
      "text/plain": [
       "0"
      ]
     },
     "execution_count": 23,
     "metadata": {},
     "output_type": "execute_result"
    }
   ],
   "source": [
    "CUTOFF = 10.0\n",
    "MC_ITERATIONS = 1000\n",
    "IMMIRZI = 1.2\n",
    "Dl_MIN = 0\n",
    "Dl_MAX = 0"
   ]
  },
  {
   "cell_type": "code",
   "execution_count": 24,
   "id": "082f98f6-bf95-4a1c-8ef0-fe95543f7c74",
   "metadata": {},
   "outputs": [
    {
     "name": "stdout",
     "output_type": "stream",
     "text": [
      "ampls_MC = [0.0; 2.174131335299935e-14; 1.024336920694152e-13; 2.4209073377060184e-13; 4.240608220181687e-13; 6.372424936201299e-13; 8.631633691910327e-13; 1.089741300481555e-12; 1.3069442674365108e-12; 1.535550828664988e-12; 1.7341709757744784e-12; 1.924571309960287e-12; 2.1191341070362423e-12; 2.3192142274666184e-12; 2.479932266350543e-12; 2.6269553565271607e-12; 2.785072671531233e-12; 2.9271999532385578e-12; 3.0522005172411268e-12; 3.1557086078029443e-12; 3.2703932969888797e-12;;]\n",
      "ampls = [0.0; 2.1443188158057302e-14; 1.0020342244117781e-13; 2.4183824645978876e-13; 4.260132864895473e-13; 6.385896589965054e-13; 8.638286795997888e-13; 1.0935793036836084e-12; 1.3205501480386951e-12; 1.5414696952491553e-12; 1.7535272454702862e-12; 1.955827538821114e-12; 2.1475850502947353e-12; 2.328915466794074e-12; 2.4998887701504047e-12; 2.660999628629752e-12; 2.812646348886266e-12; 2.9554256114339144e-12; 3.0898316057865792e-12; 3.2164477119769395e-12; 3.335764915379414e-12;;]\n"
     ]
    }
   ],
   "source": [
    "ampls_MC = Matrix(DataFrame(CSV.File(\"./data_MC/EPRL/immirzi_1.2/cutoff_$(CUTOFF)/MC_iterations_$(MC_ITERATIONS)/self_energy_Dl_min_$(Dl_MIN)_Dl_max_$(Dl_MAX).csv\")))\n",
    "@show ampls_MC;\n",
    "\n",
    "ampls = Matrix(DataFrame(CSV.File(\"./data/EPRL/immirzi_1.2/cutoff_$(CUTOFF)/self_energy_Dl_min_$(Dl_MIN)_Dl_max_$(Dl_MAX).csv\")))\n",
    "@show ampls;"
   ]
  },
  {
   "cell_type": "code",
   "execution_count": 25,
   "id": "fa2d4f3c-cfff-4074-9800-655ca04683da",
   "metadata": {},
   "outputs": [],
   "source": [
    "pl1 = plot(0:0.5:10, \n",
    "    [ampls[:,1], ampls_MC[:,1]],\n",
    "    label=[\"Δl=0 exact ampl.\" \"Δl=0 MC estim.\"],\n",
    "    markershape = [:circle :circle :circle :circle :circle :circle :circle :circle],\n",
    "    shape = [:circle :circle :circle :circle :circle :circle :circle :circle],\n",
    "    xticks = 0:0.5:10, \n",
    "    legend=(0.10,0.97), \n",
    "    palette = palette([:skyblue, :red], 2),\n",
    "    legendfontsize = 22)\n",
    "    xlabel!(L\"K\")\n",
    "    title!(L\"Self \\ energy \\, \\, EPRL \\, \\left(j_b=0.5, \\, i_b=0, \\, \\gamma = 1.2 \\right)\")\n",
    "savefig(\"./plots/EPRL_self_energy_MC_$(MC_ITERATIONS).pdf\")  "
   ]
  }
 ],
 "metadata": {
  "kernelspec": {
   "display_name": "Julia 1.7.2",
   "language": "julia",
   "name": "julia-1.7"
  },
  "language_info": {
   "file_extension": ".jl",
   "mimetype": "application/julia",
   "name": "julia",
   "version": "1.7.2"
  }
 },
 "nbformat": 4,
 "nbformat_minor": 5
}
