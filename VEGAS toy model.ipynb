{
 "cells": [
  {
   "cell_type": "markdown",
   "id": "08b8ae99-d6a8-44aa-9f8d-e30f5b504ec6",
   "metadata": {},
   "source": [
    "# VEGAS in spinfoams: application on a toy model"
   ]
  },
  {
   "cell_type": "code",
   "execution_count": 15,
   "id": "a2b56c41-e60f-465c-8c89-0bb06a92e4e9",
   "metadata": {},
   "outputs": [
    {
     "data": {
      "text/plain": [
       "1-element Vector{Function}:\n",
       " format_current_cell (generic function with 1 method)"
      ]
     },
     "execution_count": 15,
     "metadata": {},
     "output_type": "execute_result"
    }
   ],
   "source": [
    "using JupyterFormatter\n",
    "enable_autoformat()"
   ]
  },
  {
   "cell_type": "markdown",
   "id": "a3c3c1a7-8cf3-4f37-b0d0-a15ff76a164a",
   "metadata": {},
   "source": [
    "This toy model has the purpose of testing the VEGAS algorithm in order to compute a discret sum.\n",
    "\n",
    "I consider a function $F(x_0, y_0, z_0)$ of 3 variables defined as:"
   ]
  },
  {
   "cell_type": "markdown",
   "id": "52a216f2-a354-4a48-90fa-c542faea53d7",
   "metadata": {},
   "source": [
    "\\begin{align}\n",
    "F(x_0, y_0, z_0) & = \\sum\\limits_{x = 0}^{10} \\sum\\limits_{y = 0}^{10} \\sum\\limits_{z = 0}^{10} e^{-\\frac{1}{2} \\left( x - x_0 \\right)^2} e^{-\\frac{1}{2} \\left( y - y_0 \\right)^2} e^{-\\frac{1}{2} \\left( z - z_0 \\right)^2} \\sin \\left( xy \\right) \\cos \\left( z \\right) \\\\\n",
    "& \\equiv \\sum\\limits_{x = 0}^{10} \\sum\\limits_{y = 0}^{10} \\sum\\limits_{z = 0}^{10} f(x_0, y_0, z_0, x, y, z)\n",
    "\\end{align}"
   ]
  },
  {
   "cell_type": "code",
   "execution_count": 85,
   "id": "aa406dc8-d0dc-49f6-9769-7e0a4d701371",
   "metadata": {},
   "outputs": [
    {
     "data": {
      "text/plain": [
       "F (generic function with 1 method)"
      ]
     },
     "execution_count": 85,
     "metadata": {},
     "output_type": "execute_result"
    }
   ],
   "source": [
    "function F(x0, y0, z0)\n",
    "\n",
    "    result = 0.0\n",
    "\n",
    "    for x = 0:10, y = 0:10, z = 0:10\n",
    "        result +=\n",
    "            exp(-(1 / 2) * (x - x0)^2) *\n",
    "            exp(-(1 / 2) * (y - y0)^2) *\n",
    "            exp(-(1 / 2) * (z - z0)^2) *\n",
    "            sin(x * y) *\n",
    "            cos(z)\n",
    "    end\n",
    "\n",
    "    result\n",
    "\n",
    "end"
   ]
  },
  {
   "cell_type": "markdown",
   "id": "c26498df-c6b6-4e54-9eff-d4a4c2c94e54",
   "metadata": {
    "tags": []
   },
   "source": [
    "## Exact result"
   ]
  },
  {
   "cell_type": "markdown",
   "id": "8f4fcefd-b79a-48d3-a05b-a4d01a164172",
   "metadata": {},
   "source": [
    "Let's first compute the exact value of the function for a chosen value of $(x_0, y_0, z_0)$:"
   ]
  },
  {
   "cell_type": "code",
   "execution_count": 86,
   "id": "13f74871-96ee-4f1d-9758-e9971479f880",
   "metadata": {},
   "outputs": [
    {
     "name": "stdout",
     "output_type": "stream",
     "text": [
      "  0.000039 seconds\n"
     ]
    },
    {
     "data": {
      "text/plain": [
       "0.692056321795933"
      ]
     },
     "execution_count": 86,
     "metadata": {},
     "output_type": "execute_result"
    }
   ],
   "source": [
    "@time F(2, 6, 10)"
   ]
  },
  {
   "cell_type": "markdown",
   "id": "3f6c1767-cabe-47e8-b022-3e9a9467097c",
   "metadata": {},
   "source": [
    "## Standard Monte Carlo"
   ]
  },
  {
   "cell_type": "markdown",
   "id": "51b05bc1-de74-4fa1-bbfd-1026d81790c8",
   "metadata": {},
   "source": [
    "Let's now construct a standard Monte Carlo estimator for the above function"
   ]
  },
  {
   "cell_type": "markdown",
   "id": "85a8d986-0bab-4c44-8e7d-e85499066fbf",
   "metadata": {},
   "source": [
    "$$\n",
    "\\lim_{N\\to\\infty} F_{MC}(x_0, y_0, z_0, N) = F(x_0, y_0, z_0) \n",
    "$$\n",
    "\n",
    "which is given by:\n",
    "\n",
    "\\begin{align}\n",
    "F_{MC}(x_0, y_0, z_0, N) & = \\frac{V}{N} \\sum\\limits_{[x, y, z]_1 \\dots [x, y, z]_N} e^{-\\frac{1}{2} \\left( x - x_0 \\right)^2} e^{-\\frac{1}{2} \\left( y - y_0 \\right)^2} e^{-\\frac{1}{2} \\left( z - z_0 \\right)^2} \\sin \\left( xy \\right) \\cos \\left( z \\right) \\\\\n",
    "& \\equiv \\frac{V}{N} \\sum\\limits_{[x, y, z]_1 \\dots [x, y, z]_N} f(x_0, y_0, z_0, [x, y, z])\n",
    "\\end{align}"
   ]
  },
  {
   "cell_type": "markdown",
   "id": "fa4c2c37-4231-468c-8db1-a1c91db64af3",
   "metadata": {},
   "source": [
    "where $ V = 11^3 $, as this is the total number of possible configurations. \n",
    "\n",
    "With respect to the discrete case, in the continuous $V$ coincides with the volume of the subset of $\\mathbb{R^3}$ on which the integration is performed."
   ]
  },
  {
   "cell_type": "code",
   "execution_count": 17,
   "id": "d0fa1b6d-854b-4f87-9edf-278f6d565078",
   "metadata": {},
   "outputs": [],
   "source": [
    "using Distributions, Random"
   ]
  },
  {
   "cell_type": "code",
   "execution_count": 18,
   "id": "1e2ffb77-bacc-49d5-8197-bfe447ca60f7",
   "metadata": {},
   "outputs": [
    {
     "data": {
      "text/plain": [
       "FMC (generic function with 1 method)"
      ]
     },
     "execution_count": 18,
     "metadata": {},
     "output_type": "execute_result"
    }
   ],
   "source": [
    "function FMC(x0, y0, z0, N, V)\n",
    "\n",
    "    draw = Array{Int}(undef, 3)\n",
    "    draw_float_sample = Array{Float64}(undef, 1)\n",
    "    Uniform_distribution = Uniform(0, 10)\n",
    "\n",
    "    result = 0.0\n",
    "\n",
    "    for i = 1:N\n",
    "\n",
    "        for i = 1:3\n",
    "            rand!(Uniform_distribution, draw_float_sample)\n",
    "            draw_float_sample[1] = round(Int64, draw_float_sample[1])\n",
    "            draw[i] = Int(draw_float_sample[1])\n",
    "        end\n",
    "\n",
    "        result +=\n",
    "            exp(-(1 / 2) * (draw[1] - x0)^2) *\n",
    "            exp(-(1 / 2) * (draw[2] - y0)^2) *\n",
    "            exp(-(1 / 2) * (draw[3] - z0)^2) *\n",
    "            sin(draw[1] * draw[2]) *\n",
    "            cos(draw[3])\n",
    "\n",
    "    end\n",
    "\n",
    "    result *= V / N\n",
    "\n",
    "    result\n",
    "\n",
    "end"
   ]
  },
  {
   "cell_type": "code",
   "execution_count": 19,
   "id": "0b3352bd-51d3-43aa-a2e8-63c58f96cb41",
   "metadata": {},
   "outputs": [],
   "source": [
    "V = 11^3;"
   ]
  },
  {
   "cell_type": "code",
   "execution_count": 68,
   "id": "98852aa9-f28e-4f72-a3c0-c75c1f60389a",
   "metadata": {},
   "outputs": [
    {
     "name": "stdout",
     "output_type": "stream",
     "text": [
      "  0.724211 seconds (4 allocations: 176 bytes)\n"
     ]
    },
    {
     "data": {
      "text/plain": [
       "0.6327959611211814"
      ]
     },
     "execution_count": 68,
     "metadata": {},
     "output_type": "execute_result"
    }
   ],
   "source": [
    "@time FMC(2, 6, 10, 10^7, V)"
   ]
  },
  {
   "cell_type": "markdown",
   "id": "c7e3bca2-72a6-489b-ab3b-f151c783111f",
   "metadata": {},
   "source": [
    "$\\textbf{The converge is slow}$: we need $10^7$ iterations to see a result stable up to the first significant digit. \n",
    "\n",
    "More importantly, $\\textbf{the converges is biased}$, since the sum is highly oscillating and has several cancellations due to the negative terms."
   ]
  },
  {
   "cell_type": "markdown",
   "id": "2ea9949c-1879-4200-af89-5adadac7497d",
   "metadata": {},
   "source": [
    "### Standard deviation"
   ]
  },
  {
   "cell_type": "markdown",
   "id": "b94a7ad6-8f3c-45d6-803d-039e6acb9a42",
   "metadata": {},
   "source": [
    "The standard deviations $\\sigma^2_{F}$ $\\sigma^2_{F_{MC}}$ (of $F$ and $F_{MC}$ respectively) are an indication of the possible error in the Monte Carlo estimate. \n",
    "\n",
    "Let's start by defining \n",
    "\n",
    "$$ \n",
    "\\langle F \\rangle \\equiv \\frac{1}{N} \\sum\\limits_{[x, y, z]_1 \\dots [x, y, z]_N} f(x_0, y_0, z_0, [x, y, z]) = \\frac{1}{V}F_{MC}(x_0, y_0, z_0, N)\n",
    "$$\n",
    "\n",
    "Variance $\\sigma^2_{F}$ can be estimated from the Monte Carlo data as:\n",
    "\n",
    "\\begin{align}\n",
    "\\sigma^2_{F} & \\equiv \\frac{1}{N-1} \\sum\\limits_{[x, y, z]_1 \\dots [x, y, z]_N} \\left( f(x_0, y_0, z_0, [x, y, z]) - \\langle F \\rangle \\right)^2 \\\\\n",
    " & =  \\frac{1}{N-1} \\left[ \\sum\\limits_{[x, y, z]_1 \\dots [x, y, z]_N} f(x_0, y_0, z_0, [x, y, z])^2 - N \\langle F \\rangle^2 \\right] \\\\ \n",
    "\\end{align}\n",
    "\n",
    "\n",
    "From which $\\sigma^2_{F_{MC}}$ is given by:\n",
    "\n",
    "$$\n",
    "\\sigma^2_{MC} = \\frac{V^2}{N} \\sigma^2_{F} = \\frac{V^2}{N-1} \\left[ \\frac{1}{N} \\sum\\limits_{[x, y, z]_1 \\dots [x, y, z]_N} f(x_0, y_0, z_0, [x, y, z])^2 - \\langle F \\rangle^2 \\right]\n",
    "$$"
   ]
  },
  {
   "cell_type": "markdown",
   "id": "86e33941-c268-4f12-9e7d-f29aae04d958",
   "metadata": {},
   "source": [
    "# Changing variables"
   ]
  },
  {
   "cell_type": "markdown",
   "id": "00cd8092-feb5-4522-af72-36396da8e988",
   "metadata": {},
   "source": [
    "I can perform a trivial change of variables in order to sample from the interval $[0,1]$:"
   ]
  },
  {
   "cell_type": "markdown",
   "id": "48b21045-c283-4510-aa50-16408016c98d",
   "metadata": {},
   "source": [
    "$$\n",
    "X = \\frac{x}{10}, \\ Y = \\frac{y}{10},\\  Z = \\frac{z}{10}\n",
    "$$\n",
    "\n",
    "The function changes as:\n",
    "\n",
    "$$\n",
    "F(x_0, y_0, z_0) = \\sum\\limits_{X \\in [0,1]} \\sum\\limits_{Y \\in [0,1]} \\sum\\limits_{Z \\in [0,1]} f(x_0, y_0, z_0, x(X), y(Y), z(Z))\n",
    "$$\n",
    "\n",
    "Since the original quantity was a sum and not a continuous integral, of course it is necessary to round.\n",
    "\n",
    "The MC estimator becomes:\n",
    "\n",
    "\\begin{align}\n",
    "F_{MC}(x_0, y_0, z_0, N) & = \\frac{V}{N} \\sum\\limits_{[X, Y, Z]_1 \\dots [X, Y, Z]_N} f(x_0, y_0, z_0, [x(X), y(Y), z(Z)])\n",
    "\\end{align}"
   ]
  },
  {
   "cell_type": "code",
   "execution_count": 20,
   "id": "94b2d593-0254-4e06-aab6-693b93e8ed2b",
   "metadata": {},
   "outputs": [
    {
     "data": {
      "text/plain": [
       "FMC_change_variable (generic function with 1 method)"
      ]
     },
     "execution_count": 20,
     "metadata": {},
     "output_type": "execute_result"
    }
   ],
   "source": [
    "function FMC_change_variable(x0, y0, z0, N, V)\n",
    "\n",
    "    draw = Array{Int}(undef, 3)\n",
    "    draw_float_sample = Array{Float64}(undef, 1)\n",
    "    Uniform_distribution = Uniform(0, 1)\n",
    "\n",
    "    result = 0.0\n",
    "\n",
    "    for i = 1:N\n",
    "\n",
    "        for i = 1:3\n",
    "            rand!(Uniform_distribution, draw_float_sample)\n",
    "            draw_float_sample[1] = 10 * draw_float_sample[1]\n",
    "            draw_float_sample[1] = round(Int64, draw_float_sample[1])\n",
    "            draw[i] = Int(draw_float_sample[1])\n",
    "        end\n",
    "\n",
    "        result +=\n",
    "            exp(-(1 / 2) * (draw[1] - x0)^2) *\n",
    "            exp(-(1 / 2) * (draw[2] - y0)^2) *\n",
    "            exp(-(1 / 2) * (draw[3] - z0)^2) *\n",
    "            sin(draw[1] * draw[2]) *\n",
    "            cos(draw[3])\n",
    "\n",
    "    end\n",
    "\n",
    "    result *= V / N\n",
    "\n",
    "    result\n",
    "\n",
    "end"
   ]
  },
  {
   "cell_type": "code",
   "execution_count": 76,
   "id": "a2367305-b77b-4be3-81a9-0e9b44ca36d2",
   "metadata": {},
   "outputs": [
    {
     "name": "stdout",
     "output_type": "stream",
     "text": [
      "  0.765712 seconds (80.87 k allocations: 4.597 MiB, 3.64% compilation time)\n"
     ]
    },
    {
     "data": {
      "text/plain": [
       "0.6512009430339419"
      ]
     },
     "execution_count": 76,
     "metadata": {},
     "output_type": "execute_result"
    }
   ],
   "source": [
    "@time FMC_change_variable(2, 6, 10, 10^7, V)"
   ]
  },
  {
   "cell_type": "markdown",
   "id": "ecac9d0b-a0dc-41b0-8a8f-77378dae46b7",
   "metadata": {
    "tags": []
   },
   "source": [
    "## Introducing a Jacobian"
   ]
  },
  {
   "cell_type": "markdown",
   "id": "d4152817-b128-4ef8-9f51-783a336fd7f8",
   "metadata": {},
   "source": [
    "We can rewrite the above expression by introducing the following Jacobian for the coordinate transformation:\n",
    "\n",
    "$$\n",
    "J (X,Y,Z) = \n",
    "\\begin{vmatrix}\n",
    "\\frac{d x}{d X} & 0 & 0 \\\\\n",
    "0 & \\frac{d y}{d Y} & 0 \\\\\n",
    "0 & 0 & \\frac{d z}{d Z} \\\\\n",
    "\\end{vmatrix}\n",
    "=\n",
    "10^3\n",
    "$$\n",
    "\n",
    "which leads to:\n",
    "\n",
    "\\begin{align}\n",
    "F_{MC}(x_0, y_0, z_0, N) = \\frac{V_J}{N} \\sum\\limits_{[X, Y, Z]_1 \\dots [X, Y, Z]_N} J \\cdot f(x_0, y_0, z_0, [x(X), y(Y), z(Z)])\n",
    "\\label{MC_estimator} \\tag{1}\n",
    "\\end{align}\n",
    "\n",
    "In the continuous case we have $V_J = 1$.\n",
    "\n",
    "$$ \n",
    "\\langle F \\rangle_J \\equiv \\frac{1}{N} \\sum\\limits_{[X, Y, Z]_1 \\dots [X, Y, Z]_N} J \\cdot f(x_0, y_0, z_0, [x, y, z]) = \\frac{1}{V_J}F_{MC}(x_0, y_0, z_0, N)\n",
    "$$\n",
    "\n",
    "Variance $\\sigma^2_{F_J}$ is estimated as:\n",
    "\n",
    "\\begin{align}\n",
    "\\sigma^2_{F_J} & \\equiv \\frac{1}{N-1} \\sum\\limits_{[X, Y, Z]_1 \\dots [X, Y, Z]_N} \\left( J \\cdot f(x_0, y_0, z_0, [x(X), y(Y), z(Z)]) - \\langle F \\rangle_J \\right)^2 \\\\\n",
    " & =  \\frac{1}{N-1} \\left[ \\sum\\limits_{[X, Y, Z]_1 \\dots [X, Y, Z]_N} J^2 \\cdot f(x_0, y_0, z_0, [x(X), y(Y), z(Z)])^2 - N \\langle F \\rangle_J^2 \\right] \\\\ \n",
    "\\end{align}\n",
    "\n",
    "\n",
    "Variance $\\sigma^2_{F_{MC_J}}$ is estimated as:\n",
    "\n",
    "$$\n",
    "\\sigma^2_{MC_J} = \\frac{V_J^2}{N} \\sigma^2_{F_J} = \\frac{V_J^2}{N-1} \\left[ \\frac{1}{N} \\sum\\limits_{[X, Y, Z]_1 \\dots [X, Y, Z]_N} J^2 \\cdot f(x_0, y_0, z_0, [x(X), y(Y), z(Z)])^2 - \\langle F \\rangle_J^2 \\right]\n",
    "$$"
   ]
  },
  {
   "cell_type": "markdown",
   "id": "3422c814-1d26-4f32-a805-462f9632d613",
   "metadata": {
    "tags": []
   },
   "source": [
    "## VEGAS"
   ]
  },
  {
   "cell_type": "markdown",
   "id": "c7e836e7-5fd8-4eb9-807f-5e064338fc10",
   "metadata": {},
   "source": [
    "I write explicitly the equations considering a single axis for simplicity. \n",
    "\n",
    "For each axis, we have a grid with $a = x_0$, $b = x_{N_g}$, where $N_g$ is the total number of elements in the grid. \n",
    "\n",
    "$ x_0 = a $\n",
    "\n",
    "$ x_1 = x_0 + \\Delta x_0 $\n",
    "\n",
    "$ x_2 = x_1 + \\Delta x_1 $\n",
    "\n",
    "$ \\dots $\n",
    "\n",
    "$ x_{N_g} = x_{N_g-1} + \\Delta x_{N_g-1} = b $"
   ]
  },
  {
   "cell_type": "markdown",
   "id": "6a4f177b-aaa9-4cf7-8847-c748d8bdd078",
   "metadata": {},
   "source": [
    "Let's define a matrix which contains the grid over the 3 axes:\n",
    "\n",
    "\\begin{align}\n",
    "\\text{VEGAS_grid}^{T} = \n",
    "\\begin{pmatrix}\n",
    "x_0 & x_1 & \\dots & x_{N_g} \\\\\n",
    "y_0 & y_1 & \\dots & y_{N_g}  \\\\\n",
    "z_0 & z_1 & \\dots & z_{N_g}  \\\\\n",
    "\\end{pmatrix}\n",
    "\\end{align}\n",
    "\n",
    "and matrix for the corresponding spacing:\n",
    "\n",
    "\\begin{align}\n",
    "\\text{VEGAS_spacing_grid}^{T} = \n",
    "\\begin{pmatrix}\n",
    "\\Delta x_0 & \\Delta x_1 & \\dots & \\Delta x_{N_g-1} \\\\\n",
    "\\Delta y_0 & \\Delta y_1 & \\dots & \\Delta y_{N_g-1}  \\\\\n",
    "\\Delta z_0 & \\Delta z_1 & \\dots & \\Delta z_{N_g-1}  \\\\\n",
    "\\end{pmatrix}\n",
    "\\end{align}\n",
    "\n",
    "The first natural choice for the grid is a linear spaced one. We therefore consider initially all equal $\\Delta x_i = x_{i+1} - x_{i} = \\frac{b-a}{N_g}$ for $i = 0 \\dots N_g -1$.  "
   ]
  },
  {
   "cell_type": "code",
   "execution_count": 27,
   "id": "46d8c5c9-1377-4f4c-bb41-86a031ea82d6",
   "metadata": {},
   "outputs": [],
   "source": [
    "a = 0;\n",
    "b = 10;\n",
    "N_g = 100;\n",
    "N_ev = 10^7\n",
    "\n",
    "VEGAS_grid = Array{Float64}(undef, N_g + 1, 3);\n",
    "VEGAS_grid_improved = Array{Float64}(undef, N_g + 1, 3);\n",
    "\n",
    "for i = 1:3\n",
    "    VEGAS_grid[:, i] .= collect(LinRange(a, b, N_g + 1))\n",
    "end\n",
    "\n",
    "#Delta_x_i = (b - a) / (N_g);\n",
    "\n",
    "VEGAS_spacing_grid = Array{Float64}(undef, N_g, 3);\n",
    "VEGAS_spacing_grid_improved = Array{Float64}(undef, N_g, 3);\n",
    "\n",
    "#for i = 1:3\n",
    "#    VEGAS_spacing_grid[:, i] .= [Delta_x_i for i = 1:1:N_g]\n",
    "#end\n",
    "\n",
    "for i = 1:3\n",
    "    for j = 1:N_g\n",
    "        VEGAS_spacing_grid[j, i] = VEGAS_grid[j+1, i] - VEGAS_grid[j, i]\n",
    "    end\n",
    "end"
   ]
  },
  {
   "cell_type": "code",
   "execution_count": 28,
   "id": "001dfb0b-a75e-4de1-8b05-67964c3b0a53",
   "metadata": {},
   "outputs": [
    {
     "data": {
      "text/plain": [
       "101×3 Matrix{Float64}:\n",
       "  0.0   0.0   0.0\n",
       "  0.1   0.1   0.1\n",
       "  0.2   0.2   0.2\n",
       "  0.3   0.3   0.3\n",
       "  0.4   0.4   0.4\n",
       "  0.5   0.5   0.5\n",
       "  0.6   0.6   0.6\n",
       "  0.7   0.7   0.7\n",
       "  0.8   0.8   0.8\n",
       "  0.9   0.9   0.9\n",
       "  1.0   1.0   1.0\n",
       "  1.1   1.1   1.1\n",
       "  1.2   1.2   1.2\n",
       "  ⋮          \n",
       "  8.9   8.9   8.9\n",
       "  9.0   9.0   9.0\n",
       "  9.1   9.1   9.1\n",
       "  9.2   9.2   9.2\n",
       "  9.3   9.3   9.3\n",
       "  9.4   9.4   9.4\n",
       "  9.5   9.5   9.5\n",
       "  9.6   9.6   9.6\n",
       "  9.7   9.7   9.7\n",
       "  9.8   9.8   9.8\n",
       "  9.9   9.9   9.9\n",
       " 10.0  10.0  10.0"
      ]
     },
     "execution_count": 28,
     "metadata": {},
     "output_type": "execute_result"
    }
   ],
   "source": [
    "VEGAS_grid"
   ]
  },
  {
   "cell_type": "code",
   "execution_count": 29,
   "id": "54e78058-9630-4643-84f4-82314a9ce05a",
   "metadata": {},
   "outputs": [
    {
     "data": {
      "text/plain": [
       "100×3 Matrix{Float64}:\n",
       " 0.1  0.1  0.1\n",
       " 0.1  0.1  0.1\n",
       " 0.1  0.1  0.1\n",
       " 0.1  0.1  0.1\n",
       " 0.1  0.1  0.1\n",
       " 0.1  0.1  0.1\n",
       " 0.1  0.1  0.1\n",
       " 0.1  0.1  0.1\n",
       " 0.1  0.1  0.1\n",
       " 0.1  0.1  0.1\n",
       " 0.1  0.1  0.1\n",
       " 0.1  0.1  0.1\n",
       " 0.1  0.1  0.1\n",
       " ⋮         \n",
       " 0.1  0.1  0.1\n",
       " 0.1  0.1  0.1\n",
       " 0.1  0.1  0.1\n",
       " 0.1  0.1  0.1\n",
       " 0.1  0.1  0.1\n",
       " 0.1  0.1  0.1\n",
       " 0.1  0.1  0.1\n",
       " 0.1  0.1  0.1\n",
       " 0.1  0.1  0.1\n",
       " 0.1  0.1  0.1\n",
       " 0.1  0.1  0.1\n",
       " 0.1  0.1  0.1"
      ]
     },
     "execution_count": 29,
     "metadata": {},
     "output_type": "execute_result"
    }
   ],
   "source": [
    "VEGAS_spacing_grid"
   ]
  },
  {
   "cell_type": "markdown",
   "id": "4c82e23d-71a5-48d5-91fc-3d8f2caf3698",
   "metadata": {},
   "source": [
    "The following function provides the map between $X \\in [0,1]$ and $x \\in [a, b]$"
   ]
  },
  {
   "cell_type": "code",
   "execution_count": 22,
   "id": "a8824c7d-edf3-4822-b065-910f96698b6c",
   "metadata": {},
   "outputs": [
    {
     "data": {
      "text/plain": [
       "x (generic function with 1 method)"
      ]
     },
     "execution_count": 22,
     "metadata": {},
     "output_type": "execute_result"
    }
   ],
   "source": [
    "# Returns the VEGAS grid element and the corresponding grid index\n",
    "function x(X, N_g, VEGAS_grid, VEGAS_spacing_grid)\n",
    "\n",
    "    i_X = Int(floor(X * N_g))\n",
    "\n",
    "    delta_X = X * N_g - i_X\n",
    "\n",
    "    if (i_X == N_g)\n",
    "        VEGAS_grid[i_X+1, 1], i_X + 1\n",
    "    else\n",
    "        VEGAS_grid[i_X+1, 1] + VEGAS_spacing_grid[i_X+1, 1] * delta_X, i_X + 1\n",
    "    end\n",
    "\n",
    "end\n",
    "\n",
    "\n",
    "#=\n",
    "function VEGAS_rounding_map_OLD!(draw1, draw2, X, N_g, VEGAS_grid, VEGAS_spacing_grid) \n",
    "    draw1[1] = round(Int64, floor(X*N_g))\n",
    "    #println(draw[1])\n",
    "    draw2[1] = VEGAS_grid[draw1[1]+1]\n",
    "    #println(draw[2])\n",
    "    if (draw[1] != N_g)\n",
    "        draw2[1] += VEGAS_spacing_grid[draw1[1]+1]*(X*N_g - draw1[1])\n",
    "    end\n",
    "end\n",
    "=#"
   ]
  },
  {
   "cell_type": "code",
   "execution_count": 12,
   "id": "81022870-db2f-42f6-bd22-9c7115c9fdaa",
   "metadata": {},
   "outputs": [
    {
     "name": "stdout",
     "output_type": "stream",
     "text": [
      "  0.000004 seconds (1 allocation: 32 bytes)\n"
     ]
    },
    {
     "data": {
      "text/plain": [
       "(10.0, 11)"
      ]
     },
     "execution_count": 12,
     "metadata": {},
     "output_type": "execute_result"
    }
   ],
   "source": [
    "@time x(1, N_g, VEGAS_grid, VEGAS_spacing_grid)"
   ]
  },
  {
   "cell_type": "markdown",
   "id": "27181e59-8056-4c76-93a7-f7e97df79162",
   "metadata": {},
   "source": [
    "The Jacobian for this transformation is easily computed as:\n",
    "\n",
    "$$\n",
    "J(X) = N_g \\Delta x_{i(X)}  ≡ J_{i(X)}\n",
    "$$\n",
    "\n",
    "along each axis. This is a step function, and the values are determined by the interval widths $ \\Delta x_{i} $."
   ]
  },
  {
   "cell_type": "code",
   "execution_count": 5,
   "id": "cd5c6727-c8f7-47fb-a4b9-26ecab64f049",
   "metadata": {},
   "outputs": [],
   "source": [
    "#=\n",
    "function MC_sampling_OLD(x0, y0, z0, N_ev, N_g, VEGAS_grid, VEGAS_spacing_grid)\n",
    "    \n",
    "    draw = Array{Int}(undef, 3);\n",
    "    VEGAS_draw_1 = Array{Int}(undef, 1);\n",
    "    VEGAS_draw_2 = Array{Float64}(undef, 1);\n",
    "    draw_float_sample = Array{Float64}(undef, 1);\n",
    "    Uniform_distribution = Uniform(0, 1);\n",
    "    \n",
    "    result = 0.0\n",
    "   \n",
    "    for i=1:N_ev\n",
    "        \n",
    "          for i = 1:3\n",
    "              # this is X \\in [0,1]\n",
    "              rand!(Uniform_distribution, draw_float_sample)\n",
    "              #println(draw_float_sample[1])\n",
    "            \n",
    "              VEGAS_rounding_map_OLD!(VEGAS_draw_1, VEGAS_draw_2, draw_float_sample[1], N_g, VEGAS_grid, VEGAS_spacing_grid)\n",
    "\n",
    "              draw[i] = round(Int, VEGAS_draw_2[1])\n",
    "          end\n",
    "    \n",
    "        result += exp(-(1/2)*(draw[1] - x0)^2)*exp(-(1/2)*(draw[2] - y0)^2)*exp(-(1/2)*(draw[3] - z0)^2)*sin(draw[1]*draw[2])*cos(draw[3])\n",
    "        \n",
    "    end\n",
    "    \n",
    "    result = result*11^3/N_ev\n",
    "        \n",
    "    return result\n",
    "    \n",
    "end\n",
    "=#"
   ]
  },
  {
   "cell_type": "code",
   "execution_count": 6,
   "id": "dfecb5d1-728b-4d1f-b5a4-dbf2711ee3f4",
   "metadata": {},
   "outputs": [],
   "source": [
    "#@time MC_sampling_OLD(2, 6, 10, N_ev, N_g, VEGAS_grid, VEGAS_spacing_grid)"
   ]
  },
  {
   "cell_type": "markdown",
   "id": "db47f3f9-58d4-4fe1-9cd3-433246fd6fda",
   "metadata": {},
   "source": [
    "### Refining the grid"
   ]
  },
  {
   "cell_type": "markdown",
   "id": "96b7668c-c8dd-4535-b6f8-8ae38c6f8afc",
   "metadata": {},
   "source": [
    "Given some samples $[X, Y, Z]_1 \\dots [X, Y, Z]_N$ and the corresponding Monte Carlo estimate $\\eqref{MC_estimator}$, now I want to estimate the following quantities:"
   ]
  },
  {
   "cell_type": "markdown",
   "id": "d7e090e6-6270-4cd6-bee1-254e1355bd0b",
   "metadata": {},
   "source": [
    "$$\n",
    "d^x_0 = \\frac{1}{n^x_0} \\sum_{x(X) \\in \\Delta x_0} \\left( J \\cdot f(x_0, y_0, z_0, [x(X), y(Y), z(Z)]) \\right)^2\n",
    "$$\n",
    "\n",
    "$$\n",
    "d^x_1 = \\frac{1}{n^x_1} \\sum_{x(X) \\in \\Delta x_1} \\left( J \\cdot f(x_0, y_0, z_0, [x(X), y(Y), z(Z)]) \\right)^2\n",
    "$$\n",
    "\n",
    "$$\n",
    "\\dots\n",
    "$$\n",
    "\n",
    "$$\n",
    "d^x_{N_g-1} = \\frac{1}{n^x_{N_g-1}} \\sum_{x(X) \\in \\Delta x_{N_g-1}}  \\left( J \\cdot f(x_0, y_0, z_0, [x(X), y(Y), z(Z)]) \\right)^2\n",
    "$$\n",
    "\n",
    "etc. $\\textbf{along each axis}$, where $n^x_i \\approx \\frac{N_{ev}}{N_g}$ is the number of samples in interval $\\Delta x_i$.\n",
    "\n",
    "Let's define a matrix:\n",
    "\n",
    "\\begin{align}\n",
    "\\text{VEGAS_d}= \n",
    "\\begin{pmatrix}\n",
    "d_0^x & d_1^x & \\dots & d_{N_g-1}^x \\\\\n",
    "d_0^y & d_1^y & \\dots & d_{N_g-1}^y  \\\\\n",
    "d_0^z & d_1^z & \\dots & d_{N_g-1}^z  \\\\\n",
    "\\end{pmatrix}\n",
    "\\end{align}\n",
    "\n",
    "It is also useful to consider a matrix to take into account the multeplicity:\n",
    "\n",
    "\\begin{align}\n",
    "\\text{VEGAS_d_multeplicity}= \n",
    "\\begin{pmatrix}\n",
    "n_0^x & n_1^x & \\dots & n_{N_g-1}^x \\\\\n",
    "n_0^y & n_1^y & \\dots & n_{N_g-1}^y  \\\\\n",
    "n_0^z & n_1^z & \\dots & n_{N_g-1}^z  \\\\\n",
    "\\end{pmatrix}\n",
    "\\end{align}"
   ]
  },
  {
   "cell_type": "code",
   "execution_count": 51,
   "id": "e1de5f92-dba5-4192-9e18-9c095e1a2104",
   "metadata": {},
   "outputs": [
    {
     "data": {
      "text/plain": [
       "1-element Vector{Float64}:\n",
       " 0.0"
      ]
     },
     "execution_count": 51,
     "metadata": {},
     "output_type": "execute_result"
    }
   ],
   "source": [
    "VEGAS_d = zeros(3, N_g);\n",
    "\n",
    "Result_estimate = Array{Float64}(undef, 1)"
   ]
  },
  {
   "cell_type": "code",
   "execution_count": 124,
   "id": "6fe04516-7a6e-4d12-b567-8ccbc505cd5e",
   "metadata": {},
   "outputs": [
    {
     "data": {
      "text/plain": [
       "VEGAS_sampling (generic function with 2 methods)"
      ]
     },
     "execution_count": 124,
     "metadata": {},
     "output_type": "execute_result"
    }
   ],
   "source": [
    "function VEGAS_sampling(\n",
    "    x0,\n",
    "    y0,\n",
    "    z0,\n",
    "    N_ev,\n",
    "    N_g,\n",
    "    VEGAS_grid,\n",
    "    VEGAS_spacing_grid,\n",
    "    VEGAS_d,\n",
    "    V,\n",
    "    Result_estimate,\n",
    ")\n",
    "\n",
    "    draw = Array{Int}(undef, 3)\n",
    "    draw_float_sample = Array{Float64}(undef, 1)\n",
    "    Uniform_distribution = Uniform(0, 1)\n",
    "\n",
    "    VEGAS_index_draw = Array{Int}(undef, 3)\n",
    "    VEGAS_d_multeplicity = zeros(3, N_g)\n",
    "    Jacobians = Array{Float64}(undef, 3)\n",
    "    VEGAS_index_draw = Array{Int}(undef, 3)\n",
    "\n",
    "    total_result = 0.0\n",
    "\n",
    "    for n = 1:N_ev\n",
    "\n",
    "        for i = 1:3\n",
    "            # this is X in [0,1]\n",
    "            rand!(Uniform_distribution, draw_float_sample)\n",
    "            println(\"The following number X was generated along axis $(i) between 0 and 1:\")\n",
    "            println(draw_float_sample[1])\n",
    "\n",
    "            i_X = Int(floor(draw_float_sample[1] * N_g))\n",
    "            delta_X = draw_float_sample[1] * N_g - i_X\n",
    "            VEGAS_index_draw[i] = i_X_index = i_X + 1\n",
    "\n",
    "            # this is x(X) in [a,b]        \n",
    "            if (i_X == N_g)\n",
    "                draw_float_sample[1] = VEGAS_grid[VEGAS_index_draw[i], i]\n",
    "            else\n",
    "                draw_float_sample[1] =\n",
    "                    VEGAS_grid[VEGAS_index_draw[i], i] +\n",
    "                    VEGAS_spacing_grid[VEGAS_index_draw[i], i] * delta_X\n",
    "            end\n",
    "\n",
    "            println(\n",
    "                \"The following number x is the corresponding in the grid along axis $(i) between 0 and $(N_g):\",\n",
    "            )\n",
    "            println(draw_float_sample[1])\n",
    "\n",
    "            println(\n",
    "                \"It corresponds to index $(i_X) in the grid, which means index $(VEGAS_index_draw[i]) in the matrix\",\n",
    "            )\n",
    "\n",
    "            Jacobians[i] = N_g * VEGAS_spacing_grid[VEGAS_index_draw[i], i]\n",
    "            println(\"This is the Jacobian along axis $(i):\")\n",
    "            println(Jacobians[i])\n",
    "\n",
    "            VEGAS_d_multeplicity[i, VEGAS_index_draw[i]] += 1\n",
    "            #println(\"This is the multeplicity of VEGAS_d:\")\n",
    "            #println(VEGAS_d_multeplicity)\n",
    "\n",
    "            # we need to round to integers \n",
    "            draw_float_sample[1] = round(Int64, draw_float_sample[1])\n",
    "            draw[i] = round(Int64, draw_float_sample[1])\n",
    "            println(\"The number was rounded to:\")\n",
    "            println(draw[i])\n",
    "            println(\" \")\n",
    "        end\n",
    "\n",
    "        println(\" \")\n",
    "        println(\" \")\n",
    "        println(\" \")\n",
    "\n",
    "        result =\n",
    "            exp(-(1 / 2) * (draw[1] - x0)^2) *\n",
    "            exp(-(1 / 2) * (draw[2] - y0)^2) *\n",
    "            exp(-(1 / 2) * (draw[3] - z0)^2) *\n",
    "            sin(draw[1] * draw[2]) *\n",
    "            cos(draw[3]) *\n",
    "            prod(Jacobians)\n",
    "\n",
    "        total_result += result\n",
    "\n",
    "        d_result = result^2\n",
    "\n",
    "        for i = 1:3\n",
    "            VEGAS_d[i, VEGAS_index_draw[i]] += d_result\n",
    "        end\n",
    "\n",
    "    end\n",
    "\n",
    "    # final normalization\n",
    "    VEGAS_d[:] .= VEGAS_d[:] ./ VEGAS_d_multeplicity[:]\n",
    "\n",
    "    total_result *= (V / 10^3) / N_ev\n",
    "\n",
    "    Result_estimate[1] = total_result\n",
    "\n",
    "end\n"
   ]
  },
  {
   "cell_type": "code",
   "execution_count": 125,
   "id": "653745dc-51cb-4c18-8c84-f78d6b12f881",
   "metadata": {},
   "outputs": [
    {
     "name": "stdout",
     "output_type": "stream",
     "text": [
      "The following number X was generated along axis 1 between 0 and 1:\n",
      "0.5206433952912467\n",
      "The following number x is the corresponding in the grid along axis 1 between 0 and 10:\n",
      "0.5206433952912467\n",
      "It corresponds to index 5 in the grid, which means index 6 in the matrix\n",
      "This is the Jacobian along axis 1:\n",
      "0.9999999999999998\n",
      "The number was rounded to:\n",
      "1\n",
      " \n",
      "The following number X was generated along axis 2 between 0 and 1:\n",
      "0.0922784383543972\n",
      "The following number x is the corresponding in the grid along axis 2 between 0 and 10:\n",
      "0.0922784383543972\n",
      "It corresponds to index 0 in the grid, which means index 1 in the matrix\n",
      "This is the Jacobian along axis 2:\n",
      "1.0\n",
      "The number was rounded to:\n",
      "0\n",
      " \n",
      "The following number X was generated along axis 3 between 0 and 1:\n",
      "0.7649000177857423\n",
      "The following number x is the corresponding in the grid along axis 3 between 0 and 10:\n",
      "0.7649000177857425\n",
      "It corresponds to index 7 in the grid, which means index 8 in the matrix\n",
      "This is the Jacobian along axis 3:\n",
      "0.9999999999999998\n",
      "The number was rounded to:\n",
      "1\n",
      " \n",
      " \n",
      " \n",
      " \n",
      "The following number X was generated along axis 1 between 0 and 1:\n",
      "0.5480026899678937\n",
      "The following number x is the corresponding in the grid along axis 1 between 0 and 10:\n",
      "0.5480026899678937\n",
      "It corresponds to index 5 in the grid, which means index 6 in the matrix\n",
      "This is the Jacobian along axis 1:\n",
      "0.9999999999999998\n",
      "The number was rounded to:\n",
      "1\n",
      " \n",
      "The following number X was generated along axis 2 between 0 and 1:\n",
      "0.46390486386534036\n",
      "The following number x is the corresponding in the grid along axis 2 between 0 and 10:\n",
      "0.46390486386534036\n",
      "It corresponds to index 4 in the grid, which means index 5 in the matrix\n",
      "This is the Jacobian along axis 2:\n",
      "0.9999999999999998\n",
      "The number was rounded to:\n",
      "0\n",
      " \n",
      "The following number X was generated along axis 3 between 0 and 1:\n",
      "0.4859830587701943\n",
      "The following number x is the corresponding in the grid along axis 3 between 0 and 10:\n",
      "0.48598305877019427\n",
      "It corresponds to index 4 in the grid, which means index 5 in the matrix\n",
      "This is the Jacobian along axis 3:\n",
      "0.9999999999999998\n",
      "The number was rounded to:\n",
      "0\n",
      " \n",
      " \n",
      " \n",
      " \n",
      "The following number X was generated along axis 1 between 0 and 1:\n",
      "0.45150942548365613\n",
      "The following number x is the corresponding in the grid along axis 1 between 0 and 10:\n",
      "0.45150942548365613\n",
      "It corresponds to index 4 in the grid, which means index 5 in the matrix\n",
      "This is the Jacobian along axis 1:\n",
      "0.9999999999999998\n",
      "The number was rounded to:\n",
      "0\n",
      " \n",
      "The following number X was generated along axis 2 between 0 and 1:\n",
      "0.049140155781123296\n",
      "The following number x is the corresponding in the grid along axis 2 between 0 and 10:\n",
      "0.049140155781123296\n",
      "It corresponds to index 0 in the grid, which means index 1 in the matrix\n",
      "This is the Jacobian along axis 2:\n",
      "1.0\n",
      "The number was rounded to:\n",
      "0\n",
      " \n",
      "The following number X was generated along axis 3 between 0 and 1:\n",
      "0.12808672291017553\n",
      "The following number x is the corresponding in the grid along axis 3 between 0 and 10:\n",
      "0.12808672291017553\n",
      "It corresponds to index 1 in the grid, which means index 2 in the matrix\n",
      "This is the Jacobian along axis 3:\n",
      "1.0\n",
      "The number was rounded to:\n",
      "0\n",
      " \n",
      " \n",
      " \n",
      " \n",
      "The following number X was generated along axis 1 between 0 and 1:\n",
      "0.8963413739064495\n",
      "The following number x is the corresponding in the grid along axis 1 between 0 and 10:\n",
      "0.8963413739064495\n",
      "It corresponds to index 8 in the grid, which means index 9 in the matrix\n",
      "This is the Jacobian along axis 1:\n",
      "0.9999999999999987\n",
      "The number was rounded to:\n",
      "1\n",
      " \n",
      "The following number X was generated along axis 2 between 0 and 1:\n",
      "0.9762981495306251\n",
      "The following number x is the corresponding in the grid along axis 2 between 0 and 10:\n",
      "0.9762981495306251\n",
      "It corresponds to index 9 in the grid, which means index 10 in the matrix\n",
      "This is the Jacobian along axis 2:\n",
      "1.0000000000000009\n",
      "The number was rounded to:\n",
      "1\n",
      " \n",
      "The following number X was generated along axis 3 between 0 and 1:\n",
      "0.25277541352450017\n",
      "The following number x is the corresponding in the grid along axis 3 between 0 and 10:\n",
      "0.25277541352450017\n",
      "It corresponds to index 2 in the grid, which means index 3 in the matrix\n",
      "This is the Jacobian along axis 3:\n",
      "0.9999999999999998\n",
      "The number was rounded to:\n",
      "0\n",
      " \n",
      " \n",
      " \n",
      " \n",
      "The following number X was generated along axis 1 between 0 and 1:\n",
      "0.7862104838001912\n",
      "The following number x is the corresponding in the grid along axis 1 between 0 and 10:\n",
      "0.7862104838001912\n",
      "It corresponds to index 7 in the grid, which means index 8 in the matrix\n",
      "This is the Jacobian along axis 1:\n",
      "0.9999999999999998\n",
      "The number was rounded to:\n",
      "1\n",
      " \n",
      "The following number X was generated along axis 2 between 0 and 1:\n",
      "0.27398565379236406\n",
      "The following number x is the corresponding in the grid along axis 2 between 0 and 10:\n",
      "0.27398565379236406\n",
      "It corresponds to index 2 in the grid, which means index 3 in the matrix\n",
      "This is the Jacobian along axis 2:\n",
      "0.9999999999999998\n",
      "The number was rounded to:\n",
      "0\n",
      " \n",
      "The following number X was generated along axis 3 between 0 and 1:\n",
      "0.4654780516904057\n",
      "The following number x is the corresponding in the grid along axis 3 between 0 and 10:\n",
      "0.4654780516904057\n",
      "It corresponds to index 4 in the grid, which means index 5 in the matrix\n",
      "This is the Jacobian along axis 3:\n",
      "0.9999999999999998\n",
      "The number was rounded to:\n",
      "0\n",
      " \n",
      " \n",
      " \n",
      " \n",
      "The following number X was generated along axis 1 between 0 and 1:\n",
      "0.18056361570920132\n",
      "The following number x is the corresponding in the grid along axis 1 between 0 and 10:\n",
      "0.18056361570920132\n",
      "It corresponds to index 1 in the grid, which means index 2 in the matrix\n",
      "This is the Jacobian along axis 1:\n",
      "1.0\n",
      "The number was rounded to:\n",
      "0\n",
      " \n",
      "The following number X was generated along axis 2 between 0 and 1:\n",
      "0.1350221444212213\n",
      "The following number x is the corresponding in the grid along axis 2 between 0 and 10:\n",
      "0.1350221444212213\n",
      "It corresponds to index 1 in the grid, which means index 2 in the matrix\n",
      "This is the Jacobian along axis 2:\n",
      "1.0\n",
      "The number was rounded to:\n",
      "0\n",
      " \n",
      "The following number X was generated along axis 3 between 0 and 1:\n",
      "0.9627881603276113\n",
      "The following number x is the corresponding in the grid along axis 3 between 0 and 10:\n",
      "0.9627881603276112\n",
      "It corresponds to index 9 in the grid, which means index 10 in the matrix\n",
      "This is the Jacobian along axis 3:\n",
      "1.0000000000000009\n",
      "The number was rounded to:\n",
      "1\n",
      " \n",
      " \n",
      " \n",
      " \n",
      "The following number X was generated along axis 1 between 0 and 1:\n",
      "0.3097960137241387\n",
      "The following number x is the corresponding in the grid along axis 1 between 0 and 10:\n",
      "0.3097960137241387\n",
      "It corresponds to index 3 in the grid, which means index 4 in the matrix\n",
      "This is the Jacobian along axis 1:\n",
      "1.0000000000000004\n",
      "The number was rounded to:\n",
      "0\n",
      " \n",
      "The following number X was generated along axis 2 between 0 and 1:\n",
      "0.4387956471537252\n",
      "The following number x is the corresponding in the grid along axis 2 between 0 and 10:\n",
      "0.4387956471537252\n",
      "It corresponds to index 4 in the grid, which means index 5 in the matrix\n",
      "This is the Jacobian along axis 2:\n",
      "0.9999999999999998\n",
      "The number was rounded to:\n",
      "0\n",
      " \n",
      "The following number X was generated along axis 3 between 0 and 1:\n",
      "0.6612016630174878\n",
      "The following number x is the corresponding in the grid along axis 3 between 0 and 10:\n",
      "0.6612016630174878\n",
      "It corresponds to index 6 in the grid, which means index 7 in the matrix\n",
      "This is the Jacobian along axis 3:\n",
      "1.0000000000000009\n",
      "The number was rounded to:\n",
      "1\n",
      " \n",
      " \n",
      " \n",
      " \n",
      "The following number X was generated along axis 1 between 0 and 1:\n",
      "0.32671083574275206\n",
      "The following number x is the corresponding in the grid along axis 1 between 0 and 10:\n",
      "0.32671083574275206\n",
      "It corresponds to index 3 in the grid, which means index 4 in the matrix\n",
      "This is the Jacobian along axis 1:\n",
      "1.0000000000000004\n",
      "The number was rounded to:\n",
      "0\n",
      " \n",
      "The following number X was generated along axis 2 between 0 and 1:\n",
      "0.8129129853906225\n",
      "The following number x is the corresponding in the grid along axis 2 between 0 and 10:\n",
      "0.8129129853906225\n",
      "It corresponds to index 8 in the grid, which means index 9 in the matrix\n",
      "This is the Jacobian along axis 2:\n",
      "0.9999999999999987\n",
      "The number was rounded to:\n",
      "1\n",
      " \n",
      "The following number X was generated along axis 3 between 0 and 1:\n",
      "0.30511302344758484\n",
      "The following number x is the corresponding in the grid along axis 3 between 0 and 10:\n",
      "0.3051130234475848\n",
      "It corresponds to index 3 in the grid, which means index 4 in the matrix\n",
      "This is the Jacobian along axis 3:\n",
      "1.0000000000000004\n",
      "The number was rounded to:\n",
      "0\n",
      " \n",
      " \n",
      " \n",
      " \n",
      "The following number X was generated along axis 1 between 0 and 1:\n",
      "0.6543821025309614\n",
      "The following number x is the corresponding in the grid along axis 1 between 0 and 10:\n",
      "0.6543821025309614\n",
      "It corresponds to index 6 in the grid, which means index 7 in the matrix\n",
      "This is the Jacobian along axis 1:\n",
      "1.0000000000000009\n",
      "The number was rounded to:\n",
      "1\n",
      " \n",
      "The following number X was generated along axis 2 between 0 and 1:\n",
      "0.834183616160851\n",
      "The following number x is the corresponding in the grid along axis 2 between 0 and 10:\n",
      "0.834183616160851\n",
      "It corresponds to index 8 in the grid, which means index 9 in the matrix\n",
      "This is the Jacobian along axis 2:\n",
      "0.9999999999999987\n",
      "The number was rounded to:\n",
      "1\n",
      " \n",
      "The following number X was generated along axis 3 between 0 and 1:\n",
      "0.16186621064356377\n",
      "The following number x is the corresponding in the grid along axis 3 between 0 and 10:\n",
      "0.16186621064356377\n",
      "It corresponds to index 1 in the grid, which means index 2 in the matrix\n",
      "This is the Jacobian along axis 3:\n",
      "1.0\n",
      "The number was rounded to:\n",
      "0\n",
      " \n",
      " \n",
      " \n",
      " \n",
      "The following number X was generated along axis 1 between 0 and 1:\n",
      "0.5778305878994944\n",
      "The following number x is the corresponding in the grid along axis 1 between 0 and 10:\n",
      "0.5778305878994944\n",
      "It corresponds to index 5 in the grid, which means index 6 in the matrix\n",
      "This is the Jacobian along axis 1:\n",
      "0.9999999999999998\n",
      "The number was rounded to:\n",
      "1\n",
      " \n",
      "The following number X was generated along axis 2 between 0 and 1:\n",
      "0.8975292575136677\n",
      "The following number x is the corresponding in the grid along axis 2 between 0 and 10:\n",
      "0.8975292575136676\n",
      "It corresponds to index 8 in the grid, which means index 9 in the matrix\n",
      "This is the Jacobian along axis 2:\n",
      "0.9999999999999987\n",
      "The number was rounded to:\n",
      "1\n",
      " \n",
      "The following number X was generated along axis 3 between 0 and 1:\n",
      "0.9929680153277689\n",
      "The following number x is the corresponding in the grid along axis 3 between 0 and 10:\n",
      "0.9929680153277689\n",
      "It corresponds to index 9 in the grid, which means index 10 in the matrix\n",
      "This is the Jacobian along axis 3:\n",
      "1.0000000000000009\n",
      "The number was rounded to:\n",
      "1\n",
      " \n",
      " \n",
      " \n",
      " \n"
     ]
    },
    {
     "ename": "LoadError",
     "evalue": "DimensionMismatch(\"array could not be broadcast to match destination\")",
     "output_type": "error",
     "traceback": [
      "DimensionMismatch(\"array could not be broadcast to match destination\")",
      "",
      "Stacktrace:",
      "  [1] check_broadcast_shape",
      "    @ ./broadcast.jl:540 [inlined]",
      "  [2] check_broadcast_axes",
      "    @ ./broadcast.jl:543 [inlined]",
      "  [3] check_broadcast_axes",
      "    @ ./broadcast.jl:547 [inlined]",
      "  [4] instantiate",
      "    @ ./broadcast.jl:284 [inlined]",
      "  [5] materialize!",
      "    @ ./broadcast.jl:871 [inlined]",
      "  [6] materialize!",
      "    @ ./broadcast.jl:868 [inlined]",
      "  [7] VEGAS_sampling(x0::Int64, y0::Int64, z0::Int64, N_ev::Int64, N_g::Int64, VEGAS_grid::Matrix{Float64}, VEGAS_spacing_grid::Matrix{Float64}, VEGAS_d::Matrix{Float64}, V::Int64, Result_estimate::Vector{Float64})",
      "    @ Main ./In[124]:94",
      "  [8] top-level scope",
      "    @ ./timing.jl:220 [inlined]",
      "  [9] top-level scope",
      "    @ ./In[125]:0",
      " [10] eval",
      "    @ ./boot.jl:373 [inlined]",
      " [11] include_string(mapexpr::typeof(REPL.softscope), mod::Module, code::String, filename::String)",
      "    @ Base ./loading.jl:1196"
     ]
    }
   ],
   "source": [
    "@time VEGAS_sampling(\n",
    "    2,\n",
    "    6,\n",
    "    10,\n",
    "    10,\n",
    "    10,\n",
    "    VEGAS_grid,\n",
    "    VEGAS_spacing_grid,\n",
    "    VEGAS_d,\n",
    "    V,\n",
    "    Result_estimate,\n",
    ")"
   ]
  },
  {
   "cell_type": "code",
   "execution_count": 55,
   "id": "ec0ddc81-c754-442b-b529-879bfef060d1",
   "metadata": {},
   "outputs": [
    {
     "data": {
      "text/plain": [
       "1-element Vector{Float64}:\n",
       " 0.6575033139997568"
      ]
     },
     "execution_count": 55,
     "metadata": {},
     "output_type": "execute_result"
    }
   ],
   "source": [
    "Result_estimate"
   ]
  },
  {
   "cell_type": "markdown",
   "id": "d3d442b2-af13-4189-9259-63acedc194a6",
   "metadata": {},
   "source": [
    "Now we can implement the classic VEGAS algorithm. \n",
    "\n",
    "$\\textbf{From now on, I stop describing explicitly all steps since it takes too much time}$"
   ]
  },
  {
   "cell_type": "code",
   "execution_count": 36,
   "id": "418ec312-ae76-46a1-8867-056b53ba7fd4",
   "metadata": {},
   "outputs": [
    {
     "data": {
      "text/plain": [
       "VEGAS_d_smoothing (generic function with 1 method)"
      ]
     },
     "execution_count": 36,
     "metadata": {},
     "output_type": "execute_result"
    }
   ],
   "source": [
    "function VEGAS_d_smoothing(N_g, VEGAS_d)\n",
    "\n",
    "    VEGAS_sum_all_d = vec(sum(VEGAS_d, dims = 1))\n",
    "\n",
    "    for i = 1:3\n",
    "\n",
    "        VEGAS_d[1, i] = (7 * VEGAS_d[1, i] + VEGAS_d[2, i]) / (8 * VEGAS_sum_all_d[i])\n",
    "\n",
    "        for n = 2:(N_g-1)\n",
    "            VEGAS_d[n, i] =\n",
    "                (VEGAS_d[n-1, i] + 6 * VEGAS_d[n, i] + VEGAS_d[n+1, i]) /\n",
    "                (8 * VEGAS_sum_all_d[i])\n",
    "        end\n",
    "\n",
    "        VEGAS_d[N_g, i] =\n",
    "            (VEGAS_d[N_g-1, i] + 7 * VEGAS_d[N_g, i]) / (8 * VEGAS_sum_all_d[i])\n",
    "    end\n",
    "\n",
    "end"
   ]
  },
  {
   "cell_type": "code",
   "execution_count": 37,
   "id": "d47f54e2-bb64-452f-a10e-b00b6c9ea8b1",
   "metadata": {},
   "outputs": [
    {
     "data": {
      "text/plain": [
       "VEGAS_d_compression (generic function with 1 method)"
      ]
     },
     "execution_count": 37,
     "metadata": {},
     "output_type": "execute_result"
    }
   ],
   "source": [
    "function VEGAS_d_compression(N_g, VEGAS_d, alpha)\n",
    "\n",
    "    for i = 1:3\n",
    "        for n = 1:N_g\n",
    "            VEGAS_d[n, i] = ((1 - VEGAS_d[n, i]) / (log(1 / VEGAS_d[n, i])))^(alpha)\n",
    "        end\n",
    "    end\n",
    "\n",
    "end"
   ]
  },
  {
   "cell_type": "code",
   "execution_count": 121,
   "id": "a1ea6852-5938-4ff7-bf9d-8cf1f1b9e7d3",
   "metadata": {},
   "outputs": [
    {
     "data": {
      "text/plain": [
       "VEGAS_grid_refinement (generic function with 2 methods)"
      ]
     },
     "execution_count": 121,
     "metadata": {},
     "output_type": "execute_result"
    }
   ],
   "source": [
    "function VEGAS_grid_refinement(\n",
    "    N_g,\n",
    "    VEGAS_d,\n",
    "    VEGAS_grid,\n",
    "    VEGAS_grid_improved,\n",
    "    VEGAS_spacing_grid,\n",
    "    VEGAS_spacing_grid_improved,\n",
    ")\n",
    "\n",
    "    delta_d = Array{Float64}(undef, 3)\n",
    "\n",
    "    VEGAS_sum_all_d = vec(sum(VEGAS_d, dims = 1))\n",
    "\n",
    "    println(VEGAS_sum_all_d)\n",
    "\n",
    "    delta_d[:] .= VEGAS_sum_all_d[:] ./ N_g\n",
    "\n",
    "    for axis = 1:3\n",
    "\n",
    "        VEGAS_grid_improved[1, axis] = VEGAS_grid[1, axis]\n",
    "        VEGAS_grid_improved[end, axis] = VEGAS_grid[end, axis]\n",
    "\n",
    "        # index of current improved x\n",
    "        i = 0\n",
    "\n",
    "        # index of current old x\n",
    "        j = 0\n",
    "\n",
    "        # amount of d accumulated\n",
    "        S_d = 0\n",
    "\n",
    "        while (true)\n",
    "\n",
    "            i += 1\n",
    "\n",
    "            # CHECK INDEX AT THE END\n",
    "            if (i == N_g)\n",
    "                break\n",
    "            end\n",
    "\n",
    "            while (S_d < delta_d[axis])\n",
    "\n",
    "                S_d += VEGAS_d[j+1, axis]\n",
    "\n",
    "                #  println(S_d)\n",
    "                #  println(delta_d[axis])\n",
    "                #  println(j)\n",
    "\n",
    "                j += 1\n",
    "\n",
    "            end\n",
    "\n",
    "            S_d -= delta_d[axis]\n",
    "\n",
    "            println(i)\n",
    "            println(j)\n",
    "            flush(stdout)\n",
    "\n",
    "            VEGAS_grid_improved[i+1, axis] =\n",
    "                VEGAS_grid[j+1, axis] -\n",
    "                (S_d / VEGAS_d[j, axis]) * VEGAS_spacing_grid[j, axis]\n",
    "\n",
    "        end\n",
    "\n",
    "        for j = 1:N_g\n",
    "            VEGAS_spacing_grid_improved[j, axis] =\n",
    "                VEGAS_grid_improved[j+1, axis] - VEGAS_grid_improved[j, axis]\n",
    "        end\n",
    "\n",
    "    end\n",
    "\n",
    "end"
   ]
  },
  {
   "cell_type": "markdown",
   "id": "e8d4628a-378e-4454-a651-9dba43bc88a7",
   "metadata": {},
   "source": [
    "Notice that it is better to reshape the matrix as:\n",
    "\n",
    "\\begin{align}\n",
    "\\text{VEGAS_d} \\longrightarrow\n",
    "\\begin{pmatrix}\n",
    "d_0^x & d_0^y & d_0^z \\\\\n",
    "d_1^x & d_1^y & d_1^z \\\\\n",
    "\\vdots & \\vdots & \\vdots \\\\\n",
    "d_{N_g-1}^x & d_{N_g-1}^y & d_{N_g-1}^z \\\\\n",
    "\\end{pmatrix}\n",
    "\\end{align}\n",
    "\n",
    "according to julia's convention for data storage"
   ]
  },
  {
   "cell_type": "code",
   "execution_count": 43,
   "id": "5393ca97-bf71-4a7b-b61c-fec6e0b93db0",
   "metadata": {},
   "outputs": [
    {
     "data": {
      "text/plain": [
       "3×100 Matrix{Float64}:\n",
       " 0.0       0.0        0.0      0.0600551  …  0.0432306  0.0432325  0.0432304\n",
       " 0.0       0.0        0.0      0.0371799     0.0630299  0.0630303  0.0630313\n",
       " 0.042069  0.0413344  0.04131  0.0415965     0.188985   0.188465   0.188548"
      ]
     },
     "execution_count": 43,
     "metadata": {},
     "output_type": "execute_result"
    }
   ],
   "source": [
    "VEGAS_d = permutedims(VEGAS_d, (2, 1))\n",
    "\n",
    "VEGAS_d_smoothing(N_g, VEGAS_d)\n",
    "\n",
    "VEGAS_d_compression(N_g, VEGAS_d, 1.5)\n",
    "\n",
    "VEGAS_grid_refinement(\n",
    "    N_g,\n",
    "    VEGAS_d,\n",
    "    VEGAS_grid,\n",
    "    VEGAS_grid_improved,\n",
    "    VEGAS_spacing_grid,\n",
    "    VEGAS_spacing_grid_improved,\n",
    ")\n",
    "\n",
    "VEGAS_d = permutedims(VEGAS_d, (2, 1))"
   ]
  },
  {
   "cell_type": "code",
   "execution_count": 44,
   "id": "7c41d667-da92-410a-835f-113bb56deb92",
   "metadata": {},
   "outputs": [
    {
     "data": {
      "text/plain": [
       "3×100 Matrix{Float64}:\n",
       " 0.0       0.0        0.0      0.0600551  …  0.0432306  0.0432325  0.0432304\n",
       " 0.0       0.0        0.0      0.0371799     0.0630299  0.0630303  0.0630313\n",
       " 0.042069  0.0413344  0.04131  0.0415965     0.188985   0.188465   0.188548"
      ]
     },
     "execution_count": 44,
     "metadata": {},
     "output_type": "execute_result"
    }
   ],
   "source": [
    "VEGAS_d"
   ]
  },
  {
   "cell_type": "code",
   "execution_count": 45,
   "id": "08640b76-874e-46cc-b9c7-414b0715316d",
   "metadata": {},
   "outputs": [
    {
     "data": {
      "text/plain": [
       "101×3 Matrix{Float64}:\n",
       "  0.0        0.0        0.0\n",
       "  0.421976   0.493513   0.189559\n",
       "  0.50136    0.652708   0.380445\n",
       "  0.569712   0.811713   0.563703\n",
       "  0.637846   0.970759   0.745425\n",
       "  0.705799   1.12983    0.927136\n",
       "  0.773681   1.28891    1.10884\n",
       "  0.841653   1.44196    1.29056\n",
       "  0.909669   1.58338    1.46773\n",
       "  0.977603   1.72307    1.63886\n",
       "  1.04555    1.8628     1.8097\n",
       "  1.11348    2.00252    1.98055\n",
       "  1.18138    2.14231    2.15139\n",
       "  ⋮                    \n",
       "  8.04502    8.62985    9.53854\n",
       "  8.20816    8.74727    9.58069\n",
       "  8.37131    8.86464    9.62272\n",
       "  8.5387     8.98195    9.66464\n",
       "  8.71666    9.0993     9.70655\n",
       "  8.89492    9.2167     9.7484\n",
       "  9.07317    9.33411    9.79025\n",
       "  9.25141    9.45267    9.83219\n",
       "  9.42993    9.58371    9.87415\n",
       "  9.61624    9.72243    9.91611\n",
       "  9.80811    9.86122    9.95805\n",
       " 10.0       10.0       10.0"
      ]
     },
     "execution_count": 45,
     "metadata": {},
     "output_type": "execute_result"
    }
   ],
   "source": [
    "VEGAS_grid_improved"
   ]
  },
  {
   "cell_type": "code",
   "execution_count": 46,
   "id": "a00d4ec8-851c-4ed4-9870-626bcd9d6e0e",
   "metadata": {},
   "outputs": [
    {
     "data": {
      "text/plain": [
       "100×3 Matrix{Float64}:\n",
       " 0.421976   0.493513  0.189559\n",
       " 0.0793845  0.159195  0.190886\n",
       " 0.0683516  0.159005  0.183258\n",
       " 0.0681338  0.159046  0.181722\n",
       " 0.0679537  0.159076  0.181711\n",
       " 0.0678817  0.159079  0.181708\n",
       " 0.067972   0.153042  0.181711\n",
       " 0.0680156  0.14142   0.177172\n",
       " 0.0679341  0.139692  0.171132\n",
       " 0.067944   0.139732  0.17084\n",
       " 0.0679379  0.139719  0.170849\n",
       " 0.0678936  0.139788  0.170838\n",
       " 0.0680748  0.13972   0.170584\n",
       " ⋮                    \n",
       " 0.163151   0.116976  0.0425471\n",
       " 0.163136   0.117421  0.0421505\n",
       " 0.163148   0.117368  0.0420277\n",
       " 0.167398   0.117308  0.0419238\n",
       " 0.177957   0.117351  0.0419121\n",
       " 0.17826    0.117397  0.0418487\n",
       " 0.178247   0.117408  0.0418487\n",
       " 0.178238   0.118561  0.0419374\n",
       " 0.17853    0.131046  0.0419643\n",
       " 0.186306   0.138717  0.0419572\n",
       " 0.191874   0.138786  0.0419457\n",
       " 0.191885   0.138784  0.0419457"
      ]
     },
     "execution_count": 46,
     "metadata": {},
     "output_type": "execute_result"
    }
   ],
   "source": [
    "VEGAS_spacing_grid_improved"
   ]
  },
  {
   "cell_type": "markdown",
   "id": "acea7ac5-ff41-43bc-bd30-41ea7f439b87",
   "metadata": {},
   "source": [
    "## Full VEGAS algorithm"
   ]
  },
  {
   "cell_type": "markdown",
   "id": "87383eb5-6f3f-4e30-847a-2e2a18c71a13",
   "metadata": {},
   "source": [
    "Let's try now to write the full algorithm "
   ]
  },
  {
   "cell_type": "markdown",
   "id": "b41609c1-43e6-4ce4-9b6e-c7a7ddfa1d5d",
   "metadata": {},
   "source": [
    "Let's try now to write the full algorithm \n",
    "\n",
    "The list of parameters is the following:\n",
    "\n",
    "- $x_0$, $y_0$ $z_0$: Input numbers of function $F$\n",
    "- $N_g$: Number of elements in the grid\n",
    "- $N_{ev}$: Number of Monte Carlo sample in the grid for each iteration\n",
    "- $N_{it}$: Number of VEGAS iterations (at each iteration the grid improves)\n",
    "- $\\alpha$: Parameter used in the compression phase\n",
    "- $V$: Number of total configurations (used to re-normalize in the discrete case)"
   ]
  },
  {
   "cell_type": "code",
   "execution_count": 122,
   "id": "7e75c60c-f643-4177-a367-fabd2b1d9ae9",
   "metadata": {},
   "outputs": [
    {
     "data": {
      "text/plain": [
       "VEGAS_algorithm (generic function with 1 method)"
      ]
     },
     "execution_count": 122,
     "metadata": {},
     "output_type": "execute_result"
    }
   ],
   "source": [
    "function VEGAS_algorithm(x0, y0, z0, N_g, N_ev, N_it, alpha, V)\n",
    "\n",
    "\n",
    "    VEGAS_grid = Array{Float64}(undef, N_g + 1, 3)\n",
    "    VEGAS_grid_improved = Array{Float64}(undef, N_g + 1, 3)\n",
    "\n",
    "    a = 0\n",
    "    b = 10\n",
    "    for i = 1:3\n",
    "        VEGAS_grid[:, i] .= collect(LinRange(a, b, N_g + 1))\n",
    "    end\n",
    "\n",
    "    VEGAS_spacing_grid = Array{Float64}(undef, N_g, 3)\n",
    "    VEGAS_spacing_grid_improved = Array{Float64}(undef, N_g, 3)\n",
    "\n",
    "    for i = 1:3\n",
    "        for j = 1:N_g\n",
    "            VEGAS_spacing_grid[j, i] = VEGAS_grid[j+1, i] - VEGAS_grid[j, i]\n",
    "        end\n",
    "    end\n",
    "\n",
    "    Result_estimate = Array{Float64}(undef, 1)\n",
    "\n",
    "    for n = 1:N_it\n",
    "\n",
    "        println(\"VEGAS iteration $(n)\")\n",
    "        flush(stdout)\n",
    "\n",
    "        VEGAS_d = zeros(3, N_g)\n",
    "\n",
    "        # populates VEGAS_d and Result_estimate by using current VEGAS_grid and VEGAS_spacing_grid\n",
    "        VEGAS_sampling(\n",
    "            x0,\n",
    "            y0,\n",
    "            z0,\n",
    "            N_ev,\n",
    "            N_g,\n",
    "            VEGAS_grid,\n",
    "            VEGAS_spacing_grid,\n",
    "            VEGAS_d,\n",
    "            V,\n",
    "            Result_estimate,\n",
    "        )\n",
    "\n",
    "        println(\"The current estimate of the sum is $(Result_estimate[1])\")\n",
    "        flush(stdout)\n",
    "\n",
    "        VEGAS_d = permutedims(VEGAS_d, (2, 1))\n",
    "\n",
    "        VEGAS_d_smoothing(N_g, VEGAS_d)\n",
    "\n",
    "        VEGAS_d_compression(N_g, VEGAS_d, alpha)\n",
    "\n",
    "        # refines the grid by using VEGAS_d and the current VEGAS_grid and VEGAS_spacing_grid\n",
    "        VEGAS_grid_refinement(\n",
    "            N_g,\n",
    "            VEGAS_d,\n",
    "            VEGAS_grid,\n",
    "            VEGAS_grid_improved,\n",
    "            VEGAS_spacing_grid,\n",
    "            VEGAS_spacing_grid_improved,\n",
    "        )\n",
    "\n",
    "        VEGAS_d = permutedims(VEGAS_d, (2, 1))\n",
    "\n",
    "        #println(VEGAS_spacing_grid[:, 2])\n",
    "\n",
    "        VEGAS_spacing_grid[:] .= VEGAS_spacing_grid_improved[:]\n",
    "\n",
    "        VEGAS_grid[:] .= VEGAS_grid_improved[:]\n",
    "\n",
    "    end\n",
    "\n",
    "end"
   ]
  },
  {
   "cell_type": "code",
   "execution_count": 123,
   "id": "70d755b3-97c1-46d5-a4a4-78000c6e14e0",
   "metadata": {},
   "outputs": [
    {
     "name": "stdout",
     "output_type": "stream",
     "text": [
      "VEGAS iteration 1\n",
      "The following number X was generated along axis 1 between 0 and 1:\n",
      "0.31805787452236\n",
      "The following number x is the corresponding in the grid along axis 1 between 0 and 10:\n",
      "3.1805787452236\n",
      "It corresponds to index 3 in the grid, which means index 4 in the matrix\n",
      "This is the Jacobian along axis 1:\n",
      "10.0\n",
      "The number was rounded to:\n",
      "3\n",
      " \n",
      "The following number X was generated along axis 2 between 0 and 1:\n",
      "0.07498007254998962\n",
      "The following number x is the corresponding in the grid along axis 2 between 0 and 10:\n",
      "0.7498007254998962\n",
      "It corresponds to index 0 in the grid, which means index 1 in the matrix\n",
      "This is the Jacobian along axis 2:\n",
      "10.0\n",
      "The number was rounded to:\n",
      "1\n",
      " \n",
      "The following number X was generated along axis 3 between 0 and 1:\n",
      "0.5501067191205411\n",
      "The following number x is the corresponding in the grid along axis 3 between 0 and 10:\n",
      "5.501067191205411\n",
      "It corresponds to index 5 in the grid, which means index 6 in the matrix\n",
      "This is the Jacobian along axis 3:\n",
      "10.0\n",
      "The number was rounded to:\n",
      "6\n",
      " \n",
      " \n",
      " \n",
      " \n",
      "The following number X was generated along axis 1 between 0 and 1:\n",
      "0.2860657022992077\n",
      "The following number x is the corresponding in the grid along axis 1 between 0 and 10:\n",
      "2.860657022992077\n",
      "It corresponds to index 2 in the grid, which means index 3 in the matrix\n",
      "This is the Jacobian along axis 1:\n",
      "10.0\n",
      "The number was rounded to:\n",
      "3\n",
      " \n",
      "The following number X was generated along axis 2 between 0 and 1:\n",
      "0.4064561812155395\n",
      "The following number x is the corresponding in the grid along axis 2 between 0 and 10:\n",
      "4.064561812155395\n",
      "It corresponds to index 4 in the grid, which means index 5 in the matrix\n",
      "This is the Jacobian along axis 2:\n",
      "10.0\n",
      "The number was rounded to:\n",
      "4\n",
      " \n",
      "The following number X was generated along axis 3 between 0 and 1:\n",
      "0.1932947269813613\n",
      "The following number x is the corresponding in the grid along axis 3 between 0 and 10:\n",
      "1.932947269813613\n",
      "It corresponds to index 1 in the grid, which means index 2 in the matrix\n",
      "This is the Jacobian along axis 3:\n",
      "10.0\n",
      "The number was rounded to:\n",
      "2\n",
      " \n",
      " \n",
      " \n",
      " \n",
      "The following number X was generated along axis 1 between 0 and 1:\n",
      "0.015368913538377105\n",
      "The following number x is the corresponding in the grid along axis 1 between 0 and 10:\n",
      "0.15368913538377105\n",
      "It corresponds to index 0 in the grid, which means index 1 in the matrix\n",
      "This is the Jacobian along axis 1:\n",
      "10.0\n",
      "The number was rounded to:\n",
      "0\n",
      " \n",
      "The following number X was generated along axis 2 between 0 and 1:\n",
      "0.6033563069037133\n",
      "The following number x is the corresponding in the grid along axis 2 between 0 and 10:\n",
      "6.033563069037133\n",
      "It corresponds to index 6 in the grid, which means index 7 in the matrix\n",
      "This is the Jacobian along axis 2:\n",
      "10.0\n",
      "The number was rounded to:\n",
      "6\n",
      " \n",
      "The following number X was generated along axis 3 between 0 and 1:\n",
      "0.6550775681658575\n",
      "The following number x is the corresponding in the grid along axis 3 between 0 and 10:\n",
      "6.550775681658575\n",
      "It corresponds to index 6 in the grid, which means index 7 in the matrix\n",
      "This is the Jacobian along axis 3:\n",
      "10.0\n",
      "The number was rounded to:\n",
      "7\n",
      " \n",
      " \n",
      " \n",
      " \n",
      "The following number X was generated along axis 1 between 0 and 1:\n",
      "0.9126946842394286\n",
      "The following number x is the corresponding in the grid along axis 1 between 0 and 10:\n",
      "9.126946842394286\n",
      "It corresponds to index 9 in the grid, which means index 10 in the matrix\n",
      "This is the Jacobian along axis 1:\n",
      "10.0\n",
      "The number was rounded to:\n",
      "9\n",
      " \n",
      "The following number X was generated along axis 2 between 0 and 1:\n",
      "0.5679332070649216\n",
      "The following number x is the corresponding in the grid along axis 2 between 0 and 10:\n",
      "5.679332070649216\n",
      "It corresponds to index 5 in the grid, which means index 6 in the matrix\n",
      "This is the Jacobian along axis 2:\n",
      "10.0\n",
      "The number was rounded to:\n",
      "6\n",
      " \n",
      "The following number X was generated along axis 3 between 0 and 1:\n",
      "0.571997867560434\n",
      "The following number x is the corresponding in the grid along axis 3 between 0 and 10:\n",
      "5.71997867560434\n",
      "It corresponds to index 5 in the grid, which means index 6 in the matrix\n",
      "This is the Jacobian along axis 3:\n",
      "10.0\n",
      "The number was rounded to:\n",
      "6\n",
      " \n",
      " \n",
      " \n",
      " \n",
      "The following number X was generated along axis 1 between 0 and 1:\n",
      "0.510409137311696\n",
      "The following number x is the corresponding in the grid along axis 1 between 0 and 10:\n",
      "5.10409137311696\n",
      "It corresponds to index 5 in the grid, which means index 6 in the matrix\n",
      "This is the Jacobian along axis 1:\n",
      "10.0\n",
      "The number was rounded to:\n",
      "5\n",
      " \n",
      "The following number X was generated along axis 2 between 0 and 1:\n",
      "0.37914907300209466\n",
      "The following number x is the corresponding in the grid along axis 2 between 0 and 10:\n",
      "3.7914907300209464\n",
      "It corresponds to index 3 in the grid, which means index 4 in the matrix\n",
      "This is the Jacobian along axis 2:\n",
      "10.0\n",
      "The number was rounded to:\n",
      "4\n",
      " \n",
      "The following number X was generated along axis 3 between 0 and 1:\n",
      "0.26576138447683684\n",
      "The following number x is the corresponding in the grid along axis 3 between 0 and 10:\n",
      "2.6576138447683686\n",
      "It corresponds to index 2 in the grid, which means index 3 in the matrix\n",
      "This is the Jacobian along axis 3:\n",
      "10.0\n",
      "The number was rounded to:\n",
      "3\n",
      " \n",
      " \n",
      " \n",
      " \n",
      "The following number X was generated along axis 1 between 0 and 1:\n",
      "0.6948408702866468\n",
      "The following number x is the corresponding in the grid along axis 1 between 0 and 10:\n",
      "6.948408702866468\n",
      "It corresponds to index 6 in the grid, which means index 7 in the matrix\n",
      "This is the Jacobian along axis 1:\n",
      "10.0\n",
      "The number was rounded to:\n",
      "7\n",
      " \n",
      "The following number X was generated along axis 2 between 0 and 1:\n",
      "0.3461183064662061\n",
      "The following number x is the corresponding in the grid along axis 2 between 0 and 10:\n",
      "3.461183064662061\n",
      "It corresponds to index 3 in the grid, which means index 4 in the matrix\n",
      "This is the Jacobian along axis 2:\n",
      "10.0\n",
      "The number was rounded to:\n",
      "3\n",
      " \n",
      "The following number X was generated along axis 3 between 0 and 1:\n",
      "0.7608031669733326\n",
      "The following number x is the corresponding in the grid along axis 3 between 0 and 10:\n",
      "7.608031669733326\n",
      "It corresponds to index 7 in the grid, which means index 8 in the matrix\n",
      "This is the Jacobian along axis 3:\n",
      "10.0\n",
      "The number was rounded to:\n",
      "8\n",
      " \n",
      " \n",
      " \n",
      " \n",
      "The following number X was generated along axis 1 between 0 and 1:\n",
      "0.0025372531412624078\n",
      "The following number x is the corresponding in the grid along axis 1 between 0 and 10:\n",
      "0.025372531412624078\n",
      "It corresponds to index 0 in the grid, which means index 1 in the matrix\n",
      "This is the Jacobian along axis 1:\n",
      "10.0\n",
      "The number was rounded to:\n",
      "0\n",
      " \n",
      "The following number X was generated along axis 2 between 0 and 1:\n",
      "0.19912720227513792\n",
      "The following number x is the corresponding in the grid along axis 2 between 0 and 10:\n",
      "1.9912720227513792\n",
      "It corresponds to index 1 in the grid, which means index 2 in the matrix\n",
      "This is the Jacobian along axis 2:\n",
      "10.0\n",
      "The number was rounded to:\n",
      "2\n",
      " \n",
      "The following number X was generated along axis 3 between 0 and 1:\n",
      "0.7774193117591579\n",
      "The following number x is the corresponding in the grid along axis 3 between 0 and 10:\n",
      "7.7741931175915795\n",
      "It corresponds to index 7 in the grid, which means index 8 in the matrix\n",
      "This is the Jacobian along axis 3:\n",
      "10.0\n",
      "The number was rounded to:\n",
      "8\n",
      " \n",
      " \n",
      " \n",
      " \n",
      "The following number X was generated along axis 1 between 0 and 1:\n",
      "0.31864871846602716\n",
      "The following number x is the corresponding in the grid along axis 1 between 0 and 10:\n",
      "3.1864871846602716\n",
      "It corresponds to index 3 in the grid, which means index 4 in the matrix\n",
      "This is the Jacobian along axis 1:\n",
      "10.0\n",
      "The number was rounded to:\n",
      "3\n",
      " \n",
      "The following number X was generated along axis 2 between 0 and 1:\n",
      "0.9396766525463687\n",
      "The following number x is the corresponding in the grid along axis 2 between 0 and 10:\n",
      "9.396766525463686\n",
      "It corresponds to index 9 in the grid, which means index 10 in the matrix\n",
      "This is the Jacobian along axis 2:\n",
      "10.0\n",
      "The number was rounded to:\n",
      "9\n",
      " \n",
      "The following number X was generated along axis 3 between 0 and 1:\n",
      "0.25371743831280147\n",
      "The following number x is the corresponding in the grid along axis 3 between 0 and 10:\n",
      "2.537174383128015\n",
      "It corresponds to index 2 in the grid, which means index 3 in the matrix\n",
      "This is the Jacobian along axis 3:\n",
      "10.0\n",
      "The number was rounded to:\n",
      "3\n",
      " \n",
      " \n",
      " \n",
      " \n",
      "The following number X was generated along axis 1 between 0 and 1:\n",
      "0.5833874469857431\n",
      "The following number x is the corresponding in the grid along axis 1 between 0 and 10:\n",
      "5.833874469857431\n",
      "It corresponds to index 5 in the grid, which means index 6 in the matrix\n",
      "This is the Jacobian along axis 1:\n",
      "10.0\n",
      "The number was rounded to:\n",
      "6\n",
      " \n",
      "The following number X was generated along axis 2 between 0 and 1:\n",
      "0.7096332309036525\n",
      "The following number x is the corresponding in the grid along axis 2 between 0 and 10:\n",
      "7.096332309036525\n",
      "It corresponds to index 7 in the grid, which means index 8 in the matrix\n",
      "This is the Jacobian along axis 2:\n",
      "10.0\n",
      "The number was rounded to:\n",
      "7\n",
      " \n",
      "The following number X was generated along axis 3 between 0 and 1:\n",
      "0.533512288317138\n",
      "The following number x is the corresponding in the grid along axis 3 between 0 and 10:\n",
      "5.335122883171381\n",
      "It corresponds to index 5 in the grid, which means index 6 in the matrix\n",
      "This is the Jacobian along axis 3:\n",
      "10.0\n",
      "The number was rounded to:\n",
      "5\n",
      " \n",
      " \n",
      " \n",
      " \n",
      "The following number X was generated along axis 1 between 0 and 1:\n",
      "0.07682705801333822\n",
      "The following number x is the corresponding in the grid along axis 1 between 0 and 10:\n",
      "0.7682705801333822\n",
      "It corresponds to index 0 in the grid, which means index 1 in the matrix\n",
      "This is the Jacobian along axis 1:\n",
      "10.0\n",
      "The number was rounded to:\n",
      "1\n",
      " \n",
      "The following number X was generated along axis 2 between 0 and 1:\n",
      "0.1456526098015295\n",
      "The following number x is the corresponding in the grid along axis 2 between 0 and 10:\n",
      "1.456526098015295\n",
      "It corresponds to index 1 in the grid, which means index 2 in the matrix\n",
      "This is the Jacobian along axis 2:\n",
      "10.0\n",
      "The number was rounded to:\n",
      "1\n",
      " \n",
      "The following number X was generated along axis 3 between 0 and 1:\n",
      "0.05813253992483647\n",
      "The following number x is the corresponding in the grid along axis 3 between 0 and 10:\n",
      "0.5813253992483647\n",
      "It corresponds to index 0 in the grid, which means index 1 in the matrix\n",
      "This is the Jacobian along axis 3:\n",
      "10.0\n",
      "The number was rounded to:\n",
      "1\n",
      " \n",
      " \n",
      " \n",
      " \n",
      "The current estimate of the sum is -1.0336797006060023e-7\n",
      "[NaN, NaN, NaN]\n",
      "1\n",
      "0\n"
     ]
    },
    {
     "ename": "LoadError",
     "evalue": "BoundsError: attempt to access 10×3 Matrix{Float64} at index [0, 1]",
     "output_type": "error",
     "traceback": [
      "BoundsError: attempt to access 10×3 Matrix{Float64} at index [0, 1]",
      "",
      "Stacktrace:",
      " [1] getindex",
      "   @ ./array.jl:862 [inlined]",
      " [2] VEGAS_grid_refinement(N_g::Int64, VEGAS_d::Matrix{Float64}, VEGAS_grid::Matrix{Float64}, VEGAS_grid_improved::Matrix{Float64}, VEGAS_spacing_grid::Matrix{Float64}, VEGAS_spacing_grid_improved::Matrix{Float64})",
      "   @ Main ./In[121]:59",
      " [3] VEGAS_algorithm(x0::Int64, y0::Int64, z0::Int64, N_g::Int64, N_ev::Int64, N_it::Int64, alpha::Int64, V::Int64)",
      "   @ Main ./In[122]:55",
      " [4] top-level scope",
      "   @ In[123]:1",
      " [5] eval",
      "   @ ./boot.jl:373 [inlined]",
      " [6] include_string(mapexpr::typeof(REPL.softscope), mod::Module, code::String, filename::String)",
      "   @ Base ./loading.jl:1196"
     ]
    }
   ],
   "source": [
    "VEGAS_algorithm(2, 6, 10, 10, 10, 10, 1, V)"
   ]
  },
  {
   "cell_type": "code",
   "execution_count": null,
   "id": "15ef4f1a-7982-4121-9593-766aef58a8eb",
   "metadata": {},
   "outputs": [],
   "source": []
  }
 ],
 "metadata": {
  "kernelspec": {
   "display_name": "Julia 1.7.2",
   "language": "julia",
   "name": "julia-1.7"
  },
  "language_info": {
   "file_extension": ".jl",
   "mimetype": "application/julia",
   "name": "julia",
   "version": "1.7.2"
  }
 },
 "nbformat": 4,
 "nbformat_minor": 5
}
