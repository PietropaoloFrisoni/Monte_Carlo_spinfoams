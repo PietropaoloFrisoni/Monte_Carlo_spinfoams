{
 "cells": [
  {
   "cell_type": "markdown",
   "id": "08b8ae99-d6a8-44aa-9f8d-e30f5b504ec6",
   "metadata": {},
   "source": [
    "# Toy model"
   ]
  },
  {
   "cell_type": "markdown",
   "id": "a3c3c1a7-8cf3-4f37-b0d0-a15ff76a164a",
   "metadata": {},
   "source": [
    "This toy model has the purpose of testing the VEGAS algorithm in order to compute a discret sum.\n",
    "\n",
    "I consider a function $f$ defined as:"
   ]
  },
  {
   "cell_type": "markdown",
   "id": "52a216f2-a354-4a48-90fa-c542faea53d7",
   "metadata": {},
   "source": [
    "$$\n",
    "f(x_0, y_0, z_0) = \\sum\\limits_{x = 0}^{10} \\sum\\limits_{y = 0}^{10} \\sum\\limits_{z = 0}^{10} e^{-\\frac{1}{2} \\left( x - x_0 \\right)^2} e^{-\\frac{1}{2} \\left( y - y_0 \\right)^2} e^{-\\frac{1}{2} \\left( z - z_0 \\right)^2} \\sin \\left( xy \\right) \\cos \\left( z \\right)\n",
    "$$"
   ]
  },
  {
   "cell_type": "code",
   "execution_count": 1,
   "id": "aa406dc8-d0dc-49f6-9769-7e0a4d701371",
   "metadata": {},
   "outputs": [
    {
     "data": {
      "text/plain": [
       "f (generic function with 1 method)"
      ]
     },
     "execution_count": 1,
     "metadata": {},
     "output_type": "execute_result"
    }
   ],
   "source": [
    "function f(x0, y0, z0)\n",
    "    \n",
    "    result = 0.0\n",
    "   \n",
    "    for x=0:10, y=0:10, z=0:10\n",
    "    \n",
    "        result += exp(-(1/2)*(x - x0)^2)*exp(-(1/2)*(y - y0)^2)*exp(-(1/2)*(z - z0)^2)*sin(x*y)*cos(z)\n",
    "        \n",
    "    end\n",
    "        \n",
    "    return result\n",
    "    \n",
    "end"
   ]
  },
  {
   "cell_type": "markdown",
   "id": "c26498df-c6b6-4e54-9eff-d4a4c2c94e54",
   "metadata": {
    "tags": []
   },
   "source": [
    "## Exact result"
   ]
  },
  {
   "cell_type": "markdown",
   "id": "8f4fcefd-b79a-48d3-a05b-a4d01a164172",
   "metadata": {},
   "source": [
    "Let's first compute the exact value of the function for some values of $(x_0, y_0, z_0)$"
   ]
  },
  {
   "cell_type": "code",
   "execution_count": 6,
   "id": "13f74871-96ee-4f1d-9758-e9971479f880",
   "metadata": {},
   "outputs": [
    {
     "name": "stdout",
     "output_type": "stream",
     "text": [
      "  0.000041 seconds\n"
     ]
    },
    {
     "data": {
      "text/plain": [
       "0.692056321795933"
      ]
     },
     "execution_count": 6,
     "metadata": {},
     "output_type": "execute_result"
    }
   ],
   "source": [
    "@time f(2,6,10)"
   ]
  },
  {
   "cell_type": "code",
   "execution_count": 8,
   "id": "2a3e5bf1-be81-48c1-9559-d583ccd4eaed",
   "metadata": {},
   "outputs": [
    {
     "name": "stdout",
     "output_type": "stream",
     "text": [
      "  0.000039 seconds\n"
     ]
    },
    {
     "data": {
      "text/plain": [
       "-1.2701664008437514"
      ]
     },
     "execution_count": 8,
     "metadata": {},
     "output_type": "execute_result"
    }
   ],
   "source": [
    "@time f(0,8,10)"
   ]
  },
  {
   "cell_type": "code",
   "execution_count": 9,
   "id": "7bfecf71-7424-4555-85a0-8b83316aca4e",
   "metadata": {},
   "outputs": [
    {
     "name": "stdout",
     "output_type": "stream",
     "text": [
      "  0.000040 seconds\n"
     ]
    },
    {
     "data": {
      "text/plain": [
       "-1.0645141883730707"
      ]
     },
     "execution_count": 9,
     "metadata": {},
     "output_type": "execute_result"
    }
   ],
   "source": [
    "@time f(7,2.4,3)"
   ]
  },
  {
   "cell_type": "markdown",
   "id": "3f6c1767-cabe-47e8-b022-3e9a9467097c",
   "metadata": {},
   "source": [
    "## Standard Monte Carlo"
   ]
  },
  {
   "cell_type": "markdown",
   "id": "51b05bc1-de74-4fa1-bbfd-1026d81790c8",
   "metadata": {},
   "source": [
    "Let's now construct a standard Monte Carlo estimator for the above function"
   ]
  },
  {
   "cell_type": "markdown",
   "id": "dfa61989-970d-4cf1-a43d-adc3cb756466",
   "metadata": {},
   "source": [
    "$$\n",
    "\\lim_{N\\to\\infty} f_{MC}(x_0, y_0, z_0, N) = f(x_0, y_0, z_0) \n",
    "$$"
   ]
  },
  {
   "cell_type": "code",
   "execution_count": null,
   "id": "16d7b045-be0e-455e-b412-32345c02d9a7",
   "metadata": {},
   "outputs": [],
   "source": []
  },
  {
   "cell_type": "markdown",
   "id": "85a8d986-0bab-4c44-8e7d-e85499066fbf",
   "metadata": {},
   "source": [
    "$$\n",
    "f_{MC}(x_0, y_0, z_0, N) = \\frac{V}{N} \\sum\\limits_{[x, y, z]_1 \\dots [x, y, z]_N} f([ x, y, z ])\n",
    "$$"
   ]
  },
  {
   "cell_type": "markdown",
   "id": "fa4c2c37-4231-468c-8db1-a1c91db64af3",
   "metadata": {},
   "source": [
    "where $ V = 11^3 $, as this is the total number of possible configurations"
   ]
  },
  {
   "cell_type": "code",
   "execution_count": 15,
   "id": "d0fa1b6d-854b-4f87-9edf-278f6d565078",
   "metadata": {},
   "outputs": [],
   "source": [
    "using Distributions, Random"
   ]
  },
  {
   "cell_type": "code",
   "execution_count": 46,
   "id": "1e2ffb77-bacc-49d5-8197-bfe447ca60f7",
   "metadata": {},
   "outputs": [
    {
     "data": {
      "text/plain": [
       "fMC (generic function with 1 method)"
      ]
     },
     "execution_count": 46,
     "metadata": {},
     "output_type": "execute_result"
    }
   ],
   "source": [
    "function fMC(x0, y0, z0, N)\n",
    "    \n",
    "    draw = Array{Int}(undef, 3);\n",
    "    draw_float_sample = Array{Float64}(undef, 1);\n",
    "    Uniform_distribution = Uniform(0, 10);\n",
    "    \n",
    "    result = 0.0\n",
    "   \n",
    "    for i=1:N\n",
    "        \n",
    "          for i = 1:3\n",
    "              rand!(Uniform_distribution, draw_float_sample)\n",
    "              draw_float_sample[1] = round(Int64, draw_float_sample[1])\n",
    "              draw[i] = Int(draw_float_sample[1])\n",
    "          end\n",
    "    \n",
    "        result += exp(-(1/2)*(draw[1] - x0)^2)*exp(-(1/2)*(draw[2] - y0)^2)*exp(-(1/2)*(draw[3] - z0)^2)*sin(draw[1]*draw[2])*cos(draw[3])\n",
    "        \n",
    "    end\n",
    "    \n",
    "    result = result*11^3/N\n",
    "        \n",
    "    return result\n",
    "    \n",
    "end"
   ]
  },
  {
   "cell_type": "code",
   "execution_count": 85,
   "id": "98852aa9-f28e-4f72-a3c0-c75c1f60389a",
   "metadata": {},
   "outputs": [
    {
     "name": "stdout",
     "output_type": "stream",
     "text": [
      "  0.700662 seconds (2 allocations: 144 bytes)\n"
     ]
    },
    {
     "data": {
      "text/plain": [
       "0.6385288760178605"
      ]
     },
     "execution_count": 85,
     "metadata": {},
     "output_type": "execute_result"
    }
   ],
   "source": [
    "@time fMC(2, 6, 10, 10^7)"
   ]
  },
  {
   "cell_type": "code",
   "execution_count": 86,
   "id": "3756c0f3-852c-437d-994a-cac5f65d1027",
   "metadata": {},
   "outputs": [
    {
     "name": "stdout",
     "output_type": "stream",
     "text": [
      "  0.713046 seconds (2 allocations: 144 bytes)\n"
     ]
    },
    {
     "data": {
      "text/plain": [
       "0.6606455083676828"
      ]
     },
     "execution_count": 86,
     "metadata": {},
     "output_type": "execute_result"
    }
   ],
   "source": [
    "@time fMC(2, 6, 10, 10^7)"
   ]
  },
  {
   "cell_type": "code",
   "execution_count": 87,
   "id": "db6efaa8-23d2-4a8c-b905-f9d92629f953",
   "metadata": {},
   "outputs": [
    {
     "name": "stdout",
     "output_type": "stream",
     "text": [
      "  0.701753 seconds (2 allocations: 144 bytes)\n"
     ]
    },
    {
     "data": {
      "text/plain": [
       "0.6628532618085105"
      ]
     },
     "execution_count": 87,
     "metadata": {},
     "output_type": "execute_result"
    }
   ],
   "source": [
    "@time fMC(2, 6, 10, 10^7)"
   ]
  },
  {
   "cell_type": "code",
   "execution_count": 88,
   "id": "7cb5d180-b091-41af-b117-07a9b9959e3d",
   "metadata": {},
   "outputs": [
    {
     "name": "stdout",
     "output_type": "stream",
     "text": [
      "  0.707672 seconds (2 allocations: 144 bytes)\n"
     ]
    },
    {
     "data": {
      "text/plain": [
       "0.6448320741738877"
      ]
     },
     "execution_count": 88,
     "metadata": {},
     "output_type": "execute_result"
    }
   ],
   "source": [
    "@time fMC(2, 6, 10, 10^7)"
   ]
  },
  {
   "cell_type": "markdown",
   "id": "c9226480-1f3f-4341-b9e0-cfb45b6d519b",
   "metadata": {},
   "source": [
    "$\\textbf{The converge is slow}$: we need $10^7$ iterations to see a result stable up to the first significant digit. \n",
    "\n",
    "More importantly, $\\textbf{the converges is biased}$, since the sum is highly oscillating and has several cancellations due to the negative terms."
   ]
  },
  {
   "cell_type": "markdown",
   "id": "3422c814-1d26-4f32-a805-462f9632d613",
   "metadata": {},
   "source": [
    "## VEGAS"
   ]
  },
  {
   "cell_type": "code",
   "execution_count": null,
   "id": "27314713-dd9e-491c-a02a-9ffa6294a063",
   "metadata": {},
   "outputs": [],
   "source": []
  }
 ],
 "metadata": {
  "kernelspec": {
   "display_name": "Julia 1.7.2",
   "language": "julia",
   "name": "julia-1.7"
  },
  "language_info": {
   "file_extension": ".jl",
   "mimetype": "application/julia",
   "name": "julia",
   "version": "1.7.2"
  }
 },
 "nbformat": 4,
 "nbformat_minor": 5
}
