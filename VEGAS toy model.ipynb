{
 "cells": [
  {
   "cell_type": "markdown",
   "id": "08b8ae99-d6a8-44aa-9f8d-e30f5b504ec6",
   "metadata": {},
   "source": [
    "# Toy model"
   ]
  },
  {
   "cell_type": "markdown",
   "id": "a3c3c1a7-8cf3-4f37-b0d0-a15ff76a164a",
   "metadata": {},
   "source": [
    "This toy model has the purpose of testing the VEGAS algorithm in order to compute a discret sum.\n",
    "\n",
    "I consider a function $f$ defined as:"
   ]
  },
  {
   "cell_type": "markdown",
   "id": "52a216f2-a354-4a48-90fa-c542faea53d7",
   "metadata": {},
   "source": [
    "$$\n",
    "f(x_0, y_0, z_0) = \\sum\\limits_{x = 0}^{10} \\sum\\limits_{y = 0}^{10} \\sum\\limits_{z = 0}^{10} e^{-\\frac{1}{2} \\left( x - x_0 \\right)^2} e^{-\\frac{1}{2} \\left( y - y_0 \\right)^2} e^{-\\frac{1}{2} \\left( z - z_0 \\right)^2} \\sin \\left( xy \\right) \\cos \\left( z \\right)\n",
    "$$"
   ]
  },
  {
   "cell_type": "code",
   "execution_count": 1,
   "id": "aa406dc8-d0dc-49f6-9769-7e0a4d701371",
   "metadata": {},
   "outputs": [
    {
     "data": {
      "text/plain": [
       "f (generic function with 1 method)"
      ]
     },
     "execution_count": 1,
     "metadata": {},
     "output_type": "execute_result"
    }
   ],
   "source": [
    "function f(x0, y0, z0)\n",
    "    \n",
    "    result = 0.0\n",
    "   \n",
    "    for x=0:10, y=0:10, z=0:10\n",
    "    \n",
    "        result += exp(-(1/2)*(x - x0)^2)*exp(-(1/2)*(y - y0)^2)*exp(-(1/2)*(z - z0)^2)*sin(x*y)*cos(z)\n",
    "        \n",
    "    end\n",
    "        \n",
    "    return result\n",
    "    \n",
    "end"
   ]
  },
  {
   "cell_type": "markdown",
   "id": "c26498df-c6b6-4e54-9eff-d4a4c2c94e54",
   "metadata": {
    "tags": []
   },
   "source": [
    "## Exact result"
   ]
  },
  {
   "cell_type": "markdown",
   "id": "8f4fcefd-b79a-48d3-a05b-a4d01a164172",
   "metadata": {},
   "source": [
    "Let's first compute the exact value of the function for some values of $(x_0, y_0, z_0)$"
   ]
  },
  {
   "cell_type": "code",
   "execution_count": 2,
   "id": "13f74871-96ee-4f1d-9758-e9971479f880",
   "metadata": {},
   "outputs": [
    {
     "name": "stdout",
     "output_type": "stream",
     "text": [
      "  0.000041 seconds\n"
     ]
    },
    {
     "data": {
      "text/plain": [
       "0.692056321795933"
      ]
     },
     "execution_count": 2,
     "metadata": {},
     "output_type": "execute_result"
    }
   ],
   "source": [
    "@time f(2,6,10)"
   ]
  },
  {
   "cell_type": "code",
   "execution_count": 8,
   "id": "2a3e5bf1-be81-48c1-9559-d583ccd4eaed",
   "metadata": {},
   "outputs": [
    {
     "name": "stdout",
     "output_type": "stream",
     "text": [
      "  0.000039 seconds\n"
     ]
    },
    {
     "data": {
      "text/plain": [
       "-1.2701664008437514"
      ]
     },
     "execution_count": 8,
     "metadata": {},
     "output_type": "execute_result"
    }
   ],
   "source": [
    "@time f(0,8,10)"
   ]
  },
  {
   "cell_type": "code",
   "execution_count": 9,
   "id": "7bfecf71-7424-4555-85a0-8b83316aca4e",
   "metadata": {},
   "outputs": [
    {
     "name": "stdout",
     "output_type": "stream",
     "text": [
      "  0.000040 seconds\n"
     ]
    },
    {
     "data": {
      "text/plain": [
       "-1.0645141883730707"
      ]
     },
     "execution_count": 9,
     "metadata": {},
     "output_type": "execute_result"
    }
   ],
   "source": [
    "@time f(7,2.4,3)"
   ]
  },
  {
   "cell_type": "markdown",
   "id": "3f6c1767-cabe-47e8-b022-3e9a9467097c",
   "metadata": {},
   "source": [
    "## Standard Monte Carlo"
   ]
  },
  {
   "cell_type": "markdown",
   "id": "51b05bc1-de74-4fa1-bbfd-1026d81790c8",
   "metadata": {},
   "source": [
    "Let's now construct a standard Monte Carlo estimator for the above function"
   ]
  },
  {
   "cell_type": "markdown",
   "id": "dfa61989-970d-4cf1-a43d-adc3cb756466",
   "metadata": {},
   "source": [
    "$$\n",
    "\\lim_{N\\to\\infty} f_{MC}(x_0, y_0, z_0, N) = f(x_0, y_0, z_0) \n",
    "$$"
   ]
  },
  {
   "cell_type": "markdown",
   "id": "85a8d986-0bab-4c44-8e7d-e85499066fbf",
   "metadata": {},
   "source": [
    "$$\n",
    "f_{MC}(x_0, y_0, z_0, N) = \\frac{V}{N} \\sum\\limits_{[x, y, z]_1 \\dots [x, y, z]_N} e^{-\\frac{1}{2} \\left( x - x_0 \\right)^2} e^{-\\frac{1}{2} \\left( y - y_0 \\right)^2} e^{-\\frac{1}{2} \\left( z - z_0 \\right)^2} \\sin \\left( xy \\right) \\cos \\left( z \\right)\n",
    "$$"
   ]
  },
  {
   "cell_type": "markdown",
   "id": "fa4c2c37-4231-468c-8db1-a1c91db64af3",
   "metadata": {},
   "source": [
    "where $ V = 11^3 $, as this is the total number of possible configurations"
   ]
  },
  {
   "cell_type": "code",
   "execution_count": 3,
   "id": "d0fa1b6d-854b-4f87-9edf-278f6d565078",
   "metadata": {},
   "outputs": [],
   "source": [
    "using Distributions, Random"
   ]
  },
  {
   "cell_type": "code",
   "execution_count": 4,
   "id": "1e2ffb77-bacc-49d5-8197-bfe447ca60f7",
   "metadata": {},
   "outputs": [
    {
     "data": {
      "text/plain": [
       "fMC (generic function with 1 method)"
      ]
     },
     "execution_count": 4,
     "metadata": {},
     "output_type": "execute_result"
    }
   ],
   "source": [
    "function fMC(x0, y0, z0, N)\n",
    "    \n",
    "    draw = Array{Int}(undef, 3);\n",
    "    draw_float_sample = Array{Float64}(undef, 1);\n",
    "    Uniform_distribution = Uniform(0, 10);\n",
    "    \n",
    "    result = 0.0\n",
    "   \n",
    "    for i=1:N\n",
    "        \n",
    "          for i = 1:3\n",
    "              rand!(Uniform_distribution, draw_float_sample)\n",
    "              draw_float_sample[1] = round(Int64, draw_float_sample[1])\n",
    "              draw[i] = Int(draw_float_sample[1])\n",
    "          end\n",
    "    \n",
    "        result += exp(-(1/2)*(draw[1] - x0)^2)*exp(-(1/2)*(draw[2] - y0)^2)*exp(-(1/2)*(draw[3] - z0)^2)*sin(draw[1]*draw[2])*cos(draw[3])\n",
    "        \n",
    "    end\n",
    "    \n",
    "    result = result*11^3/N\n",
    "        \n",
    "    return result\n",
    "    \n",
    "end"
   ]
  },
  {
   "cell_type": "code",
   "execution_count": 85,
   "id": "98852aa9-f28e-4f72-a3c0-c75c1f60389a",
   "metadata": {},
   "outputs": [
    {
     "name": "stdout",
     "output_type": "stream",
     "text": [
      "  0.700662 seconds (2 allocations: 144 bytes)\n"
     ]
    },
    {
     "data": {
      "text/plain": [
       "0.6385288760178605"
      ]
     },
     "execution_count": 85,
     "metadata": {},
     "output_type": "execute_result"
    }
   ],
   "source": [
    "@time fMC(2, 6, 10, 10^7)"
   ]
  },
  {
   "cell_type": "code",
   "execution_count": 86,
   "id": "3756c0f3-852c-437d-994a-cac5f65d1027",
   "metadata": {},
   "outputs": [
    {
     "name": "stdout",
     "output_type": "stream",
     "text": [
      "  0.713046 seconds (2 allocations: 144 bytes)\n"
     ]
    },
    {
     "data": {
      "text/plain": [
       "0.6606455083676828"
      ]
     },
     "execution_count": 86,
     "metadata": {},
     "output_type": "execute_result"
    }
   ],
   "source": [
    "@time fMC(2, 6, 10, 10^7)"
   ]
  },
  {
   "cell_type": "code",
   "execution_count": 87,
   "id": "db6efaa8-23d2-4a8c-b905-f9d92629f953",
   "metadata": {},
   "outputs": [
    {
     "name": "stdout",
     "output_type": "stream",
     "text": [
      "  0.701753 seconds (2 allocations: 144 bytes)\n"
     ]
    },
    {
     "data": {
      "text/plain": [
       "0.6628532618085105"
      ]
     },
     "execution_count": 87,
     "metadata": {},
     "output_type": "execute_result"
    }
   ],
   "source": [
    "@time fMC(2, 6, 10, 10^7)"
   ]
  },
  {
   "cell_type": "code",
   "execution_count": 88,
   "id": "7cb5d180-b091-41af-b117-07a9b9959e3d",
   "metadata": {},
   "outputs": [
    {
     "name": "stdout",
     "output_type": "stream",
     "text": [
      "  0.707672 seconds (2 allocations: 144 bytes)\n"
     ]
    },
    {
     "data": {
      "text/plain": [
       "0.6448320741738877"
      ]
     },
     "execution_count": 88,
     "metadata": {},
     "output_type": "execute_result"
    }
   ],
   "source": [
    "@time fMC(2, 6, 10, 10^7)"
   ]
  },
  {
   "cell_type": "markdown",
   "id": "c9226480-1f3f-4341-b9e0-cfb45b6d519b",
   "metadata": {},
   "source": [
    "$\\textbf{The converge is slow}$: we need $10^7$ iterations to see a result stable up to the first significant digit. \n",
    "\n",
    "More importantly, $\\textbf{the converges is biased}$, since the sum is highly oscillating and has several cancellations due to the negative terms."
   ]
  },
  {
   "cell_type": "markdown",
   "id": "86e33941-c268-4f12-9e7d-f29aae04d958",
   "metadata": {},
   "source": [
    "# Changing variables"
   ]
  },
  {
   "cell_type": "markdown",
   "id": "00cd8092-feb5-4522-af72-36396da8e988",
   "metadata": {},
   "source": [
    "I can perform a trivial change of variables in order to sample from the interval $[0,1]$:"
   ]
  },
  {
   "cell_type": "markdown",
   "id": "48b21045-c283-4510-aa50-16408016c98d",
   "metadata": {},
   "source": [
    "$$\n",
    "X = \\frac{x}{10}, \\ Y = \\frac{y}{10},\\  Z = \\frac{z}{10}\n",
    "$$\n",
    "\n",
    "The function changes as:\n",
    "\n",
    "$$\n",
    "f(x_0, y_0, z_0) = \\sum\\limits_{X \\in [0,1]} \\sum\\limits_{Y \\in [0,1]} \\sum\\limits_{Z \\in [0,1]} e^{-\\frac{1}{2} \\left( 10*X - x_0 \\right)^2} e^{-\\frac{1}{2} \\left( 10*Y - y_0 \\right)^2} e^{-\\frac{1}{2} \\left( 10*Z - z_0 \\right)^2} \\sin \\left( 100*XY \\right) \\cos \\left( 10*Z \\right)\n",
    "$$\n",
    "\n",
    "Since the original quantity was a sum and not a continuous integral, of course not all values $X \\in [0,1]$ etc. should be considered, therefore it is necessary to round.\n",
    "\n",
    "The MC estimator becomes:\n",
    "\n",
    "$$\n",
    "f_{MC}(x_0, y_0, z_0, N) = \\frac{V}{N} \\sum\\limits_{[X, Y, Z]_1 \\dots [X, Y, Z]_N} e^{-\\frac{1}{2} \\left( 10*X - x_0 \\right)^2} e^{-\\frac{1}{2} \\left( 10*Y - y_0 \\right)^2} e^{-\\frac{1}{2} \\left( 10*Z - z_0 \\right)^2} \\sin \\left( 100*XY \\right) \\cos \\left( 10*Z \\right)\n",
    "$$"
   ]
  },
  {
   "cell_type": "code",
   "execution_count": 67,
   "id": "94b2d593-0254-4e06-aab6-693b93e8ed2b",
   "metadata": {},
   "outputs": [
    {
     "data": {
      "text/plain": [
       "fMC_change_variable (generic function with 1 method)"
      ]
     },
     "execution_count": 67,
     "metadata": {},
     "output_type": "execute_result"
    }
   ],
   "source": [
    "function fMC_change_variable(x0, y0, z0, N)\n",
    "    \n",
    "    draw = Array{Int}(undef, 3);\n",
    "    draw_float_sample = Array{Float64}(undef, 1);\n",
    "    Uniform_distribution = Uniform(0, 1);\n",
    "    \n",
    "    result = 0.0\n",
    "   \n",
    "    for i=1:N\n",
    "        \n",
    "          for i = 1:3\n",
    "              rand!(Uniform_distribution, draw_float_sample)\n",
    "              draw_float_sample[1] = 10*draw_float_sample[1]\n",
    "              draw_float_sample[1] = round(Int64, draw_float_sample[1])\n",
    "              draw[i] = Int(draw_float_sample[1])\n",
    "          end\n",
    "    \n",
    "        result += exp(-(1/2)*(draw[1] - x0)^2)*exp(-(1/2)*(draw[2] - y0)^2)*exp(-(1/2)*(draw[3] - z0)^2)*sin(draw[1]*draw[2])*cos(draw[3])\n",
    "        \n",
    "    end\n",
    "    \n",
    "    result = result*11^3/N\n",
    "        \n",
    "    return result\n",
    "    \n",
    "end"
   ]
  },
  {
   "cell_type": "code",
   "execution_count": 71,
   "id": "a2367305-b77b-4be3-81a9-0e9b44ca36d2",
   "metadata": {},
   "outputs": [
    {
     "name": "stdout",
     "output_type": "stream",
     "text": [
      "  0.709644 seconds (2 allocations: 144 bytes)\n"
     ]
    },
    {
     "data": {
      "text/plain": [
       "0.6556871341709338"
      ]
     },
     "execution_count": 71,
     "metadata": {},
     "output_type": "execute_result"
    }
   ],
   "source": [
    "@time fMC_change_variable(2, 6, 10, 10^7)"
   ]
  },
  {
   "cell_type": "markdown",
   "id": "d4152817-b128-4ef8-9f51-783a336fd7f8",
   "metadata": {},
   "source": [
    "We can rewrite this expression by introducing the following Jacobian for the above transformation:\n",
    "\n",
    "$$\n",
    "J = \n",
    "\\begin{vmatrix}\n",
    "\\frac{d x}{d X} & 0 & 0 \\\\\n",
    "0 & \\frac{d y}{d Y} & 0 \\\\\n",
    "0 & 0 & \\frac{d z}{d Z} \\\\\n",
    "\\end{vmatrix}\n",
    "=\n",
    "10^3\n",
    "$$\n",
    "\n",
    "which leads to:\n",
    "\n",
    "$$\n",
    "f_{MC}(x_0, y_0, z_0, N) = \\frac{V}{N \\cdot 10^3} \\sum\\limits_{[X, Y, Z]_1 \\dots [X, Y, Z]_N} J \\cdot e^{-\\frac{1}{2} \\left( 10*X - x_0 \\right)^2} e^{-\\frac{1}{2} \\left( 10*Y - y_0 \\right)^2} e^{-\\frac{1}{2} \\left( 10*Z - z_0 \\right)^2} \\sin \\left( 100*XY \\right) \\cos \\left( 10*Z \\right)\n",
    "$$\n",
    "\n",
    "In the continuous case, we do not need to re-normalize as $V$ coincides with the factor in the denominator. However, in the discrete case things change"
   ]
  },
  {
   "cell_type": "markdown",
   "id": "3422c814-1d26-4f32-a805-462f9632d613",
   "metadata": {},
   "source": [
    "## VEGAS"
   ]
  },
  {
   "cell_type": "markdown",
   "id": "5cdf3267-aba0-4d3e-995f-75759461d7a8",
   "metadata": {},
   "source": [
    "I write explicitly the equations considering a single axis for simplicity."
   ]
  },
  {
   "cell_type": "markdown",
   "id": "c7e836e7-5fd8-4eb9-807f-5e064338fc10",
   "metadata": {},
   "source": [
    "Let's start with a grid having $a = x_0$, $b = x_{N_g}$, where $N_g$ is the total number of elements in the grid. We consider all equal $\\Delta x_i = \\frac{b-a}{N_g} = 1$ for $i = 0 \\dots N_g -1$. \n",
    "\n",
    "$ x_0 = a $\n",
    "\n",
    "$ x_1 = x_0 + \\Delta x_0 $\n",
    "\n",
    "$ x_2 = x_1 + \\Delta x_1 $\n",
    "\n",
    "$ \\dots $\n",
    "\n",
    "$ x_{N_g} = x_{N_g-1} + \\Delta x_{N_g-1} = b $"
   ]
  },
  {
   "cell_type": "markdown",
   "id": "6a4f177b-aaa9-4cf7-8847-c748d8bdd078",
   "metadata": {},
   "source": [
    "The first natural choice for the grid seems to be a linear spaced one. We can use the $\\textit{LinRange}$ function in julia, with last parameter equal to $N_g + 1$:"
   ]
  },
  {
   "cell_type": "code",
   "execution_count": 41,
   "id": "46d8c5c9-1377-4f4c-bb41-86a031ea82d6",
   "metadata": {},
   "outputs": [],
   "source": [
    "a = 0;\n",
    "b = 10;\n",
    "N_g = 100;\n",
    "VEGAS_grid = collect(LinRange(a, b, N_g+1));\n",
    "Delta_x_i = (b-a)/(N_g);\n",
    "VEGAS_spacing_grid = [Delta_x_i for i in 1:1:N_g];"
   ]
  },
  {
   "cell_type": "code",
   "execution_count": 42,
   "id": "cd60742f-55e4-48ef-85fc-6679de4b6893",
   "metadata": {},
   "outputs": [
    {
     "name": "stdout",
     "output_type": "stream",
     "text": [
      "VEGAS_grid = [0.0, 0.1, 0.2, 0.3, 0.4, 0.5, 0.6, 0.7000000000000001, 0.8, 0.8999999999999999, 1.0, 1.1, 1.2, 1.3, 1.4000000000000001, 1.5, 1.6, 1.7000000000000002, 1.7999999999999998, 1.9, 2.0, 2.1, 2.2, 2.3000000000000003, 2.4, 2.5, 2.6, 2.7, 2.8000000000000003, 2.9, 3.0, 3.1, 3.2, 3.3000000000000003, 3.4000000000000004, 3.5, 3.5999999999999996, 3.7, 3.8, 3.9000000000000004, 4.0, 4.1, 4.2, 4.3, 4.4, 4.5, 4.6000000000000005, 4.699999999999999, 4.8, 4.9, 5.0, 5.1, 5.2, 5.300000000000001, 5.4, 5.5, 5.6000000000000005, 5.699999999999999, 5.8, 5.8999999999999995, 6.0, 6.1, 6.2, 6.3, 6.4, 6.5, 6.6000000000000005, 6.7, 6.800000000000001, 6.8999999999999995, 7.0, 7.1, 7.199999999999999, 7.3, 7.4, 7.5, 7.6, 7.7, 7.800000000000001, 7.9, 8.0, 8.100000000000001, 8.2, 8.299999999999999, 8.4, 8.5, 8.6, 8.7, 8.8, 8.9, 9.0, 9.1, 9.200000000000001, 9.3, 9.399999999999999, 9.5, 9.6, 9.7, 9.8, 9.9, 10.0]\n",
      "VEGAS_spacing_grid = [0.1, 0.1, 0.1, 0.1, 0.1, 0.1, 0.1, 0.1, 0.1, 0.1, 0.1, 0.1, 0.1, 0.1, 0.1, 0.1, 0.1, 0.1, 0.1, 0.1, 0.1, 0.1, 0.1, 0.1, 0.1, 0.1, 0.1, 0.1, 0.1, 0.1, 0.1, 0.1, 0.1, 0.1, 0.1, 0.1, 0.1, 0.1, 0.1, 0.1, 0.1, 0.1, 0.1, 0.1, 0.1, 0.1, 0.1, 0.1, 0.1, 0.1, 0.1, 0.1, 0.1, 0.1, 0.1, 0.1, 0.1, 0.1, 0.1, 0.1, 0.1, 0.1, 0.1, 0.1, 0.1, 0.1, 0.1, 0.1, 0.1, 0.1, 0.1, 0.1, 0.1, 0.1, 0.1, 0.1, 0.1, 0.1, 0.1, 0.1, 0.1, 0.1, 0.1, 0.1, 0.1, 0.1, 0.1, 0.1, 0.1, 0.1, 0.1, 0.1, 0.1, 0.1, 0.1, 0.1, 0.1, 0.1, 0.1, 0.1]\n"
     ]
    }
   ],
   "source": [
    "@show VEGAS_grid;\n",
    "\n",
    "@show VEGAS_spacing_grid;"
   ]
  },
  {
   "cell_type": "markdown",
   "id": "4c82e23d-71a5-48d5-91fc-3d8f2caf3698",
   "metadata": {},
   "source": [
    "The following function provides the map between $X \\in [0,1]$ and $x \\in [a, b]$"
   ]
  },
  {
   "cell_type": "code",
   "execution_count": 43,
   "id": "a8824c7d-edf3-4822-b065-910f96698b6c",
   "metadata": {},
   "outputs": [
    {
     "data": {
      "text/plain": [
       "x (generic function with 1 method)"
      ]
     },
     "execution_count": 43,
     "metadata": {},
     "output_type": "execute_result"
    }
   ],
   "source": [
    "\n",
    "# Returns the VEGAS grid element and the corresponding index in the grid\n",
    "\n",
    "function x(X, N_g, VEGAS_grid, VEGAS_spacing_grid) \n",
    "   \n",
    "    i_X = Int(floor(X*N_g))\n",
    "    \n",
    "    delta_X = X*N_g - i_X\n",
    "    \n",
    "    if (i_X == N_g)\n",
    "        return VEGAS_grid[i_X+1], i_X+1\n",
    "    else\n",
    "        return VEGAS_grid[i_X+1] + VEGAS_spacing_grid[i_X+1]*delta_X, i_X+1\n",
    "    end\n",
    "       \n",
    "end\n",
    "\n",
    "\n",
    "#=\n",
    "function VEGAS_rounding_map_OLD!(draw1, draw2, X, N_g, VEGAS_grid, VEGAS_spacing_grid) \n",
    "    draw1[1] = round(Int64, floor(X*N_g))\n",
    "    #println(draw[1])\n",
    "    draw2[1] = VEGAS_grid[draw1[1]+1]\n",
    "    #println(draw[2])\n",
    "    if (draw[1] != N_g)\n",
    "        draw2[1] += VEGAS_spacing_grid[draw1[1]+1]*(X*N_g - draw1[1])\n",
    "    end\n",
    "end\n",
    "=#"
   ]
  },
  {
   "cell_type": "code",
   "execution_count": 48,
   "id": "81022870-db2f-42f6-bd22-9c7115c9fdaa",
   "metadata": {},
   "outputs": [
    {
     "name": "stdout",
     "output_type": "stream",
     "text": [
      "  0.000004 seconds (1 allocation: 32 bytes)\n"
     ]
    },
    {
     "data": {
      "text/plain": [
       "(4.5, 46)"
      ]
     },
     "execution_count": 48,
     "metadata": {},
     "output_type": "execute_result"
    }
   ],
   "source": [
    "@time x(0.45, N_g, VEGAS_grid, VEGAS_spacing_grid)"
   ]
  },
  {
   "cell_type": "markdown",
   "id": "27181e59-8056-4c76-93a7-f7e97df79162",
   "metadata": {},
   "source": [
    "The Jacobian for this transformation:\n",
    "\n",
    "$$\n",
    "J(X) = N_g \\Delta x_{i(X)}  ≡ J_{i(X)}\n",
    "$$\n",
    "\n",
    "is a step function whose values. The values are determined by the interval widths $ \\Delta x_{i} $, where $ i=0 \\dots N_g - 1$"
   ]
  },
  {
   "cell_type": "code",
   "execution_count": 100,
   "id": "cd5c6727-c8f7-47fb-a4b9-26ecab64f049",
   "metadata": {},
   "outputs": [
    {
     "data": {
      "text/plain": [
       "MC_sampling_OLD (generic function with 1 method)"
      ]
     },
     "execution_count": 100,
     "metadata": {},
     "output_type": "execute_result"
    }
   ],
   "source": [
    "#=\n",
    "function MC_sampling_OLD(x0, y0, z0, N_ev, N_g, VEGAS_grid, VEGAS_spacing_grid)\n",
    "    \n",
    "    draw = Array{Int}(undef, 3);\n",
    "    VEGAS_draw_1 = Array{Int}(undef, 1);\n",
    "    VEGAS_draw_2 = Array{Float64}(undef, 1);\n",
    "    draw_float_sample = Array{Float64}(undef, 1);\n",
    "    Uniform_distribution = Uniform(0, 1);\n",
    "    \n",
    "    result = 0.0\n",
    "   \n",
    "    for i=1:N_ev\n",
    "        \n",
    "          for i = 1:3\n",
    "              # this is X \\in [0,1]\n",
    "              rand!(Uniform_distribution, draw_float_sample)\n",
    "              #println(draw_float_sample[1])\n",
    "            \n",
    "              VEGAS_rounding_map_OLD!(VEGAS_draw_1, VEGAS_draw_2, draw_float_sample[1], N_g, VEGAS_grid, VEGAS_spacing_grid)\n",
    "\n",
    "              draw[i] = round(Int, VEGAS_draw_2[1])\n",
    "          end\n",
    "    \n",
    "        result += exp(-(1/2)*(draw[1] - x0)^2)*exp(-(1/2)*(draw[2] - y0)^2)*exp(-(1/2)*(draw[3] - z0)^2)*sin(draw[1]*draw[2])*cos(draw[3])\n",
    "        \n",
    "    end\n",
    "    \n",
    "    result = result*11^3/N_ev\n",
    "        \n",
    "    return result\n",
    "    \n",
    "end\n",
    "=#"
   ]
  },
  {
   "cell_type": "code",
   "execution_count": null,
   "id": "dfecb5d1-728b-4d1f-b5a4-dbf2711ee3f4",
   "metadata": {},
   "outputs": [],
   "source": [
    "#@time MC_sampling_OLD(2, 6, 10, N_ev, N_g, VEGAS_grid, VEGAS_spacing_grid)"
   ]
  },
  {
   "cell_type": "markdown",
   "id": "96b7668c-c8dd-4535-b6f8-8ae38c6f8afc",
   "metadata": {},
   "source": [
    "Now I want to estimate the following quantities:"
   ]
  },
  {
   "cell_type": "markdown",
   "id": "d7e090e6-6270-4cd6-bee1-254e1355bd0b",
   "metadata": {},
   "source": [
    "$$\n",
    "d^x_0 = \\frac{V}{10^3 \\cdot n^x_0} \\sum_{X(x) \\in \\Delta x_0} \\left( J(X) \\cdot e^{-\\frac{1}{2} \\left( 10*X - x_0 \\right)^2} e^{-\\frac{1}{2} \\left( 10*Y - y_0 \\right)^2} e^{-\\frac{1}{2} \\left( 10*Z - z_0 \\right)^2} \\sin \\left( 100*XY \\right) \\cos \\left( 10*Z \\right) \\right)^2\n",
    "$$\n",
    "\n",
    "$$\n",
    "d^x_1 = \\frac{V}{10^3 \\cdot n^x_1} \\sum_{X(x) \\in \\Delta x_1} \\left( J(X) \\cdot e^{-\\frac{1}{2} \\left( 10*X - x_0 \\right)^2} e^{-\\frac{1}{2} \\left( 10*Y - y_0 \\right)^2} e^{-\\frac{1}{2} \\left( 10*Z - z_0 \\right)^2} \\sin \\left( 100*XY \\right) \\cos \\left( 10*Z \\right) \\right)^2\n",
    "$$\n",
    "\n",
    "$$\n",
    "\\dots\n",
    "$$\n",
    "\n",
    "$$\n",
    "d^x_{N_g-1} = \\frac{V}{10^3 \\cdot n^y_{N_g-1}} \\sum_{X(x) \\in \\Delta x_{N_g-1}} \\left( J(X) \\cdot e^{-\\frac{1}{2} \\left( 10*X - x_0 \\right)^2} e^{-\\frac{1}{2} \\left( 10*Y - y_0 \\right)^2} e^{-\\frac{1}{2} \\left( 10*Z - z_0 \\right)^2} \\sin \\left( 100*XY \\right) \\cos \\left( 10*Z \\right) \\right)^2\n",
    "$$\n",
    "\n",
    "etc., along each axis, where $n^x_i \\approx \\frac{N_{ev}}{N_g}$ is the number of samples in interval $\\Delta x_i$ "
   ]
  },
  {
   "cell_type": "code",
   "execution_count": 50,
   "id": "e1de5f92-dba5-4192-9e18-9c095e1a2104",
   "metadata": {},
   "outputs": [],
   "source": [
    "VEGAS_d = zeros(3, N_g);\n",
    "VEGAS_d_multeplicity = zeros(3, N_g);\n",
    "VEGAS_index_draw = Array{Int}(undef, 3, N_ev);\n",
    "VEGAS_values = Array{Float64}(undef, N_ev);"
   ]
  },
  {
   "cell_type": "code",
   "execution_count": 20,
   "id": "6fe04516-7a6e-4d12-b567-8ccbc505cd5e",
   "metadata": {},
   "outputs": [
    {
     "data": {
      "text/plain": [
       "VEGAS_MC_sampling (generic function with 2 methods)"
      ]
     },
     "execution_count": 20,
     "metadata": {},
     "output_type": "execute_result"
    }
   ],
   "source": [
    "function VEGAS_MC_sampling(x0, y0, z0, N_ev, N_g, VEGAS_grid, VEGAS_spacing_grid, VEGAS_d, VEGAS_d_multeplicity, VEGAS_index_draw, VEGAS_values)\n",
    "    \n",
    "    draw = Array{Int}(undef, 3);\n",
    "    draw_float_sample = Array{Float64}(undef, 1);\n",
    "    Uniform_distribution = Uniform(0, 1);\n",
    "    \n",
    "    total_result = 0.0\n",
    "   \n",
    "    for n=1:N_ev\n",
    "        \n",
    "          for i = 1:3\n",
    "              # this is X in [0,1]\n",
    "              rand!(Uniform_distribution, draw_float_sample)\n",
    "              # println(draw_float_sample[1])\n",
    "            \n",
    "              # this is X(x) in [a,b]\n",
    "              draw_float_sample[1], VEGAS_index_draw[i, n] = x(draw_float_sample[1], N_g, VEGAS_grid, VEGAS_spacing_grid)\n",
    "              VEGAS_d_multeplicity[i, VEGAS_index_draw[i, n]] += 1\n",
    "              # println(x(draw_float_sample[1], N_g, VEGAS_grid, VEGAS_spacing_grid))\n",
    "              \n",
    "              # we need to round to integers \n",
    "              # draw_float_sample[1] = round(Int64, draw_float_sample[1])\n",
    "              draw[i] = round(Int64, draw_float_sample[1])\n",
    "              # VEGAS_index_draw[i, n] = VEGAS_index\n",
    "          end        \n",
    "    \n",
    "        result = exp(-(1/2)*(draw[1] - x0)^2)*exp(-(1/2)*(draw[2] - y0)^2)*exp(-(1/2)*(draw[3] - z0)^2)*sin(draw[1]*draw[2])*cos(draw[3])\n",
    "        \n",
    "        VEGAS_values[n] = result^2\n",
    "        \n",
    "        total_result += result\n",
    "        \n",
    "        for i = 1:3\n",
    "        \n",
    "        VEGAS_d[i, VEGAS_index_draw[i, n]] += (VEGAS_spacing_grid[VEGAS_index_draw[i, n]]*result)^2\n",
    "            \n",
    "        end\n",
    "        \n",
    "    end\n",
    "    \n",
    "    total_result = total_result*11^3/N_ev\n",
    "        \n",
    "    return total_result\n",
    "    \n",
    "end    \n",
    "    "
   ]
  },
  {
   "cell_type": "code",
   "execution_count": 22,
   "id": "653745dc-51cb-4c18-8c84-f78d6b12f881",
   "metadata": {},
   "outputs": [
    {
     "name": "stdout",
     "output_type": "stream",
     "text": [
      "  0.969180 seconds (3 allocations: 160 bytes)\n"
     ]
    },
    {
     "data": {
      "text/plain": [
       "0.6382776777361465"
      ]
     },
     "execution_count": 22,
     "metadata": {},
     "output_type": "execute_result"
    }
   ],
   "source": [
    "@time VEGAS_MC_sampling(2, 6, 10, N_ev, N_g, VEGAS_grid, VEGAS_spacing_grid, VEGAS_d, VEGAS_d_multeplicity, VEGAS_index_draw, VEGAS_values)"
   ]
  },
  {
   "cell_type": "code",
   "execution_count": 154,
   "id": "0201a971-a12e-454d-81a8-b9eb5e54b05c",
   "metadata": {},
   "outputs": [
    {
     "data": {
      "text/plain": [
       "3×100 Matrix{Float64}:\n",
       " 400447.0  400271.0  400635.0  399697.0  …  400820.0  400152.0  400229.0\n",
       " 399742.0  400768.0  400269.0  398959.0     401145.0  399433.0  399643.0\n",
       " 400451.0  400017.0  399022.0  400343.0     401026.0  399787.0  400688.0"
      ]
     },
     "execution_count": 154,
     "metadata": {},
     "output_type": "execute_result"
    }
   ],
   "source": [
    "VEGAS_d_multeplicity"
   ]
  },
  {
   "cell_type": "code",
   "execution_count": 23,
   "id": "d940ac0b-2c1f-4eee-87b3-b25a8cfbc97e",
   "metadata": {},
   "outputs": [
    {
     "data": {
      "text/plain": [
       "100-element Vector{Float64}:\n",
       " 0.1\n",
       " 0.1\n",
       " 0.1\n",
       " 0.1\n",
       " 0.1\n",
       " 0.1\n",
       " 0.1\n",
       " 0.1\n",
       " 0.1\n",
       " 0.1\n",
       " 0.1\n",
       " 0.1\n",
       " 0.1\n",
       " ⋮\n",
       " 0.1\n",
       " 0.1\n",
       " 0.1\n",
       " 0.1\n",
       " 0.1\n",
       " 0.1\n",
       " 0.1\n",
       " 0.1\n",
       " 0.1\n",
       " 0.1\n",
       " 0.1\n",
       " 0.1"
      ]
     },
     "execution_count": 23,
     "metadata": {},
     "output_type": "execute_result"
    }
   ],
   "source": [
    "VEGAS_spacing_grid"
   ]
  },
  {
   "cell_type": "code",
   "execution_count": 159,
   "id": "30bc2007-a38d-41f4-bd04-7516c86c463a",
   "metadata": {},
   "outputs": [
    {
     "data": {
      "text/plain": [
       "3-element Vector{Float64}:\n",
       " 581.4250480464361\n",
       "   4.023435720427664e-8\n",
       "   1.0798911736886273e-32"
      ]
     },
     "execution_count": 159,
     "metadata": {},
     "output_type": "execute_result"
    }
   ],
   "source": [
    "VEGAS_d[:,10]"
   ]
  },
  {
   "cell_type": "code",
   "execution_count": 131,
   "id": "c70120fc-c776-4069-8f41-479beee4f1c6",
   "metadata": {},
   "outputs": [
    {
     "data": {
      "text/plain": [
       "10000-element Vector{Float64}:\n",
       " 0.06669641502392155\n",
       " 3.494791663009478e-10\n",
       " 4.626094429321208e-7\n",
       " 7.370137465682506e-15\n",
       " 4.178084974539015e-64\n",
       " 7.161578553614915e-52\n",
       " 2.2650214479063428e-5\n",
       " 1.3191096692535808e-47\n",
       " 9.658852206306693e-37\n",
       " 3.735931513449308e-9\n",
       " 4.277081684286858e-27\n",
       " 6.190497410566783e-26\n",
       " 3.939098172353845e-7\n",
       " ⋮\n",
       " 7.63689414282026e-6\n",
       " 4.178084974539015e-64\n",
       " 1.1889451113996432e-31\n",
       " 9.30152576547757e-18\n",
       " 0.0\n",
       " 0.0\n",
       " 7.764218066447215e-12\n",
       " 4.645864710995734e-28\n",
       " 0.0\n",
       " 3.6320339739550403e-16\n",
       " 1.2984028844185466e-21\n",
       " 4.449299043659187e-14"
      ]
     },
     "execution_count": 131,
     "metadata": {},
     "output_type": "execute_result"
    }
   ],
   "source": [
    "VEGAS_values"
   ]
  },
  {
   "cell_type": "code",
   "execution_count": 119,
   "id": "68ff33df-eec0-475a-8447-7c7b2ba7237e",
   "metadata": {},
   "outputs": [
    {
     "data": {
      "text/plain": [
       "3×10000 Matrix{Int64}:\n",
       " 100  87   5  14  24  11  14  50   4  …  57  72  78  86  94  65   4  34  84\n",
       "  61  14  56  76  68   6  49  25  18     36  46  82  58  73   3  27  91  95\n",
       "   2  53  35   5  11   8  31  68  23     56  41  31  15  67  32  28  33  38"
      ]
     },
     "execution_count": 119,
     "metadata": {},
     "output_type": "execute_result"
    }
   ],
   "source": [
    "VEGAS_index_draw"
   ]
  },
  {
   "cell_type": "code",
   "execution_count": 74,
   "id": "eb693f5f-25de-40e2-ba11-6d457e794f3f",
   "metadata": {},
   "outputs": [
    {
     "name": "stdout",
     "output_type": "stream",
     "text": [
      "  0.000018 seconds (12 allocations: 1.250 KiB)\n"
     ]
    },
    {
     "data": {
      "text/plain": [
       "3×10 Matrix{Int64}:\n",
       " 20  27  30  30  33  33  35  38  70  83\n",
       "  3   7   9  14  15  20  28  50  56  60\n",
       " 11  22  40  43  51  66  84  90  97  98"
      ]
     },
     "execution_count": 74,
     "metadata": {},
     "output_type": "execute_result"
    }
   ],
   "source": [
    "@time sort(VEGAS_index_draw, dims=2) d"
   ]
  },
  {
   "cell_type": "code",
   "execution_count": 78,
   "id": "d622a3e3-a495-4fb2-855b-fe43e4ad7da1",
   "metadata": {},
   "outputs": [
    {
     "data": {
      "text/plain": [
       "100-element Vector{Float64}:\n",
       " 0.0\n",
       " 0.0\n",
       " 0.0\n",
       " 0.0\n",
       " 0.0\n",
       " 0.0\n",
       " 0.0\n",
       " 0.0\n",
       " 0.0\n",
       " 0.0\n",
       " 0.0\n",
       " 0.0\n",
       " 0.0\n",
       " ⋮\n",
       " 0.0\n",
       " 0.0\n",
       " 0.0\n",
       " 0.0\n",
       " 0.0\n",
       " 0.0\n",
       " 0.0\n",
       " 0.0\n",
       " 0.0\n",
       " 0.0\n",
       " 0.0\n",
       " 0.0"
      ]
     },
     "execution_count": 78,
     "metadata": {},
     "output_type": "execute_result"
    }
   ],
   "source": [
    "d_x"
   ]
  },
  {
   "cell_type": "code",
   "execution_count": null,
   "id": "418ec312-ae76-46a1-8867-056b53ba7fd4",
   "metadata": {},
   "outputs": [],
   "source": []
  }
 ],
 "metadata": {
  "kernelspec": {
   "display_name": "Julia 1.7.2",
   "language": "julia",
   "name": "julia-1.7"
  },
  "language_info": {
   "file_extension": ".jl",
   "mimetype": "application/julia",
   "name": "julia",
   "version": "1.7.2"
  }
 },
 "nbformat": 4,
 "nbformat_minor": 5
}
