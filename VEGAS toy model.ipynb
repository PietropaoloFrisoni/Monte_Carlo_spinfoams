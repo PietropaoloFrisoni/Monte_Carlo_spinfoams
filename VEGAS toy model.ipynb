{
 "cells": [
  {
   "cell_type": "markdown",
   "id": "08b8ae99-d6a8-44aa-9f8d-e30f5b504ec6",
   "metadata": {},
   "source": [
    "# Toy model"
   ]
  },
  {
   "cell_type": "markdown",
   "id": "a3c3c1a7-8cf3-4f37-b0d0-a15ff76a164a",
   "metadata": {},
   "source": [
    "This toy model has the purpose of testing the VEGAS algorithm in order to compute a discret sum.\n",
    "\n",
    "I consider a function $f$ defined as:"
   ]
  },
  {
   "cell_type": "markdown",
   "id": "52a216f2-a354-4a48-90fa-c542faea53d7",
   "metadata": {},
   "source": [
    "$$\n",
    "f(x_0, y_0, z_0) = \\sum\\limits_{x = 0}^{10} \\sum\\limits_{y = 0}^{10} \\sum\\limits_{z = 0}^{10} e^{-\\frac{1}{2} \\left( x - x_0 \\right)^2} e^{-\\frac{1}{2} \\left( y - y_0 \\right)^2} e^{-\\frac{1}{2} \\left( z - z_0 \\right)^2} \\sin \\left( xy \\right) \\cos \\left( z \\right)\n",
    "$$"
   ]
  },
  {
   "cell_type": "code",
   "execution_count": 1,
   "id": "aa406dc8-d0dc-49f6-9769-7e0a4d701371",
   "metadata": {},
   "outputs": [
    {
     "data": {
      "text/plain": [
       "f (generic function with 1 method)"
      ]
     },
     "execution_count": 1,
     "metadata": {},
     "output_type": "execute_result"
    }
   ],
   "source": [
    "function f(x0, y0, z0)\n",
    "    \n",
    "    result = 0.0\n",
    "   \n",
    "    for x=0:10, y=0:10, z=0:10\n",
    "    \n",
    "        result += exp(-(1/2)*(x - x0)^2)*exp(-(1/2)*(y - y0)^2)*exp(-(1/2)*(z - z0)^2)*sin(x*y)*cos(z)\n",
    "        \n",
    "    end\n",
    "        \n",
    "    return result\n",
    "    \n",
    "end"
   ]
  },
  {
   "cell_type": "markdown",
   "id": "c26498df-c6b6-4e54-9eff-d4a4c2c94e54",
   "metadata": {
    "tags": []
   },
   "source": [
    "## Exact result"
   ]
  },
  {
   "cell_type": "markdown",
   "id": "8f4fcefd-b79a-48d3-a05b-a4d01a164172",
   "metadata": {},
   "source": [
    "Let's first compute the exact value of the function for some values of $(x_0, y_0, z_0)$"
   ]
  },
  {
   "cell_type": "code",
   "execution_count": 6,
   "id": "13f74871-96ee-4f1d-9758-e9971479f880",
   "metadata": {},
   "outputs": [
    {
     "name": "stdout",
     "output_type": "stream",
     "text": [
      "  0.000041 seconds\n"
     ]
    },
    {
     "data": {
      "text/plain": [
       "0.692056321795933"
      ]
     },
     "execution_count": 6,
     "metadata": {},
     "output_type": "execute_result"
    }
   ],
   "source": [
    "@time f(2,6,10)"
   ]
  },
  {
   "cell_type": "code",
   "execution_count": 8,
   "id": "2a3e5bf1-be81-48c1-9559-d583ccd4eaed",
   "metadata": {},
   "outputs": [
    {
     "name": "stdout",
     "output_type": "stream",
     "text": [
      "  0.000039 seconds\n"
     ]
    },
    {
     "data": {
      "text/plain": [
       "-1.2701664008437514"
      ]
     },
     "execution_count": 8,
     "metadata": {},
     "output_type": "execute_result"
    }
   ],
   "source": [
    "@time f(0,8,10)"
   ]
  },
  {
   "cell_type": "code",
   "execution_count": 9,
   "id": "7bfecf71-7424-4555-85a0-8b83316aca4e",
   "metadata": {},
   "outputs": [
    {
     "name": "stdout",
     "output_type": "stream",
     "text": [
      "  0.000040 seconds\n"
     ]
    },
    {
     "data": {
      "text/plain": [
       "-1.0645141883730707"
      ]
     },
     "execution_count": 9,
     "metadata": {},
     "output_type": "execute_result"
    }
   ],
   "source": [
    "@time f(7,2.4,3)"
   ]
  },
  {
   "cell_type": "markdown",
   "id": "3f6c1767-cabe-47e8-b022-3e9a9467097c",
   "metadata": {},
   "source": [
    "## Standard Monte Carlo"
   ]
  },
  {
   "cell_type": "markdown",
   "id": "51b05bc1-de74-4fa1-bbfd-1026d81790c8",
   "metadata": {},
   "source": [
    "Let's now construct a standard Monte Carlo estimator for the above function"
   ]
  },
  {
   "cell_type": "markdown",
   "id": "dfa61989-970d-4cf1-a43d-adc3cb756466",
   "metadata": {},
   "source": [
    "$$\n",
    "\\lim_{N\\to\\infty} f_{MC}(x_0, y_0, z_0, N) = f(x_0, y_0, z_0) \n",
    "$$"
   ]
  },
  {
   "cell_type": "markdown",
   "id": "85a8d986-0bab-4c44-8e7d-e85499066fbf",
   "metadata": {},
   "source": [
    "$$\n",
    "f_{MC}(x_0, y_0, z_0, N) = \\frac{V}{N} \\sum\\limits_{[x, y, z]_1 \\dots [x, y, z]_N} e^{-\\frac{1}{2} \\left( x - x_0 \\right)^2} e^{-\\frac{1}{2} \\left( y - y_0 \\right)^2} e^{-\\frac{1}{2} \\left( z - z_0 \\right)^2} \\sin \\left( xy \\right) \\cos \\left( z \\right)\n",
    "$$"
   ]
  },
  {
   "cell_type": "markdown",
   "id": "fa4c2c37-4231-468c-8db1-a1c91db64af3",
   "metadata": {},
   "source": [
    "where $ V = 11^3 $, as this is the total number of possible configurations"
   ]
  },
  {
   "cell_type": "code",
   "execution_count": 61,
   "id": "d0fa1b6d-854b-4f87-9edf-278f6d565078",
   "metadata": {},
   "outputs": [],
   "source": [
    "using Distributions, Random"
   ]
  },
  {
   "cell_type": "code",
   "execution_count": 46,
   "id": "1e2ffb77-bacc-49d5-8197-bfe447ca60f7",
   "metadata": {},
   "outputs": [
    {
     "data": {
      "text/plain": [
       "fMC (generic function with 1 method)"
      ]
     },
     "execution_count": 46,
     "metadata": {},
     "output_type": "execute_result"
    }
   ],
   "source": [
    "function fMC(x0, y0, z0, N)\n",
    "    \n",
    "    draw = Array{Int}(undef, 3);\n",
    "    draw_float_sample = Array{Float64}(undef, 1);\n",
    "    Uniform_distribution = Uniform(0, 10);\n",
    "    \n",
    "    result = 0.0\n",
    "   \n",
    "    for i=1:N\n",
    "        \n",
    "          for i = 1:3\n",
    "              rand!(Uniform_distribution, draw_float_sample)\n",
    "              draw_float_sample[1] = round(Int64, draw_float_sample[1])\n",
    "              draw[i] = Int(draw_float_sample[1])\n",
    "          end\n",
    "    \n",
    "        result += exp(-(1/2)*(draw[1] - x0)^2)*exp(-(1/2)*(draw[2] - y0)^2)*exp(-(1/2)*(draw[3] - z0)^2)*sin(draw[1]*draw[2])*cos(draw[3])\n",
    "        \n",
    "    end\n",
    "    \n",
    "    result = result*11^3/N\n",
    "        \n",
    "    return result\n",
    "    \n",
    "end"
   ]
  },
  {
   "cell_type": "code",
   "execution_count": 85,
   "id": "98852aa9-f28e-4f72-a3c0-c75c1f60389a",
   "metadata": {},
   "outputs": [
    {
     "name": "stdout",
     "output_type": "stream",
     "text": [
      "  0.700662 seconds (2 allocations: 144 bytes)\n"
     ]
    },
    {
     "data": {
      "text/plain": [
       "0.6385288760178605"
      ]
     },
     "execution_count": 85,
     "metadata": {},
     "output_type": "execute_result"
    }
   ],
   "source": [
    "@time fMC(2, 6, 10, 10^7)"
   ]
  },
  {
   "cell_type": "code",
   "execution_count": 86,
   "id": "3756c0f3-852c-437d-994a-cac5f65d1027",
   "metadata": {},
   "outputs": [
    {
     "name": "stdout",
     "output_type": "stream",
     "text": [
      "  0.713046 seconds (2 allocations: 144 bytes)\n"
     ]
    },
    {
     "data": {
      "text/plain": [
       "0.6606455083676828"
      ]
     },
     "execution_count": 86,
     "metadata": {},
     "output_type": "execute_result"
    }
   ],
   "source": [
    "@time fMC(2, 6, 10, 10^7)"
   ]
  },
  {
   "cell_type": "code",
   "execution_count": 87,
   "id": "db6efaa8-23d2-4a8c-b905-f9d92629f953",
   "metadata": {},
   "outputs": [
    {
     "name": "stdout",
     "output_type": "stream",
     "text": [
      "  0.701753 seconds (2 allocations: 144 bytes)\n"
     ]
    },
    {
     "data": {
      "text/plain": [
       "0.6628532618085105"
      ]
     },
     "execution_count": 87,
     "metadata": {},
     "output_type": "execute_result"
    }
   ],
   "source": [
    "@time fMC(2, 6, 10, 10^7)"
   ]
  },
  {
   "cell_type": "code",
   "execution_count": 88,
   "id": "7cb5d180-b091-41af-b117-07a9b9959e3d",
   "metadata": {},
   "outputs": [
    {
     "name": "stdout",
     "output_type": "stream",
     "text": [
      "  0.707672 seconds (2 allocations: 144 bytes)\n"
     ]
    },
    {
     "data": {
      "text/plain": [
       "0.6448320741738877"
      ]
     },
     "execution_count": 88,
     "metadata": {},
     "output_type": "execute_result"
    }
   ],
   "source": [
    "@time fMC(2, 6, 10, 10^7)"
   ]
  },
  {
   "cell_type": "markdown",
   "id": "c9226480-1f3f-4341-b9e0-cfb45b6d519b",
   "metadata": {},
   "source": [
    "$\\textbf{The converge is slow}$: we need $10^7$ iterations to see a result stable up to the first significant digit. \n",
    "\n",
    "More importantly, $\\textbf{the converges is biased}$, since the sum is highly oscillating and has several cancellations due to the negative terms."
   ]
  },
  {
   "cell_type": "markdown",
   "id": "86e33941-c268-4f12-9e7d-f29aae04d958",
   "metadata": {},
   "source": [
    "# Changing variables"
   ]
  },
  {
   "cell_type": "markdown",
   "id": "00cd8092-feb5-4522-af72-36396da8e988",
   "metadata": {},
   "source": [
    "I can perform a trivial change of variables in order to sample from the interval $[0,1]$:"
   ]
  },
  {
   "cell_type": "markdown",
   "id": "48b21045-c283-4510-aa50-16408016c98d",
   "metadata": {},
   "source": [
    "$$\n",
    "X = \\frac{x}{10}, \\ Y = \\frac{y}{10},\\  Z = \\frac{z}{10}\n",
    "$$\n",
    "\n",
    "The function changes as:\n",
    "\n",
    "$$\n",
    "f(x_0, y_0, z_0) = \\sum\\limits_{X \\in [0,1]} \\sum\\limits_{Y \\in [0,1]} \\sum\\limits_{Z \\in [0,1]} e^{-\\frac{1}{2} \\left( 10*X - x_0 \\right)^2} e^{-\\frac{1}{2} \\left( 10*Y - y_0 \\right)^2} e^{-\\frac{1}{2} \\left( 10*Z - z_0 \\right)^2} \\sin \\left( 100*XY \\right) \\cos \\left( 10*Z \\right)\n",
    "$$\n",
    "\n",
    "Since the original quantity was a sum and not a continuous integral, of course not all values $X \\in [0,1]$ etc. should be considered, therefore it is necessary to round.\n",
    "\n",
    "The MC estimator becomes:\n",
    "\n",
    "$$\n",
    "f_{MC}(x_0, y_0, z_0, N) = \\frac{V}{N} \\sum\\limits_{[X, Y, Z]_1 \\dots [X, Y, Z]_N} e^{-\\frac{1}{2} \\left( 10*X - x_0 \\right)^2} e^{-\\frac{1}{2} \\left( 10*Y - y_0 \\right)^2} e^{-\\frac{1}{2} \\left( 10*Z - z_0 \\right)^2} \\sin \\left( 100*XY \\right) \\cos \\left( 10*Z \\right)\n",
    "$$"
   ]
  },
  {
   "cell_type": "code",
   "execution_count": 67,
   "id": "94b2d593-0254-4e06-aab6-693b93e8ed2b",
   "metadata": {},
   "outputs": [
    {
     "data": {
      "text/plain": [
       "fMC_change_variable (generic function with 1 method)"
      ]
     },
     "execution_count": 67,
     "metadata": {},
     "output_type": "execute_result"
    }
   ],
   "source": [
    "function fMC_change_variable(x0, y0, z0, N)\n",
    "    \n",
    "    draw = Array{Int}(undef, 3);\n",
    "    draw_float_sample = Array{Float64}(undef, 1);\n",
    "    Uniform_distribution = Uniform(0, 1);\n",
    "    \n",
    "    result = 0.0\n",
    "   \n",
    "    for i=1:N\n",
    "        \n",
    "          for i = 1:3\n",
    "              rand!(Uniform_distribution, draw_float_sample)\n",
    "              draw_float_sample[1] = 10*draw_float_sample[1]\n",
    "              draw_float_sample[1] = round(Int64, draw_float_sample[1])\n",
    "              draw[i] = Int(draw_float_sample[1])\n",
    "          end\n",
    "    \n",
    "        result += exp(-(1/2)*(draw[1] - x0)^2)*exp(-(1/2)*(draw[2] - y0)^2)*exp(-(1/2)*(draw[3] - z0)^2)*sin(draw[1]*draw[2])*cos(draw[3])\n",
    "        \n",
    "    end\n",
    "    \n",
    "    result = result*11^3/N\n",
    "        \n",
    "    return result\n",
    "    \n",
    "end"
   ]
  },
  {
   "cell_type": "code",
   "execution_count": 71,
   "id": "a2367305-b77b-4be3-81a9-0e9b44ca36d2",
   "metadata": {},
   "outputs": [
    {
     "name": "stdout",
     "output_type": "stream",
     "text": [
      "  0.709644 seconds (2 allocations: 144 bytes)\n"
     ]
    },
    {
     "data": {
      "text/plain": [
       "0.6556871341709338"
      ]
     },
     "execution_count": 71,
     "metadata": {},
     "output_type": "execute_result"
    }
   ],
   "source": [
    "@time fMC_change_variable(2, 6, 10, 10^7)"
   ]
  },
  {
   "cell_type": "markdown",
   "id": "3422c814-1d26-4f32-a805-462f9632d613",
   "metadata": {},
   "source": [
    "## VEGAS"
   ]
  },
  {
   "cell_type": "markdown",
   "id": "5cdf3267-aba0-4d3e-995f-75759461d7a8",
   "metadata": {},
   "source": [
    "I write explicitly the equations considering a single axis for simplicity."
   ]
  },
  {
   "cell_type": "markdown",
   "id": "c7e836e7-5fd8-4eb9-807f-5e064338fc10",
   "metadata": {},
   "source": [
    "Let's start with a grid having $a = 0$, $b = 10$, $N_g = 10$ with all equal $\\Delta x_i = \\frac{b-a}{N_g} = 1$ for $i = 0 \\dots 9$. \n",
    "\n",
    "$ x_0 = a $\n",
    "\n",
    "$ x_1 = x_0 + \\Delta x_0 $\n",
    "\n",
    "$ x_2 = x_1 + \\Delta x_1 $\n",
    "\n",
    "$ \\dots $\n",
    "\n",
    "$ x_{N_g} = x_{N_g-1} + \\Delta x_{N_g-1} = b $"
   ]
  },
  {
   "cell_type": "code",
   "execution_count": 144,
   "id": "46d8c5c9-1377-4f4c-bb41-86a031ea82d6",
   "metadata": {},
   "outputs": [],
   "source": [
    "a = 0;\n",
    "b = 10;\n",
    "N_g = 35;\n",
    "Delta_x_i = (b-a)/(N_g);"
   ]
  },
  {
   "cell_type": "markdown",
   "id": "e6a679d1-eb9e-4077-a20a-0e3bafcf1f69",
   "metadata": {},
   "source": [
    "We can use the $\\textit{LinRange}$ function in julia, with last parameter equal to $N_g + 1$:"
   ]
  },
  {
   "cell_type": "code",
   "execution_count": 145,
   "id": "cd60742f-55e4-48ef-85fc-6679de4b6893",
   "metadata": {},
   "outputs": [
    {
     "data": {
      "text/plain": [
       "36-element Vector{Float64}:\n",
       "  0.0\n",
       "  0.2857142857142857\n",
       "  0.5714285714285714\n",
       "  0.8571428571428572\n",
       "  1.1428571428571428\n",
       "  1.4285714285714284\n",
       "  1.7142857142857144\n",
       "  2.0\n",
       "  2.2857142857142856\n",
       "  2.571428571428571\n",
       "  2.8571428571428568\n",
       "  3.142857142857143\n",
       "  3.428571428571429\n",
       "  ⋮\n",
       "  6.857142857142858\n",
       "  7.142857142857143\n",
       "  7.428571428571429\n",
       "  7.714285714285714\n",
       "  8.0\n",
       "  8.285714285714286\n",
       "  8.571428571428571\n",
       "  8.857142857142858\n",
       "  9.142857142857142\n",
       "  9.428571428571429\n",
       "  9.714285714285714\n",
       " 10.0"
      ]
     },
     "execution_count": 145,
     "metadata": {},
     "output_type": "execute_result"
    }
   ],
   "source": [
    "VEGAS_grid = collect(LinRange(a, b, N_g+1))"
   ]
  },
  {
   "cell_type": "markdown",
   "id": "a5a5386d-be2c-4f38-a9fe-85f9e282304b",
   "metadata": {},
   "source": [
    "The first natural choice for the grid seems to be a linear spaced one:"
   ]
  },
  {
   "cell_type": "code",
   "execution_count": 146,
   "id": "1963c17c-8906-4e6e-8143-3f6e25bac9e1",
   "metadata": {},
   "outputs": [
    {
     "data": {
      "text/plain": [
       "35-element Vector{Float64}:\n",
       " 0.2857142857142857\n",
       " 0.2857142857142857\n",
       " 0.2857142857142857\n",
       " 0.2857142857142857\n",
       " 0.2857142857142857\n",
       " 0.2857142857142857\n",
       " 0.2857142857142857\n",
       " 0.2857142857142857\n",
       " 0.2857142857142857\n",
       " 0.2857142857142857\n",
       " 0.2857142857142857\n",
       " 0.2857142857142857\n",
       " 0.2857142857142857\n",
       " ⋮\n",
       " 0.2857142857142857\n",
       " 0.2857142857142857\n",
       " 0.2857142857142857\n",
       " 0.2857142857142857\n",
       " 0.2857142857142857\n",
       " 0.2857142857142857\n",
       " 0.2857142857142857\n",
       " 0.2857142857142857\n",
       " 0.2857142857142857\n",
       " 0.2857142857142857\n",
       " 0.2857142857142857\n",
       " 0.2857142857142857"
      ]
     },
     "execution_count": 146,
     "metadata": {},
     "output_type": "execute_result"
    }
   ],
   "source": [
    "VEGAS_spacing_map = [Delta_x_i for i in 1:1:N_g]"
   ]
  },
  {
   "cell_type": "markdown",
   "id": "4c82e23d-71a5-48d5-91fc-3d8f2caf3698",
   "metadata": {},
   "source": [
    "The following function provides the map between $X \\in [0,1]$ and $x \\in [a, b]$"
   ]
  },
  {
   "cell_type": "code",
   "execution_count": 147,
   "id": "a8824c7d-edf3-4822-b065-910f96698b6c",
   "metadata": {},
   "outputs": [
    {
     "data": {
      "text/plain": [
       "x (generic function with 2 methods)"
      ]
     },
     "execution_count": 147,
     "metadata": {},
     "output_type": "execute_result"
    }
   ],
   "source": [
    "function x(X, N_g, VEGAS_grid) \n",
    "   \n",
    "    i_X = Int(floor(X*N_g))\n",
    "    \n",
    "    delta_X = X*N_g - i_X\n",
    "    \n",
    "    if (i_X == N_g)\n",
    "        return VEGAS_grid[i_X+1]\n",
    "    else\n",
    "        return VEGAS_grid[i_X+1] + VEGAS_spacing_map[i_X+1]*delta_X\n",
    "    end\n",
    "       \n",
    "end"
   ]
  },
  {
   "cell_type": "code",
   "execution_count": 154,
   "id": "7b4e9f71-46c5-4d05-b416-7e4d4eab2256",
   "metadata": {},
   "outputs": [
    {
     "name": "stdout",
     "output_type": "stream",
     "text": [
      "  0.000006 seconds (5 allocations: 80 bytes)\n"
     ]
    },
    {
     "data": {
      "text/plain": [
       "2.9999999999999996"
      ]
     },
     "execution_count": 154,
     "metadata": {},
     "output_type": "execute_result"
    }
   ],
   "source": [
    "@time x(0.3, N_g, VEGAS_grid)"
   ]
  },
  {
   "cell_type": "code",
   "execution_count": 134,
   "id": "fb399b10-5a42-4c51-bc53-a1b63969c036",
   "metadata": {},
   "outputs": [
    {
     "data": {
      "text/plain": [
       "fMC_change_variable (generic function with 2 methods)"
      ]
     },
     "execution_count": 134,
     "metadata": {},
     "output_type": "execute_result"
    }
   ],
   "source": [
    "function fMC_change_variable(x0, y0, z0, N_ev, VEGAS_grid)\n",
    "    \n",
    "    draw = Array{Int}(undef, 3);\n",
    "    draw_float_sample = Array{Float64}(undef, 1);\n",
    "    Uniform_distribution = Uniform(0, 1);\n",
    "    \n",
    "    result = 0.0\n",
    "   \n",
    "    for i=1:N_ev\n",
    "        \n",
    "          for i = 1:3\n",
    "              rand!(Uniform_distribution, draw_float_sample)\n",
    "              println(draw_float_sample[1])\n",
    "              println(x(draw_float_sample[1], 10, VEGAS_grid))\n",
    "              draw_float_sample[1] = 10*draw_float_sample[1]\n",
    "              draw_float_sample[1] = round(Int64, draw_float_sample[1])\n",
    "              draw[i] = Int(draw_float_sample[1])\n",
    "          end\n",
    "    \n",
    "        result += exp(-(1/2)*(draw[1] - x0)^2)*exp(-(1/2)*(draw[2] - y0)^2)*exp(-(1/2)*(draw[3] - z0)^2)*sin(draw[1]*draw[2])*cos(draw[3])\n",
    "        \n",
    "    end\n",
    "    \n",
    "    result = result*11^3/N_ev\n",
    "        \n",
    "    return result\n",
    "    \n",
    "end"
   ]
  },
  {
   "cell_type": "code",
   "execution_count": 133,
   "id": "95280bef-b329-4d82-8ac4-c5cc542d0772",
   "metadata": {},
   "outputs": [
    {
     "name": "stdout",
     "output_type": "stream",
     "text": [
      "0.4085216036121928\n",
      "4.085216036121928\n",
      "0.8477331487389025\n",
      "8.477331487389025\n",
      "0.6199880159372458\n",
      "6.199880159372459\n",
      "0.35445196528317535\n",
      "3.5445196528317533\n",
      "0.10134849871093499\n",
      "1.0134849871093499\n",
      "0.24454414407491332\n",
      "2.445441440749133\n",
      "0.2666846616216325\n",
      "2.666846616216325\n",
      "0.04735061192149992\n",
      "0.4735061192149992\n",
      "0.5815681027674933\n",
      "5.815681027674932\n",
      "0.6361533004189021\n",
      "6.36153300418902\n",
      "0.8517461076516576\n",
      "8.517461076516575\n",
      "0.4288354436182441\n",
      "4.288354436182441\n",
      "0.277262826664615\n",
      "2.7726282666461497\n",
      "0.2983859688462249\n",
      "2.9838596884622492\n",
      "0.36747183516618\n",
      "3.6747183516617996\n",
      "0.4988532595235574\n",
      "4.988532595235574\n",
      "0.5401475781133153\n",
      "5.401475781133152\n",
      "0.8283779450500972\n",
      "8.283779450500973\n",
      "0.374290046331168\n",
      "3.7429004633116802\n",
      "0.5131898959668818\n",
      "5.131898959668818\n",
      "0.5102018336052971\n",
      "5.102018336052971\n",
      "0.11620344636318491\n",
      "1.1620344636318491\n",
      "0.1290694782992653\n",
      "1.290694782992653\n",
      "0.7172691078369091\n",
      "7.172691078369091\n",
      "0.4411179156742414\n",
      "4.411179156742414\n",
      "0.569358207566085\n",
      "5.69358207566085\n",
      "0.46830484202479705\n",
      "4.683048420247971\n",
      "0.08704529822864682\n",
      "0.8704529822864682\n",
      "0.7339426592564783\n",
      "7.339426592564783\n",
      "0.05895819786459644\n",
      "0.5895819786459644\n",
      "  0.034044 seconds (93.17 k allocations: 5.268 MiB, 98.20% compilation time)\n"
     ]
    },
    {
     "data": {
      "text/plain": [
       "0.002765682228838514"
      ]
     },
     "execution_count": 133,
     "metadata": {},
     "output_type": "execute_result"
    }
   ],
   "source": [
    "@time fMC_change_variable(2, 6, 10, 10, VEGAS_grid)"
   ]
  },
  {
   "cell_type": "markdown",
   "id": "96b7668c-c8dd-4535-b6f8-8ae38c6f8afc",
   "metadata": {},
   "source": [
    "Now I want to estimate the following quantities:"
   ]
  },
  {
   "cell_type": "markdown",
   "id": "d7e090e6-6270-4cd6-bee1-254e1355bd0b",
   "metadata": {},
   "source": [
    "$$\n",
    "d^x_1 = \\frac{1}{n^x_1} \\sum_{X(x) \\in \\Delta x_1} \\left( e^{-\\frac{1}{2} \\left( 10*X - x_0 \\right)^2} e^{-\\frac{1}{2} \\left( 10*Y - y_0 \\right)^2} e^{-\\frac{1}{2} \\left( 10*Z - z_0 \\right)^2} \\sin \\left( 100*XY \\right) \\cos \\left( 10*Z \\right) \\right)^2\n",
    "$$\n",
    "\n",
    "$$\n",
    "d^x_2 = \\frac{1}{n^x_2} \\sum_{X(x) \\in \\Delta x_2} \\left( e^{-\\frac{1}{2} \\left( 10*X - x_0 \\right)^2} e^{-\\frac{1}{2} \\left( 10*Y - y_0 \\right)^2} e^{-\\frac{1}{2} \\left( 10*Z - z_0 \\right)^2} \\sin \\left( 100*XY \\right) \\cos \\left( 10*Z \\right) \\right)^2\n",
    "$$\n",
    "\n",
    "$$\n",
    "\\dots\n",
    "$$\n",
    "\n",
    "$$\n",
    "d^y_1 = \\frac{1}{n^y_1} \\sum_{Y(y) \\in \\Delta y_1} \\left( e^{-\\frac{1}{2} \\left( 10*X - x_0 \\right)^2} e^{-\\frac{1}{2} \\left( 10*Y - y_0 \\right)^2} e^{-\\frac{1}{2} \\left( 10*Z - z_0 \\right)^2} \\sin \\left( 100*XY \\right) \\cos \\left( 10*Z \\right) \\right)^2\n",
    "$$\n",
    "\n",
    "etc. \n",
    "\n",
    "where $n^x_i \\approx \\frac{N_{ev}}{N_g}$ is the number of samples in interval $\\Delta x_i$ "
   ]
  },
  {
   "cell_type": "code",
   "execution_count": null,
   "id": "6fe04516-7a6e-4d12-b567-8ccbc505cd5e",
   "metadata": {},
   "outputs": [],
   "source": []
  }
 ],
 "metadata": {
  "kernelspec": {
   "display_name": "Julia 1.7.2",
   "language": "julia",
   "name": "julia-1.7"
  },
  "language_info": {
   "file_extension": ".jl",
   "mimetype": "application/julia",
   "name": "julia",
   "version": "1.7.2"
  }
 },
 "nbformat": 4,
 "nbformat_minor": 5
}
