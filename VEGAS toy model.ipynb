{
 "cells": [
  {
   "cell_type": "markdown",
   "id": "08b8ae99-d6a8-44aa-9f8d-e30f5b504ec6",
   "metadata": {},
   "source": [
    "# VEGAS in spinfoams: application on a toy model"
   ]
  },
  {
   "cell_type": "code",
   "execution_count": 1,
   "id": "a2b56c41-e60f-465c-8c89-0bb06a92e4e9",
   "metadata": {},
   "outputs": [
    {
     "data": {
      "text/plain": [
       "1-element Vector{Function}:\n",
       " format_current_cell (generic function with 1 method)"
      ]
     },
     "execution_count": 1,
     "metadata": {},
     "output_type": "execute_result"
    }
   ],
   "source": [
    "using JupyterFormatter\n",
    "enable_autoformat()"
   ]
  },
  {
   "cell_type": "markdown",
   "id": "a3c3c1a7-8cf3-4f37-b0d0-a15ff76a164a",
   "metadata": {},
   "source": [
    "This toy model has the purpose of testing the VEGAS algorithm in order to compute a discret sum.\n",
    "\n",
    "I consider a function $F(x_0, y_0, z_0)$ of 3 variables defined as:"
   ]
  },
  {
   "cell_type": "markdown",
   "id": "52a216f2-a354-4a48-90fa-c542faea53d7",
   "metadata": {},
   "source": [
    "\\begin{align}\n",
    "F(x_0, y_0, z_0) & = \\sum\\limits_{x = 0}^{10} \\sum\\limits_{y = 0}^{10} \\sum\\limits_{z = 0}^{10} e^{-\\frac{1}{2} \\left( x - x_0 \\right)^2} e^{-\\frac{1}{2} \\left( y - y_0 \\right)^2} e^{-\\frac{1}{2} \\left( z - z_0 \\right)^2} \\sin \\left( xy \\right) \\cos \\left( z \\right) \\\\\n",
    "& \\equiv \\sum\\limits_{x = 0}^{10} \\sum\\limits_{y = 0}^{10} \\sum\\limits_{z = 0}^{10} f(x_0, y_0, z_0, x, y, z)\n",
    "\\end{align}"
   ]
  },
  {
   "cell_type": "code",
   "execution_count": 1,
   "id": "aa406dc8-d0dc-49f6-9769-7e0a4d701371",
   "metadata": {},
   "outputs": [
    {
     "data": {
      "text/plain": [
       "F (generic function with 1 method)"
      ]
     },
     "execution_count": 1,
     "metadata": {},
     "output_type": "execute_result"
    }
   ],
   "source": [
    "function F(x0, y0, z0)\n",
    "\n",
    "    result = 0.0\n",
    "\n",
    "    for x = 0:10, y = 0:10, z = 0:10\n",
    "        result +=\n",
    "            exp(-(1 / 2) * (x - x0)^2) *\n",
    "            exp(-(1 / 2) * (y - y0)^2) *\n",
    "            exp(-(1 / 2) * (z - z0)^2) *\n",
    "            sin(x * y) *\n",
    "            cos(z)\n",
    "    end\n",
    "\n",
    "    result\n",
    "\n",
    "end"
   ]
  },
  {
   "cell_type": "markdown",
   "id": "c26498df-c6b6-4e54-9eff-d4a4c2c94e54",
   "metadata": {
    "tags": []
   },
   "source": [
    "## Exact result"
   ]
  },
  {
   "cell_type": "markdown",
   "id": "8f4fcefd-b79a-48d3-a05b-a4d01a164172",
   "metadata": {},
   "source": [
    "Let's first compute the exact value of the function for a chosen value of $(x_0, y_0, z_0)$:"
   ]
  },
  {
   "cell_type": "code",
   "execution_count": 2,
   "id": "13f74871-96ee-4f1d-9758-e9971479f880",
   "metadata": {},
   "outputs": [
    {
     "name": "stdout",
     "output_type": "stream",
     "text": [
      "  0.000045 seconds\n"
     ]
    },
    {
     "data": {
      "text/plain": [
       "0.692056321795933"
      ]
     },
     "execution_count": 2,
     "metadata": {},
     "output_type": "execute_result"
    }
   ],
   "source": [
    "@time F(2, 6, 10)"
   ]
  },
  {
   "cell_type": "markdown",
   "id": "3f6c1767-cabe-47e8-b022-3e9a9467097c",
   "metadata": {},
   "source": [
    "## Standard Monte Carlo"
   ]
  },
  {
   "cell_type": "markdown",
   "id": "51b05bc1-de74-4fa1-bbfd-1026d81790c8",
   "metadata": {},
   "source": [
    "Let's now construct a standard Monte Carlo estimator for the above function"
   ]
  },
  {
   "cell_type": "markdown",
   "id": "85a8d986-0bab-4c44-8e7d-e85499066fbf",
   "metadata": {},
   "source": [
    "$$\n",
    "\\lim_{N\\to\\infty} F_{MC}(x_0, y_0, z_0, N) = F(x_0, y_0, z_0) \n",
    "$$\n",
    "\n",
    "which is given by:\n",
    "\n",
    "\\begin{align}\n",
    "F_{MC}(x_0, y_0, z_0, N) & = \\frac{V}{N} \\sum\\limits_{[x, y, z]_1 \\dots [x, y, z]_N} e^{-\\frac{1}{2} \\left( x - x_0 \\right)^2} e^{-\\frac{1}{2} \\left( y - y_0 \\right)^2} e^{-\\frac{1}{2} \\left( z - z_0 \\right)^2} \\sin \\left( xy \\right) \\cos \\left( z \\right) \\\\\n",
    "& \\equiv \\frac{V}{N} \\sum\\limits_{[x, y, z]_1 \\dots [x, y, z]_N} f(x_0, y_0, z_0, [x, y, z])\n",
    "\\end{align}"
   ]
  },
  {
   "cell_type": "markdown",
   "id": "fa4c2c37-4231-468c-8db1-a1c91db64af3",
   "metadata": {},
   "source": [
    "where $ V = 11^3 $, as this is the total number of possible configurations. \n",
    "\n",
    "With respect to the discrete case, in the continuous $V$ coincides with the volume of the subset of $\\mathbb{R^3}$ on which the integration is performed."
   ]
  },
  {
   "cell_type": "code",
   "execution_count": 3,
   "id": "d0fa1b6d-854b-4f87-9edf-278f6d565078",
   "metadata": {},
   "outputs": [],
   "source": [
    "using Distributions, Random"
   ]
  },
  {
   "cell_type": "code",
   "execution_count": 33,
   "id": "1e2ffb77-bacc-49d5-8197-bfe447ca60f7",
   "metadata": {},
   "outputs": [
    {
     "data": {
      "text/plain": [
       "FMC (generic function with 1 method)"
      ]
     },
     "execution_count": 33,
     "metadata": {},
     "output_type": "execute_result"
    }
   ],
   "source": [
    "function FMC(x0, y0, z0, N, V)\n",
    "\n",
    "    draw = Array{Int}(undef, 3)\n",
    "    draw_float_sample = Array{Float64}(undef, 1)\n",
    "    Uniform_distribution = Uniform(0, 11)\n",
    "\n",
    "    result = 0.0\n",
    "\n",
    "    for i = 1:N\n",
    "\n",
    "        for i = 1:3\n",
    "            rand!(Uniform_distribution, draw_float_sample)\n",
    "            draw_float_sample[1] = floor(draw_float_sample[1])\n",
    "            draw[i] = Int(draw_float_sample[1])\n",
    "        end\n",
    "\n",
    "        result +=\n",
    "            exp(-(1 / 2) * (draw[1] - x0)^2) *\n",
    "            exp(-(1 / 2) * (draw[2] - y0)^2) *\n",
    "            exp(-(1 / 2) * (draw[3] - z0)^2) *\n",
    "            sin(draw[1] * draw[2]) *\n",
    "            cos(draw[3])\n",
    "\n",
    "    end\n",
    "\n",
    "    result *= V / N\n",
    "\n",
    "    println(result)\n",
    "\n",
    "end"
   ]
  },
  {
   "cell_type": "code",
   "execution_count": 34,
   "id": "0b3352bd-51d3-43aa-a2e8-63c58f96cb41",
   "metadata": {},
   "outputs": [],
   "source": [
    "V = 11^3;"
   ]
  },
  {
   "cell_type": "code",
   "execution_count": 35,
   "id": "98852aa9-f28e-4f72-a3c0-c75c1f60389a",
   "metadata": {},
   "outputs": [
    {
     "name": "stdout",
     "output_type": "stream",
     "text": [
      "0.6901471653105549\n",
      "  0.893630 seconds (198.51 k allocations: 11.399 MiB, 9.02% compilation time)\n",
      "0.699621777116541\n",
      "  0.761710 seconds (29 allocations: 1.453 KiB)\n",
      "0.7040484902062966\n",
      "  0.760316 seconds (28 allocations: 1.062 KiB)\n",
      "0.6922514473029477\n",
      "  0.758617 seconds (28 allocations: 1.062 KiB)\n",
      "0.721554044764387\n",
      "  0.772173 seconds (28 allocations: 1.062 KiB)\n",
      "0.6753680313835795\n",
      "  0.766042 seconds (29 allocations: 2.047 KiB)\n",
      "0.6860834314683691\n",
      "  0.778286 seconds (28 allocations: 1.062 KiB)\n",
      "0.7053147339883762\n",
      "  0.755483 seconds (28 allocations: 1.062 KiB)\n",
      "0.7026439691337742\n",
      "  0.747401 seconds (28 allocations: 1.062 KiB)\n",
      "0.6910096170906878\n",
      "  0.742870 seconds (28 allocations: 1.062 KiB)\n"
     ]
    }
   ],
   "source": [
    "for i=1:10\n",
    "\n",
    "@time FMC(2, 6, 10, 10^7, V)\n",
    "    \n",
    "end"
   ]
  },
  {
   "cell_type": "markdown",
   "id": "c7e3bca2-72a6-489b-ab3b-f151c783111f",
   "metadata": {},
   "source": [
    "- $\\textbf{The converge is slow}$: we need $10^7$ iterations to see a result stable up to the first significant digit. \n",
    "\n",
    "- There is a $\\textbf{very high standard deviation}$ (see next cell)\n",
    "\n",
    "- $\\textbf{The converges is biased}$, since the sum is highly oscillating and has several cancellations due to the negative terms."
   ]
  },
  {
   "cell_type": "markdown",
   "id": "2ea9949c-1879-4200-af89-5adadac7497d",
   "metadata": {},
   "source": [
    "### Standard deviation"
   ]
  },
  {
   "cell_type": "markdown",
   "id": "b94a7ad6-8f3c-45d6-803d-039e6acb9a42",
   "metadata": {},
   "source": [
    "The standard deviations $\\sigma^2_{F}$ $\\sigma^2_{F_{MC}}$ (of $F$ and $F_{MC}$ respectively) are an indication of the possible error in the Monte Carlo estimate. \n",
    "\n",
    "Let's start by defining \n",
    "\n",
    "$$ \n",
    "\\langle F \\rangle \\equiv \\frac{1}{N} \\sum\\limits_{[x, y, z]_1 \\dots [x, y, z]_N} f(x_0, y_0, z_0, [x, y, z]) = \\frac{1}{V}F_{MC}(x_0, y_0, z_0, N)\n",
    "$$\n",
    "\n",
    "Variance $\\sigma^2_{F}$ can be estimated from the Monte Carlo data as:\n",
    "\n",
    "\\begin{align}\n",
    "\\sigma^2_{F} & \\equiv \\frac{1}{N-1} \\sum\\limits_{[x, y, z]_1 \\dots [x, y, z]_N} \\left( f(x_0, y_0, z_0, [x, y, z]) - \\langle F \\rangle \\right)^2 \\\\\n",
    " & =  \\frac{1}{N-1} \\left[ \\sum\\limits_{[x, y, z]_1 \\dots [x, y, z]_N} f(x_0, y_0, z_0, [x, y, z])^2 - N \\langle F \\rangle^2 \\right] \\\\ \n",
    "\\end{align}\n",
    "\n",
    "\n",
    "From which $\\sigma^2_{F_{MC}}$ is given by:\n",
    "\n",
    "$$\n",
    "\\sigma^2_{MC} = \\frac{V^2}{N} \\sigma^2_{F} = \\frac{V^2}{N-1} \\left[ \\frac{1}{N} \\sum\\limits_{[x, y, z]_1 \\dots [x, y, z]_N} f(x_0, y_0, z_0, [x, y, z])^2 - \\langle F \\rangle^2 \\right]\n",
    "$$"
   ]
  },
  {
   "cell_type": "markdown",
   "id": "86e33941-c268-4f12-9e7d-f29aae04d958",
   "metadata": {},
   "source": [
    "# Changing variables"
   ]
  },
  {
   "cell_type": "markdown",
   "id": "00cd8092-feb5-4522-af72-36396da8e988",
   "metadata": {},
   "source": [
    "I can perform a trivial change of variables in order to sample from the interval $[0,1]$:"
   ]
  },
  {
   "cell_type": "markdown",
   "id": "48b21045-c283-4510-aa50-16408016c98d",
   "metadata": {},
   "source": [
    "$$\n",
    "X = \\frac{x}{10}, \\ Y = \\frac{y}{10},\\  Z = \\frac{z}{10}\n",
    "$$\n",
    "\n",
    "The function changes as:\n",
    "\n",
    "$$\n",
    "F(x_0, y_0, z_0) = \\sum\\limits_{X \\in [0,1]} \\sum\\limits_{Y \\in [0,1]} \\sum\\limits_{Z \\in [0,1]} f(x_0, y_0, z_0, x(X), y(Y), z(Z))\n",
    "$$\n",
    "\n",
    "Since the original quantity was a sum and not a continuous integral, of course it is necessary to round.\n",
    "\n",
    "The MC estimator becomes:\n",
    "\n",
    "\\begin{align}\n",
    "F_{MC}(x_0, y_0, z_0, N) & = \\frac{V}{N} \\sum\\limits_{[X, Y, Z]_1 \\dots [X, Y, Z]_N} f(x_0, y_0, z_0, [x(X), y(Y), z(Z)])\n",
    "\\end{align}"
   ]
  },
  {
   "cell_type": "code",
   "execution_count": 20,
   "id": "94b2d593-0254-4e06-aab6-693b93e8ed2b",
   "metadata": {},
   "outputs": [
    {
     "data": {
      "text/plain": [
       "FMC_change_variable (generic function with 1 method)"
      ]
     },
     "execution_count": 20,
     "metadata": {},
     "output_type": "execute_result"
    }
   ],
   "source": [
    "function FMC_change_variable(x0, y0, z0, N, V)\n",
    "\n",
    "    draw = Array{Int}(undef, 3)\n",
    "    draw_float_sample = Array{Float64}(undef, 1)\n",
    "    Uniform_distribution = Uniform(0, 1)\n",
    "\n",
    "    result = 0.0\n",
    "\n",
    "    for i = 1:N\n",
    "\n",
    "        for i = 1:3\n",
    "            rand!(Uniform_distribution, draw_float_sample)\n",
    "            draw_float_sample[1] = 10 * draw_float_sample[1]\n",
    "            draw_float_sample[1] = round(Int64, draw_float_sample[1])\n",
    "            draw[i] = Int(draw_float_sample[1])\n",
    "        end\n",
    "\n",
    "        result +=\n",
    "            exp(-(1 / 2) * (draw[1] - x0)^2) *\n",
    "            exp(-(1 / 2) * (draw[2] - y0)^2) *\n",
    "            exp(-(1 / 2) * (draw[3] - z0)^2) *\n",
    "            sin(draw[1] * draw[2]) *\n",
    "            cos(draw[3])\n",
    "\n",
    "    end\n",
    "\n",
    "    result *= V / N\n",
    "\n",
    "    result\n",
    "\n",
    "end"
   ]
  },
  {
   "cell_type": "code",
   "execution_count": 76,
   "id": "a2367305-b77b-4be3-81a9-0e9b44ca36d2",
   "metadata": {},
   "outputs": [
    {
     "name": "stdout",
     "output_type": "stream",
     "text": [
      "  0.765712 seconds (80.87 k allocations: 4.597 MiB, 3.64% compilation time)\n"
     ]
    },
    {
     "data": {
      "text/plain": [
       "0.6512009430339419"
      ]
     },
     "execution_count": 76,
     "metadata": {},
     "output_type": "execute_result"
    }
   ],
   "source": [
    "@time FMC_change_variable(2, 6, 10, 10^7, V)"
   ]
  },
  {
   "cell_type": "markdown",
   "id": "ecac9d0b-a0dc-41b0-8a8f-77378dae46b7",
   "metadata": {
    "tags": []
   },
   "source": [
    "## Introducing a Jacobian"
   ]
  },
  {
   "cell_type": "markdown",
   "id": "d4152817-b128-4ef8-9f51-783a336fd7f8",
   "metadata": {},
   "source": [
    "We can rewrite the above expression by introducing the following Jacobian for the coordinate transformation:\n",
    "\n",
    "$$\n",
    "J (X,Y,Z) = \n",
    "\\begin{vmatrix}\n",
    "\\frac{d x}{d X} & 0 & 0 \\\\\n",
    "0 & \\frac{d y}{d Y} & 0 \\\\\n",
    "0 & 0 & \\frac{d z}{d Z} \\\\\n",
    "\\end{vmatrix}\n",
    "=\n",
    "10^3\n",
    "$$\n",
    "\n",
    "which leads to:\n",
    "\n",
    "\\begin{align}\n",
    "F_{MC}(x_0, y_0, z_0, N) = \\frac{V_J}{N} \\sum\\limits_{[X, Y, Z]_1 \\dots [X, Y, Z]_N} J \\cdot f(x_0, y_0, z_0, [x(X), y(Y), z(Z)])\n",
    "\\label{MC_estimator} \\tag{1}\n",
    "\\end{align}\n",
    "\n",
    "In the continuous case we have $V_J = 1$.\n",
    "\n",
    "$$ \n",
    "\\langle F \\rangle_J \\equiv \\frac{1}{N} \\sum\\limits_{[X, Y, Z]_1 \\dots [X, Y, Z]_N} J \\cdot f(x_0, y_0, z_0, [x, y, z]) = \\frac{1}{V_J}F_{MC}(x_0, y_0, z_0, N)\n",
    "$$\n",
    "\n",
    "Variance $\\sigma^2_{F_J}$ is estimated as:\n",
    "\n",
    "\\begin{align}\n",
    "\\sigma^2_{F_J} & \\equiv \\frac{1}{N-1} \\sum\\limits_{[X, Y, Z]_1 \\dots [X, Y, Z]_N} \\left( J \\cdot f(x_0, y_0, z_0, [x(X), y(Y), z(Z)]) - \\langle F \\rangle_J \\right)^2 \\\\\n",
    " & =  \\frac{1}{N-1} \\left[ \\sum\\limits_{[X, Y, Z]_1 \\dots [X, Y, Z]_N} J^2 \\cdot f(x_0, y_0, z_0, [x(X), y(Y), z(Z)])^2 - N \\langle F \\rangle_J^2 \\right] \\\\ \n",
    "\\end{align}\n",
    "\n",
    "\n",
    "Variance $\\sigma^2_{F_{MC_J}}$ is estimated as:\n",
    "\n",
    "$$\n",
    "\\sigma^2_{MC_J} = \\frac{V_J^2}{N} \\sigma^2_{F_J} = \\frac{V_J^2}{N-1} \\left[ \\frac{1}{N} \\sum\\limits_{[X, Y, Z]_1 \\dots [X, Y, Z]_N} J^2 \\cdot f(x_0, y_0, z_0, [x(X), y(Y), z(Z)])^2 - \\langle F \\rangle_J^2 \\right]\n",
    "$$"
   ]
  },
  {
   "cell_type": "markdown",
   "id": "3422c814-1d26-4f32-a805-462f9632d613",
   "metadata": {
    "tags": []
   },
   "source": [
    "## VEGAS"
   ]
  },
  {
   "cell_type": "markdown",
   "id": "c7e836e7-5fd8-4eb9-807f-5e064338fc10",
   "metadata": {},
   "source": [
    "I write explicitly the equations considering a single axis for simplicity. \n",
    "\n",
    "For each axis, we have a grid with $a = x_0$, $b = x_{N_g}$, where $N_g$ is the total number of elements in the grid. \n",
    "\n",
    "$ x_0 = a $\n",
    "\n",
    "$ x_1 = x_0 + \\Delta x_0 $\n",
    "\n",
    "$ x_2 = x_1 + \\Delta x_1 $\n",
    "\n",
    "$ \\dots $\n",
    "\n",
    "$ x_{N_g} = x_{N_g-1} + \\Delta x_{N_g-1} = b $"
   ]
  },
  {
   "cell_type": "markdown",
   "id": "6a4f177b-aaa9-4cf7-8847-c748d8bdd078",
   "metadata": {},
   "source": [
    "Let's define a matrix which contains the grid over the 3 axes:\n",
    "\n",
    "\\begin{align}\n",
    "\\text{VEGAS_grid}^{T} = \n",
    "\\begin{pmatrix}\n",
    "x_0 & x_1 & \\dots & x_{N_g} \\\\\n",
    "y_0 & y_1 & \\dots & y_{N_g}  \\\\\n",
    "z_0 & z_1 & \\dots & z_{N_g}  \\\\\n",
    "\\end{pmatrix}\n",
    "\\end{align}\n",
    "\n",
    "and matrix for the corresponding spacing:\n",
    "\n",
    "\\begin{align}\n",
    "\\text{VEGAS_spacing_grid}^{T} = \n",
    "\\begin{pmatrix}\n",
    "\\Delta x_0 & \\Delta x_1 & \\dots & \\Delta x_{N_g-1} \\\\\n",
    "\\Delta y_0 & \\Delta y_1 & \\dots & \\Delta y_{N_g-1}  \\\\\n",
    "\\Delta z_0 & \\Delta z_1 & \\dots & \\Delta z_{N_g-1}  \\\\\n",
    "\\end{pmatrix}\n",
    "\\end{align}\n",
    "\n",
    "The first natural choice for the grid is a linear spaced one. We therefore consider initially all equal $\\Delta x_i = x_{i+1} - x_{i} = \\frac{b-a}{N_g}$ for $i = 0 \\dots N_g -1$.  "
   ]
  },
  {
   "cell_type": "code",
   "execution_count": 23,
   "id": "46d8c5c9-1377-4f4c-bb41-86a031ea82d6",
   "metadata": {},
   "outputs": [],
   "source": [
    "a = 0;\n",
    "b = 10;\n",
    "N_g = 25;\n",
    "N_ev = 10^7\n",
    "\n",
    "VEGAS_grid = Array{Float64}(undef, N_g + 1, 3);\n",
    "VEGAS_grid_improved = Array{Float64}(undef, N_g + 1, 3);\n",
    "\n",
    "for i = 1:3\n",
    "    VEGAS_grid[:, i] .= collect(LinRange(a, b, N_g + 1))\n",
    "end\n",
    "\n",
    "#Delta_x_i = (b - a) / (N_g);\n",
    "\n",
    "VEGAS_spacing_grid = Array{Float64}(undef, N_g, 3);\n",
    "VEGAS_spacing_grid_improved = Array{Float64}(undef, N_g, 3);\n",
    "\n",
    "#for i = 1:3\n",
    "#    VEGAS_spacing_grid[:, i] .= [Delta_x_i for i = 1:1:N_g]\n",
    "#end\n",
    "\n",
    "for i = 1:3\n",
    "    for j = 1:N_g\n",
    "        VEGAS_spacing_grid[j, i] = VEGAS_grid[j+1, i] - VEGAS_grid[j, i]\n",
    "    end\n",
    "end"
   ]
  },
  {
   "cell_type": "code",
   "execution_count": 24,
   "id": "001dfb0b-a75e-4de1-8b05-67964c3b0a53",
   "metadata": {},
   "outputs": [],
   "source": [
    "VEGAS_grid;"
   ]
  },
  {
   "cell_type": "code",
   "execution_count": 25,
   "id": "54e78058-9630-4643-84f4-82314a9ce05a",
   "metadata": {},
   "outputs": [],
   "source": [
    "VEGAS_spacing_grid;"
   ]
  },
  {
   "cell_type": "markdown",
   "id": "4c82e23d-71a5-48d5-91fc-3d8f2caf3698",
   "metadata": {},
   "source": [
    "The following function provides the map between $X \\in [0,1]$ and $x \\in [a, b]$"
   ]
  },
  {
   "cell_type": "code",
   "execution_count": 22,
   "id": "a8824c7d-edf3-4822-b065-910f96698b6c",
   "metadata": {},
   "outputs": [
    {
     "data": {
      "text/plain": [
       "x (generic function with 1 method)"
      ]
     },
     "execution_count": 22,
     "metadata": {},
     "output_type": "execute_result"
    }
   ],
   "source": [
    "# Returns the VEGAS grid element and the corresponding grid index\n",
    "function x(X, N_g, VEGAS_grid, VEGAS_spacing_grid)\n",
    "\n",
    "    i_X = Int(floor(X * N_g))\n",
    "\n",
    "    delta_X = X * N_g - i_X\n",
    "\n",
    "    if (i_X == N_g)\n",
    "        VEGAS_grid[i_X+1, 1], i_X + 1\n",
    "    else\n",
    "        VEGAS_grid[i_X+1, 1] + VEGAS_spacing_grid[i_X+1, 1] * delta_X, i_X + 1\n",
    "    end\n",
    "\n",
    "end\n",
    "\n",
    "\n",
    "#=\n",
    "function VEGAS_rounding_map_OLD!(draw1, draw2, X, N_g, VEGAS_grid, VEGAS_spacing_grid) \n",
    "    draw1[1] = round(Int64, floor(X*N_g))\n",
    "    #println(draw[1])\n",
    "    draw2[1] = VEGAS_grid[draw1[1]+1]\n",
    "    #println(draw[2])\n",
    "    if (draw[1] != N_g)\n",
    "        draw2[1] += VEGAS_spacing_grid[draw1[1]+1]*(X*N_g - draw1[1])\n",
    "    end\n",
    "end\n",
    "=#"
   ]
  },
  {
   "cell_type": "code",
   "execution_count": 12,
   "id": "81022870-db2f-42f6-bd22-9c7115c9fdaa",
   "metadata": {},
   "outputs": [
    {
     "name": "stdout",
     "output_type": "stream",
     "text": [
      "  0.000004 seconds (1 allocation: 32 bytes)\n"
     ]
    },
    {
     "data": {
      "text/plain": [
       "(10.0, 11)"
      ]
     },
     "execution_count": 12,
     "metadata": {},
     "output_type": "execute_result"
    }
   ],
   "source": [
    "@time x(1, N_g, VEGAS_grid, VEGAS_spacing_grid)"
   ]
  },
  {
   "cell_type": "markdown",
   "id": "27181e59-8056-4c76-93a7-f7e97df79162",
   "metadata": {},
   "source": [
    "The Jacobian for this transformation is easily computed as:\n",
    "\n",
    "$$\n",
    "J(X) = N_g \\Delta x_{i(X)}  ≡ J_{i(X)}\n",
    "$$\n",
    "\n",
    "along each axis. This is a step function, and the values are determined by the interval widths $ \\Delta x_{i} $."
   ]
  },
  {
   "cell_type": "code",
   "execution_count": 5,
   "id": "cd5c6727-c8f7-47fb-a4b9-26ecab64f049",
   "metadata": {},
   "outputs": [],
   "source": [
    "#=\n",
    "function MC_sampling_OLD(x0, y0, z0, N_ev, N_g, VEGAS_grid, VEGAS_spacing_grid)\n",
    "    \n",
    "    draw = Array{Int}(undef, 3);\n",
    "    VEGAS_draw_1 = Array{Int}(undef, 1);\n",
    "    VEGAS_draw_2 = Array{Float64}(undef, 1);\n",
    "    draw_float_sample = Array{Float64}(undef, 1);\n",
    "    Uniform_distribution = Uniform(0, 1);\n",
    "    \n",
    "    result = 0.0\n",
    "   \n",
    "    for i=1:N_ev\n",
    "        \n",
    "          for i = 1:3\n",
    "              # this is X \\in [0,1]\n",
    "              rand!(Uniform_distribution, draw_float_sample)\n",
    "              #println(draw_float_sample[1])\n",
    "            \n",
    "              VEGAS_rounding_map_OLD!(VEGAS_draw_1, VEGAS_draw_2, draw_float_sample[1], N_g, VEGAS_grid, VEGAS_spacing_grid)\n",
    "\n",
    "              draw[i] = round(Int, VEGAS_draw_2[1])\n",
    "          end\n",
    "    \n",
    "        result += exp(-(1/2)*(draw[1] - x0)^2)*exp(-(1/2)*(draw[2] - y0)^2)*exp(-(1/2)*(draw[3] - z0)^2)*sin(draw[1]*draw[2])*cos(draw[3])\n",
    "        \n",
    "    end\n",
    "    \n",
    "    result = result*11^3/N_ev\n",
    "        \n",
    "    return result\n",
    "    \n",
    "end\n",
    "=#"
   ]
  },
  {
   "cell_type": "code",
   "execution_count": 6,
   "id": "dfecb5d1-728b-4d1f-b5a4-dbf2711ee3f4",
   "metadata": {},
   "outputs": [],
   "source": [
    "#@time MC_sampling_OLD(2, 6, 10, N_ev, N_g, VEGAS_grid, VEGAS_spacing_grid)"
   ]
  },
  {
   "cell_type": "markdown",
   "id": "db47f3f9-58d4-4fe1-9cd3-433246fd6fda",
   "metadata": {},
   "source": [
    "### Refining the grid"
   ]
  },
  {
   "cell_type": "markdown",
   "id": "96b7668c-c8dd-4535-b6f8-8ae38c6f8afc",
   "metadata": {},
   "source": [
    "Given some samples $[X, Y, Z]_1 \\dots [X, Y, Z]_N$ and the corresponding Monte Carlo estimate $\\eqref{MC_estimator}$, now I want to estimate the following quantities:"
   ]
  },
  {
   "cell_type": "markdown",
   "id": "d7e090e6-6270-4cd6-bee1-254e1355bd0b",
   "metadata": {},
   "source": [
    "$$\n",
    "d^x_0 = \\frac{1}{n^x_0} \\sum_{x(X) \\in \\Delta x_0} \\left( J \\cdot f(x_0, y_0, z_0, [x(X), y(Y), z(Z)]) \\right)^2\n",
    "$$\n",
    "\n",
    "$$\n",
    "d^x_1 = \\frac{1}{n^x_1} \\sum_{x(X) \\in \\Delta x_1} \\left( J \\cdot f(x_0, y_0, z_0, [x(X), y(Y), z(Z)]) \\right)^2\n",
    "$$\n",
    "\n",
    "$$\n",
    "\\dots\n",
    "$$\n",
    "\n",
    "$$\n",
    "d^x_{N_g-1} = \\frac{1}{n^x_{N_g-1}} \\sum_{x(X) \\in \\Delta x_{N_g-1}}  \\left( J \\cdot f(x_0, y_0, z_0, [x(X), y(Y), z(Z)]) \\right)^2\n",
    "$$\n",
    "\n",
    "etc. $\\textbf{along each axis}$, where $n^x_i \\approx \\frac{N_{ev}}{N_g}$ is the number of samples in interval $\\Delta x_i$.\n",
    "\n",
    "Let's define a matrix:\n",
    "\n",
    "\\begin{align}\n",
    "\\text{VEGAS_d}= \n",
    "\\begin{pmatrix}\n",
    "d_0^x & d_1^x & \\dots & d_{N_g-1}^x \\\\\n",
    "d_0^y & d_1^y & \\dots & d_{N_g-1}^y  \\\\\n",
    "d_0^z & d_1^z & \\dots & d_{N_g-1}^z  \\\\\n",
    "\\end{pmatrix}\n",
    "\\end{align}\n",
    "\n",
    "It is also useful to consider a matrix to take into account the multeplicity:\n",
    "\n",
    "\\begin{align}\n",
    "\\text{VEGAS_d_multeplicity}= \n",
    "\\begin{pmatrix}\n",
    "n_0^x & n_1^x & \\dots & n_{N_g-1}^x \\\\\n",
    "n_0^y & n_1^y & \\dots & n_{N_g-1}^y  \\\\\n",
    "n_0^z & n_1^z & \\dots & n_{N_g-1}^z  \\\\\n",
    "\\end{pmatrix}\n",
    "\\end{align}"
   ]
  },
  {
   "cell_type": "markdown",
   "id": "353d7994-088f-406b-a0ed-4cb84f44147a",
   "metadata": {},
   "source": [
    "Now we can implement the classic VEGAS algorithm. \n",
    "\n",
    "$\\textbf{From now on, I stop describing explicitly all steps since it takes too much time}$"
   ]
  },
  {
   "cell_type": "code",
   "execution_count": 27,
   "id": "e1de5f92-dba5-4192-9e18-9c095e1a2104",
   "metadata": {},
   "outputs": [],
   "source": [
    "VEGAS_d = zeros(3, N_g);\n",
    "\n",
    "Result_estimate = Array{Float64}(undef, 1);"
   ]
  },
  {
   "cell_type": "code",
   "execution_count": 28,
   "id": "6fe04516-7a6e-4d12-b567-8ccbc505cd5e",
   "metadata": {},
   "outputs": [
    {
     "data": {
      "text/plain": [
       "VEGAS_sampling (generic function with 1 method)"
      ]
     },
     "execution_count": 28,
     "metadata": {},
     "output_type": "execute_result"
    }
   ],
   "source": [
    "function VEGAS_sampling(\n",
    "    x0,\n",
    "    y0,\n",
    "    z0,\n",
    "    N_ev,\n",
    "    N_g,\n",
    "    VEGAS_grid,\n",
    "    VEGAS_spacing_grid,\n",
    "    VEGAS_d,\n",
    "    #VEGAS_d_multeplicity,\n",
    "    V,\n",
    "    Result_estimate,\n",
    ")\n",
    "\n",
    "    draw = Array{Int}(undef, 3)\n",
    "    draw_float_sample = Array{Float64}(undef, 1)\n",
    "    Uniform_distribution = Uniform(0, 1)\n",
    "\n",
    "    VEGAS_index_draw = Array{Int}(undef, 3)\n",
    "    VEGAS_d_multeplicity = zeros(3, N_g)\n",
    "    Jacobians = Array{Float64}(undef, 3)\n",
    "    VEGAS_index_draw = Array{Int}(undef, 3)\n",
    "\n",
    "    total_result = 0.0\n",
    "\n",
    "    for n = 1:N_ev\n",
    "\n",
    "        for axis = 1:3\n",
    "            # this is X in [0,1]\n",
    "            rand!(Uniform_distribution, draw_float_sample)\n",
    "            # println(\"The following number X was generated along axis $(axis) between 0 and 1:\")\n",
    "            # println(draw_float_sample[1])\n",
    "\n",
    "            i_X = Int(floor(draw_float_sample[1] * N_g))\n",
    "            delta_X = draw_float_sample[1] * N_g - i_X\n",
    "            VEGAS_index_draw[axis] = i_X + 1\n",
    "\n",
    "            # this is x(X) in [a,b]        \n",
    "            if (i_X == N_g)\n",
    "                draw_float_sample[1] = VEGAS_grid[VEGAS_index_draw[axis], axis]\n",
    "            else\n",
    "                draw_float_sample[1] =\n",
    "                    VEGAS_grid[VEGAS_index_draw[axis], axis] +\n",
    "                    VEGAS_spacing_grid[VEGAS_index_draw[axis], axis] * delta_X\n",
    "            end\n",
    "\n",
    "            #   println(\n",
    "            #       \"The following number x in the grid along axis $(axis) between 0 and 10 is the following\",\n",
    "            #   )\n",
    "            #  println(draw_float_sample[1])\n",
    "\n",
    "            #  println(\n",
    "            #      \"It corresponds to index $(i_X) in the grid, which means index $(VEGAS_index_draw[axis]) in the matrix\",\n",
    "            #  )\n",
    "\n",
    "            Jacobians[axis] = N_g * VEGAS_spacing_grid[VEGAS_index_draw[axis], axis]\n",
    "            #   println(\"This is the Jacobian along axis $(i):\")\n",
    "            #   println(Jacobians[i])\n",
    "\n",
    "            VEGAS_d_multeplicity[axis, VEGAS_index_draw[axis]] += 1\n",
    "            #println(\"This is the multeplicity of VEGAS_d:\")\n",
    "            #println(VEGAS_d_multeplicity)\n",
    "\n",
    "            # we need to round to integers \n",
    "            draw_float_sample[1] = round(Int64, draw_float_sample[1])\n",
    "            draw[axis] = round(Int64, draw_float_sample[1])\n",
    "            #  println(\"The number was rounded to:\")\n",
    "            #  println(draw[axis])\n",
    "            #   println(\" \")\n",
    "        end\n",
    "\n",
    "        # println(\" \")\n",
    "        # println(\" \")\n",
    "        # println(\" \")\n",
    "\n",
    "        result =\n",
    "            exp(-(1 / 2) * (draw[1] - x0)^2) *\n",
    "            exp(-(1 / 2) * (draw[2] - y0)^2) *\n",
    "            exp(-(1 / 2) * (draw[3] - z0)^2) *\n",
    "            sin(draw[1] * draw[2]) *\n",
    "            cos(draw[3]) *\n",
    "            prod(Jacobians)\n",
    "\n",
    "        total_result += result\n",
    "\n",
    "        d_result = result^2\n",
    "\n",
    "        for axis = 1:3\n",
    "            VEGAS_d[axis, VEGAS_index_draw[axis]] += d_result\n",
    "        end\n",
    "\n",
    "    end\n",
    "\n",
    "    # final normalization\n",
    "    for axis = 1:3\n",
    "        for j = 1:N_g\n",
    "            VEGAS_d[axis, j] = VEGAS_d[axis, j] / VEGAS_d_multeplicity[axis, j]\n",
    "        end\n",
    "    end\n",
    "    #VEGAS_d[:] .= VEGAS_d[:] ./ VEGAS_d_multeplicity[:]\n",
    "\n",
    "    total_result *= (V / 10^3) / N_ev\n",
    "\n",
    "    Result_estimate[1] = total_result\n",
    "\n",
    "end\n"
   ]
  },
  {
   "cell_type": "code",
   "execution_count": 30,
   "id": "653745dc-51cb-4c18-8c84-f78d6b12f881",
   "metadata": {},
   "outputs": [
    {
     "name": "stdout",
     "output_type": "stream",
     "text": [
      "  1.022456 seconds (8 allocations: 1.062 KiB)\n"
     ]
    },
    {
     "data": {
      "text/plain": [
       "0.6548089684771637"
      ]
     },
     "execution_count": 30,
     "metadata": {},
     "output_type": "execute_result"
    }
   ],
   "source": [
    "@time VEGAS_sampling(\n",
    "    2,\n",
    "    6,\n",
    "    10,\n",
    "    10^7,\n",
    "    N_g,\n",
    "    VEGAS_grid,\n",
    "    VEGAS_spacing_grid,\n",
    "    VEGAS_d,\n",
    "    #VEGAS_d_multeplicity,\n",
    "    V,\n",
    "    Result_estimate,\n",
    ")"
   ]
  },
  {
   "cell_type": "code",
   "execution_count": 31,
   "id": "ec0ddc81-c754-442b-b529-879bfef060d1",
   "metadata": {},
   "outputs": [
    {
     "data": {
      "text/plain": [
       "1-element Vector{Float64}:\n",
       " 0.6548089684771637"
      ]
     },
     "execution_count": 31,
     "metadata": {},
     "output_type": "execute_result"
    }
   ],
   "source": [
    "Result_estimate"
   ]
  },
  {
   "cell_type": "code",
   "execution_count": 32,
   "id": "beca2827-57ae-47b6-8621-c4d0cb3f2296",
   "metadata": {},
   "outputs": [
    {
     "data": {
      "text/plain": [
       "25-element Vector{Float64}:\n",
       "    0.0\n",
       " 1105.0810810887303\n",
       " 1470.6659673261015\n",
       " 2389.761184213648\n",
       " 5025.972665657154\n",
       " 5199.973246303518\n",
       " 3123.551088836936\n",
       " 2429.8067959795703\n",
       " 1831.5760122151582\n",
       "  142.2873657286985\n",
       "  136.52273051456726\n",
       "   35.93874344376768\n",
       "    0.8680322139218738\n",
       "    0.6555995044018772\n",
       "    0.0012444277497052456\n",
       "    0.0012108119403256682\n",
       "    0.0003080989852559667\n",
       "    1.1394846649169965e-7\n",
       "    8.644449026436092e-8\n",
       "    1.4041542340347224e-12\n",
       "    1.4107918070275705e-12\n",
       "    3.4285569814101634e-13\n",
       "    2.0548121477544333e-18\n",
       "    1.574707407443367e-18\n",
       "    3.8686421808090697e-25"
      ]
     },
     "execution_count": 32,
     "metadata": {},
     "output_type": "execute_result"
    }
   ],
   "source": [
    "VEGAS_d[1, :]"
   ]
  },
  {
   "cell_type": "code",
   "execution_count": 33,
   "id": "418ec312-ae76-46a1-8867-056b53ba7fd4",
   "metadata": {},
   "outputs": [
    {
     "data": {
      "text/plain": [
       "VEGAS_d_smoothing (generic function with 1 method)"
      ]
     },
     "execution_count": 33,
     "metadata": {},
     "output_type": "execute_result"
    }
   ],
   "source": [
    "function VEGAS_d_smoothing(N_g, VEGAS_d)\n",
    "\n",
    "    VEGAS_sum_all_d = vec(sum(VEGAS_d, dims = 1))\n",
    "\n",
    "    for i = 1:3\n",
    "\n",
    "        VEGAS_d[1, i] = (7 * VEGAS_d[1, i] + VEGAS_d[2, i]) / (8 * VEGAS_sum_all_d[i])\n",
    "\n",
    "        for n = 2:(N_g-1)\n",
    "            VEGAS_d[n, i] =\n",
    "                (VEGAS_d[n-1, i] + 6 * VEGAS_d[n, i] + VEGAS_d[n+1, i]) /\n",
    "                (8 * VEGAS_sum_all_d[i])\n",
    "        end\n",
    "\n",
    "        VEGAS_d[N_g, i] =\n",
    "            (VEGAS_d[N_g-1, i] + 7 * VEGAS_d[N_g, i]) / (8 * VEGAS_sum_all_d[i])\n",
    "    end\n",
    "\n",
    "end"
   ]
  },
  {
   "cell_type": "code",
   "execution_count": 34,
   "id": "d47f54e2-bb64-452f-a10e-b00b6c9ea8b1",
   "metadata": {},
   "outputs": [
    {
     "data": {
      "text/plain": [
       "VEGAS_d_compression (generic function with 1 method)"
      ]
     },
     "execution_count": 34,
     "metadata": {},
     "output_type": "execute_result"
    }
   ],
   "source": [
    "function VEGAS_d_compression(N_g, VEGAS_d, alpha)\n",
    "\n",
    "    for i = 1:3\n",
    "        for n = 1:N_g\n",
    "            VEGAS_d[n, i] = ((1 - VEGAS_d[n, i]) / (log(1 / VEGAS_d[n, i])))^(alpha)\n",
    "        end\n",
    "    end\n",
    "\n",
    "end"
   ]
  },
  {
   "cell_type": "code",
   "execution_count": 35,
   "id": "a1ea6852-5938-4ff7-bf9d-8cf1f1b9e7d3",
   "metadata": {},
   "outputs": [
    {
     "data": {
      "text/plain": [
       "VEGAS_grid_refinement (generic function with 1 method)"
      ]
     },
     "execution_count": 35,
     "metadata": {},
     "output_type": "execute_result"
    }
   ],
   "source": [
    "function VEGAS_grid_refinement(\n",
    "    N_g,\n",
    "    VEGAS_d,\n",
    "    VEGAS_grid,\n",
    "    VEGAS_grid_improved,\n",
    "    VEGAS_spacing_grid,\n",
    "    VEGAS_spacing_grid_improved,\n",
    ")\n",
    "\n",
    "    delta_d = Array{Float64}(undef, 3)\n",
    "\n",
    "    VEGAS_sum_all_d = vec(sum(VEGAS_d, dims = 1))\n",
    "\n",
    "    #println(VEGAS_sum_all_d)\n",
    "\n",
    "    delta_d[:] .= VEGAS_sum_all_d[:] ./ N_g\n",
    "\n",
    "    for axis = 1:3\n",
    "\n",
    "        VEGAS_grid_improved[1, axis] = VEGAS_grid[1, axis]\n",
    "        VEGAS_grid_improved[end, axis] = VEGAS_grid[end, axis]\n",
    "\n",
    "        # index of current improved x\n",
    "        i = 0\n",
    "\n",
    "        # index of current old x\n",
    "        j = 0\n",
    "\n",
    "        # amount of d accumulated\n",
    "        S_d = 0\n",
    "\n",
    "        while (true)\n",
    "\n",
    "            i += 1\n",
    "\n",
    "            # CHECK INDEX AT THE END\n",
    "            if (i == N_g)\n",
    "                break\n",
    "            end\n",
    "\n",
    "            while (S_d < delta_d[axis])\n",
    "\n",
    "                S_d += VEGAS_d[j+1, axis]\n",
    "\n",
    "                #  println(S_d)\n",
    "                #  println(delta_d[axis])\n",
    "                #  println(j)\n",
    "\n",
    "                j += 1\n",
    "\n",
    "            end\n",
    "\n",
    "            S_d -= delta_d[axis]\n",
    "\n",
    "            VEGAS_grid_improved[i+1, axis] =\n",
    "                VEGAS_grid[j+1, axis] -\n",
    "                (S_d / VEGAS_d[j, axis]) * VEGAS_spacing_grid[j, axis]\n",
    "\n",
    "        end\n",
    "\n",
    "        for j = 1:N_g\n",
    "            VEGAS_spacing_grid_improved[j, axis] =\n",
    "                VEGAS_grid_improved[j+1, axis] - VEGAS_grid_improved[j, axis]\n",
    "        end\n",
    "\n",
    "    end\n",
    "\n",
    "end"
   ]
  },
  {
   "cell_type": "markdown",
   "id": "e8d4628a-378e-4454-a651-9dba43bc88a7",
   "metadata": {},
   "source": [
    "Notice that it is better to reshape the matrix as:\n",
    "\n",
    "\\begin{align}\n",
    "\\text{VEGAS_d} \\longrightarrow\n",
    "\\begin{pmatrix}\n",
    "d_0^x & d_0^y & d_0^z \\\\\n",
    "d_1^x & d_1^y & d_1^z \\\\\n",
    "\\vdots & \\vdots & \\vdots \\\\\n",
    "d_{N_g-1}^x & d_{N_g-1}^y & d_{N_g-1}^z \\\\\n",
    "\\end{pmatrix}\n",
    "\\end{align}\n",
    "\n",
    "according to julia's convention for data storage"
   ]
  },
  {
   "cell_type": "code",
   "execution_count": 36,
   "id": "5393ca97-bf71-4a7b-b61c-fec6e0b93db0",
   "metadata": {},
   "outputs": [
    {
     "data": {
      "text/plain": [
       "3×25 Matrix{Float64}:\n",
       " 0.0857793   0.169692    0.194852    …  0.0027998  0.00272011  0.00198159\n",
       " 0.00656987  0.00732319  0.0105731      0.0296409  0.0280308   0.0141308\n",
       " 0.0012737   0.00131978  0.00171771     0.320913   0.387738    0.506352"
      ]
     },
     "execution_count": 36,
     "metadata": {},
     "output_type": "execute_result"
    }
   ],
   "source": [
    "VEGAS_d = permutedims(VEGAS_d, (2, 1))\n",
    "\n",
    "VEGAS_d_smoothing(N_g, VEGAS_d)\n",
    "\n",
    "VEGAS_d_compression(N_g, VEGAS_d, 1.5)\n",
    "\n",
    "VEGAS_grid_refinement(\n",
    "    N_g,\n",
    "    VEGAS_d,\n",
    "    VEGAS_grid,\n",
    "    VEGAS_grid_improved,\n",
    "    VEGAS_spacing_grid,\n",
    "    VEGAS_spacing_grid_improved,\n",
    ")\n",
    "\n",
    "VEGAS_d = permutedims(VEGAS_d, (2, 1))"
   ]
  },
  {
   "cell_type": "code",
   "execution_count": 37,
   "id": "7c41d667-da92-410a-835f-113bb56deb92",
   "metadata": {},
   "outputs": [
    {
     "data": {
      "text/plain": [
       "3×25 Matrix{Float64}:\n",
       " 0.0857793   0.169692    0.194852    …  0.0027998  0.00272011  0.00198159\n",
       " 0.00656987  0.00732319  0.0105731      0.0296409  0.0280308   0.0141308\n",
       " 0.0012737   0.00131978  0.00171771     0.320913   0.387738    0.506352"
      ]
     },
     "execution_count": 37,
     "metadata": {},
     "output_type": "execute_result"
    }
   ],
   "source": [
    "VEGAS_d"
   ]
  },
  {
   "cell_type": "code",
   "execution_count": 38,
   "id": "08640b76-874e-46cc-b9c7-414b0715316d",
   "metadata": {},
   "outputs": [
    {
     "data": {
      "text/plain": [
       "26×3 Matrix{Float64}:\n",
       "  0.0        0.0       0.0\n",
       "  0.4266     2.94438   5.90162\n",
       "  0.6554     3.67007   7.02813\n",
       "  0.873328   4.13093   7.84706\n",
       "  1.07258    4.46855   8.19487\n",
       "  1.25575    4.68971   8.41784\n",
       "  1.41037    4.89832   8.52476\n",
       "  1.56499    5.09445   8.63167\n",
       "  1.6874     5.28168   8.73859\n",
       "  1.80038    5.45854   8.83924\n",
       "  1.91337    5.62999   8.93144\n",
       "  2.02679    5.77977   9.02364\n",
       "  2.14163    5.92955   9.11584\n",
       "  2.25648    6.07912   9.20665\n",
       "  2.37132    6.22851   9.28296\n",
       "  2.511      6.3779    9.35927\n",
       "  2.65895    6.53031   9.43558\n",
       "  2.8078     6.68325   9.51189\n",
       "  2.97527    6.83678   9.5882\n",
       "  3.14274    6.99221   9.6494\n",
       "  3.33155    7.14765   9.70783\n",
       "  3.53145    7.32443   9.76627\n",
       "  3.90673    7.51205   9.8247\n",
       "  4.38899    7.90632   9.88313\n",
       "  5.30978    8.53397   9.94157\n",
       " 10.0       10.0      10.0"
      ]
     },
     "execution_count": 38,
     "metadata": {},
     "output_type": "execute_result"
    }
   ],
   "source": [
    "VEGAS_grid_improved"
   ]
  },
  {
   "cell_type": "code",
   "execution_count": 202,
   "id": "a00d4ec8-851c-4ed4-9870-626bcd9d6e0e",
   "metadata": {},
   "outputs": [
    {
     "data": {
      "text/plain": [
       "25×3 Matrix{Float64}:\n",
       " 0.336545  0.835393  0.980221\n",
       " 0.285983  0.749243  0.930431\n",
       " 0.267072  0.688617  0.854636\n",
       " 0.253935  0.600453  0.782713\n",
       " 0.230393  0.48125   0.737113\n",
       " 0.223662  0.417209  0.66083\n",
       " 0.1961    0.374785  0.580321\n",
       " 0.1958    0.331234  0.537165\n",
       " 0.200743  0.284916  0.469047\n",
       " 0.201023  0.271156  0.439551\n",
       " 0.222721  0.263529  0.424139\n",
       " 0.22624   0.254583  0.390244\n",
       " 0.238741  0.241135  0.315877\n",
       " 0.25163   0.238076  0.245034\n",
       " 0.264884  0.238313  0.190232\n",
       " 0.358285  0.238831  0.175224\n",
       " 0.375173  0.239453  0.167305\n",
       " 0.420171  0.243016  0.159456\n",
       " 0.511116  0.248327  0.159456\n",
       " 0.582611  0.273998  0.14285\n",
       " 0.65856   0.365645  0.142745\n",
       " 0.736012  0.423178  0.13941\n",
       " 0.839734  0.470873  0.125332\n",
       " 0.912933  0.570093  0.125332\n",
       " 1.00993   0.656692  0.125332"
      ]
     },
     "execution_count": 202,
     "metadata": {},
     "output_type": "execute_result"
    }
   ],
   "source": [
    "VEGAS_spacing_grid_improved"
   ]
  },
  {
   "cell_type": "markdown",
   "id": "acea7ac5-ff41-43bc-bd30-41ea7f439b87",
   "metadata": {},
   "source": [
    "## Full VEGAS algorithm"
   ]
  },
  {
   "cell_type": "markdown",
   "id": "87383eb5-6f3f-4e30-847a-2e2a18c71a13",
   "metadata": {},
   "source": [
    "Let's try now to write the full algorithm "
   ]
  },
  {
   "cell_type": "markdown",
   "id": "b41609c1-43e6-4ce4-9b6e-c7a7ddfa1d5d",
   "metadata": {},
   "source": [
    "Let's try now to write the full algorithm \n",
    "\n",
    "The list of parameters is the following:\n",
    "\n",
    "- $x_0$, $y_0$ $z_0$: Input numbers of function $F$\n",
    "- $N_g$: Number of elements in the grid\n",
    "- $N_{ev}$: Number of Monte Carlo sample in the grid for each iteration\n",
    "- $N_{it}$: Number of VEGAS iterations (at each iteration the grid improves)\n",
    "- $\\alpha$: Parameter used in the compression phase\n",
    "- $V$: Number of total configurations (used to re-normalize in the discrete case)"
   ]
  },
  {
   "cell_type": "code",
   "execution_count": 273,
   "id": "7e75c60c-f643-4177-a367-fabd2b1d9ae9",
   "metadata": {},
   "outputs": [
    {
     "data": {
      "text/plain": [
       "VEGAS_algorithm (generic function with 1 method)"
      ]
     },
     "execution_count": 273,
     "metadata": {},
     "output_type": "execute_result"
    }
   ],
   "source": [
    "function VEGAS_algorithm(x0, y0, z0, N_g, N_ev, N_it, alpha, V)\n",
    "\n",
    "\n",
    "    VEGAS_grid = Array{Float64}(undef, N_g + 1, 3)\n",
    "    VEGAS_grid_improved = Array{Float64}(undef, N_g + 1, 3)\n",
    "\n",
    "    a = 0\n",
    "    b = 10\n",
    "    for i = 1:3\n",
    "        VEGAS_grid[:, i] .= collect(LinRange(a, b, N_g + 1))\n",
    "    end\n",
    "\n",
    "    VEGAS_spacing_grid = Array{Float64}(undef, N_g, 3)\n",
    "    VEGAS_spacing_grid_improved = Array{Float64}(undef, N_g, 3)\n",
    "\n",
    "    for i = 1:3\n",
    "        for j = 1:N_g\n",
    "            VEGAS_spacing_grid[j, i] = VEGAS_grid[j+1, i] - VEGAS_grid[j, i]\n",
    "        end\n",
    "    end\n",
    "\n",
    "    Result_estimate = Array{Float64}(undef, 1)\n",
    "\n",
    "    for n = 1:N_it\n",
    "\n",
    "        println(\"VEGAS iteration $(n)\")\n",
    "        flush(stdout)\n",
    "\n",
    "        println(\"The current grid along first axis is $(VEGAS_grid[:,1])\")\n",
    "        flush(stdout)\n",
    "\n",
    "        VEGAS_d = zeros(3, N_g)\n",
    "\n",
    "        # populates VEGAS_d and Result_estimate by using current VEGAS_grid and VEGAS_spacing_grid\n",
    "        VEGAS_sampling(\n",
    "            x0,\n",
    "            y0,\n",
    "            z0,\n",
    "            N_ev,\n",
    "            N_g,\n",
    "            VEGAS_grid,\n",
    "            VEGAS_spacing_grid,\n",
    "            VEGAS_d,\n",
    "            V,\n",
    "            Result_estimate,\n",
    "        )\n",
    "\n",
    "        println(\"The current estimate of the sum is $(Result_estimate[1])\")\n",
    "        flush(stdout)\n",
    "\n",
    "        VEGAS_d = permutedims(VEGAS_d, (2, 1))\n",
    "\n",
    "        VEGAS_d_smoothing(N_g, VEGAS_d)\n",
    "\n",
    "        VEGAS_d_compression(N_g, VEGAS_d, alpha)\n",
    "\n",
    "        # refines the grid by using VEGAS_d and the current VEGAS_grid and VEGAS_spacing_grid\n",
    "        VEGAS_grid_refinement(\n",
    "            N_g,\n",
    "            VEGAS_d,\n",
    "            VEGAS_grid,\n",
    "            VEGAS_grid_improved,\n",
    "            VEGAS_spacing_grid,\n",
    "            VEGAS_spacing_grid_improved,\n",
    "        )\n",
    "\n",
    "        VEGAS_d = permutedims(VEGAS_d, (2, 1))\n",
    "\n",
    "        #println(VEGAS_spacing_grid[:, 2])\n",
    "\n",
    "        VEGAS_spacing_grid[:] .= VEGAS_spacing_grid_improved[:]\n",
    "\n",
    "        VEGAS_grid[:] .= VEGAS_grid_improved[:]\n",
    "\n",
    "    end\n",
    "\n",
    "end"
   ]
  },
  {
   "cell_type": "code",
   "execution_count": 274,
   "id": "70d755b3-97c1-46d5-a4a4-78000c6e14e0",
   "metadata": {},
   "outputs": [
    {
     "name": "stdout",
     "output_type": "stream",
     "text": [
      "VEGAS iteration 1\n",
      "The current grid along first axis is [0.0, 0.4, 0.8, 1.2, 1.6, 2.0, 2.4, 2.8000000000000003, 3.2, 3.5999999999999996, 4.0, 4.4, 4.8, 5.2, 5.6000000000000005, 6.0, 6.4, 6.800000000000001, 7.199999999999999, 7.6, 8.0, 8.4, 8.8, 9.200000000000001, 9.6, 10.0]\n",
      "The current estimate of the sum is 0.6205778274187709\n",
      "VEGAS iteration 2\n",
      "The current grid along first axis is [0.0, 0.426981591864192, 0.6563566928150318, 0.8747565810747882, 1.0747675405748005, 1.257851994432361, 1.4125894243598074, 1.5673268542872538, 1.688609506673692, 1.80093726428139, 1.9132650218890879, 2.0262863736193957, 2.1416583442439885, 2.2570303148685813, 2.372402285493174, 2.512488656937732, 2.66034565508087, 2.809295362914235, 2.976849009230441, 3.144402655546647, 3.3332598980499624, 3.5326964769157883, 3.910731229268739, 4.389470433194461, 5.310249392376203, 10.0]\n",
      "The current estimate of the sum is 0.6460667148443591\n",
      "VEGAS iteration 3\n",
      "The current grid along first axis is [0.0, 0.522812885767573, 0.7263156866393318, 0.9122525841390389, 1.0956264254789003, 1.2754534798261679, 1.4346026152380285, 1.568089122656608, 1.6741211508768303, 1.7781917034072976, 1.881893878021811, 1.985511431149104, 2.0895225332402694, 2.1938218992250884, 2.2972198974679987, 2.4020446172424386, 2.5155476506161074, 2.663737388959242, 2.810393262883824, 2.96274198901234, 3.1130186988481077, 3.267830041269194, 3.4357809445220466, 3.7686138508142815, 4.34587866229235, 10.0]\n",
      "The current estimate of the sum is 0.6474831867707914\n",
      "VEGAS iteration 4\n",
      "The current grid along first axis is [0.0, 0.5589949639538525, 0.7435956909624056, 0.9237227711216736, 1.1038797797881903, 1.284900064536619, 1.4509516200125625, 1.5794291654849437, 1.6865435137197198, 1.7931824915549508, 1.8996240337980577, 2.0060657878569095, 2.1126548658152435, 2.2191646446987043, 2.325343485620849, 2.4332445098248887, 2.5570213562146806, 2.7108833846751246, 2.8646214325014516, 3.0191793668890257, 3.1729549092139684, 3.328716823692279, 3.5428467174848413, 3.9557963907070532, 5.798573203320489, 10.0]\n",
      "The current estimate of the sum is 0.643509351423018\n",
      "VEGAS iteration 5\n",
      "The current grid along first axis is [0.0, 0.518205551342918, 0.7236434068871057, 0.9013215840002012, 1.0787271178917128, 1.2576197484920377, 1.429999390129669, 1.5570609161588627, 1.6637917783423182, 1.7671443140011325, 1.8705667326857705, 1.973927421173638, 2.0772597130304065, 2.180553808737494, 2.2835803687701723, 2.38690696679469, 2.499831398949926, 2.638010572324826, 2.7921738015115767, 2.9465405636668454, 3.1007738759636356, 3.2527741888321344, 3.421529545491928, 3.713749699346264, 4.6527386553932875, 10.0]\n",
      "The current estimate of the sum is 0.6449375280916849\n",
      "VEGAS iteration 6\n",
      "The current grid along first axis is [0.0, 0.5598176751767805, 0.7403283432997485, 0.9139515499612914, 1.087416538638372, 1.2620741163032958, 1.4332613660692377, 1.5595289512361679, 1.6631280937126414, 1.7654237575116403, 1.8677000688801995, 1.9699183141173338, 2.072178449808476, 2.1745172397718484, 2.2769923088549198, 2.378225054844488, 2.4838500649874264, 2.6229120913391286, 2.7732439176177084, 2.924705205323606, 3.076039390516605, 3.224564332575306, 3.377568161075892, 3.612532780038389, 4.205469650957316, 10.0]\n",
      "The current estimate of the sum is 0.6472314157868034\n",
      "VEGAS iteration 7\n",
      "The current grid along first axis is [0.0, 0.53692464380634, 0.7367326811574261, 0.9187443489366905, 1.1004879009517416, 1.2827783061735254, 1.455546069074197, 1.582800291377983, 1.6907049933022962, 1.798232461177527, 1.9056509227603942, 2.0131690416253942, 2.1205991099084547, 2.2282352674202066, 2.3355126415701637, 2.4434858666093207, 2.576732463513943, 2.7314816639533674, 2.889720261108128, 3.0484524014610366, 3.2060444241909094, 3.3625452362539914, 3.5813830856320195, 4.093264509452152, 6.778741365920199, 10.0]\n",
      "The current estimate of the sum is 0.6465418121784816\n",
      "VEGAS iteration 8\n",
      "The current grid along first axis is [0.0, 0.5499363090238327, 0.7335583554801617, 0.9116691881191896, 1.0892185683174354, 1.268209049546936, 1.4425994050862663, 1.5669828569383155, 1.6735931339548742, 1.7777465065534572, 1.8821298692954218, 1.9865075198332136, 2.0908493703926947, 2.1952171832868883, 2.2994326570458004, 2.4036573164303916, 2.5225047747477283, 2.6660344322478595, 2.821878154695148, 2.978408300008881, 3.1348588906512322, 3.289662489997338, 3.470402192611926, 3.834332390648518, 5.143316667188187, 10.0]\n",
      "The current estimate of the sum is 0.6465174745141925\n",
      "VEGAS iteration 9\n",
      "The current grid along first axis is [0.0, 0.536513496856153, 0.7226000763783774, 0.8982446882642213, 1.0736851763985718, 1.249745608724561, 1.4241955284963483, 1.5527213618201887, 1.6589579645834007, 1.7622386903364264, 1.8655233641486508, 1.9688508446472537, 2.0722117362384544, 2.175464454805444, 2.278693715896442, 2.3811006633822815, 2.4912592179167032, 2.6302462353750937, 2.782715695657148, 2.9363662901608953, 3.0901263281359217, 3.2414410571028114, 3.400032922691592, 3.683605529283053, 4.461820868039314, 10.0]\n",
      "The current estimate of the sum is 0.6449383973391567\n",
      "VEGAS iteration 10\n",
      "The current grid along first axis is [0.0, 0.5521442301824273, 0.7305941944418605, 0.9057216576034705, 1.0807897992478024, 1.25636706586147, 1.4298900534817816, 1.5592230822999782, 1.6642095838766977, 1.7681326393536039, 1.8720647218308344, 1.9759768241686955, 2.079888495431143, 2.183891019105548, 2.2878876639409484, 2.391176495568848, 2.5001975065400197, 2.64545633629859, 2.797846604482448, 2.9504993971282514, 3.103451819252054, 3.2549204439726847, 3.4109819213051815, 3.6624922887488935, 4.327718967364278, 10.0]\n",
      "The current estimate of the sum is 0.6442557409315602\n"
     ]
    }
   ],
   "source": [
    "VEGAS_algorithm(2, 6, 10, 25, 10^7, 10, 1.5, V)"
   ]
  },
  {
   "cell_type": "code",
   "execution_count": null,
   "id": "15ef4f1a-7982-4121-9593-766aef58a8eb",
   "metadata": {},
   "outputs": [],
   "source": []
  }
 ],
 "metadata": {
  "kernelspec": {
   "display_name": "Julia 1.7.2",
   "language": "julia",
   "name": "julia-1.7"
  },
  "language_info": {
   "file_extension": ".jl",
   "mimetype": "application/julia",
   "name": "julia",
   "version": "1.7.2"
  }
 },
 "nbformat": 4,
 "nbformat_minor": 5
}
