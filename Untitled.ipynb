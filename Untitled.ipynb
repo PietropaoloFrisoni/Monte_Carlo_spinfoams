{
 "cells": [
  {
   "cell_type": "code",
   "execution_count": 1,
   "id": "1e53c649-9965-4871-898a-ff760b305449",
   "metadata": {},
   "outputs": [],
   "source": [
    "using Random, HalfIntegers, Distributions, SL2Cfoam"
   ]
  },
  {
   "cell_type": "code",
   "execution_count": 2,
   "id": "a1ad26d3-06fd-4567-83fa-9716ae788a60",
   "metadata": {},
   "outputs": [
    {
     "data": {
      "text/plain": [
       "1-element Vector{Function}:\n",
       " format_current_cell (generic function with 1 method)"
      ]
     },
     "execution_count": 2,
     "metadata": {},
     "output_type": "execute_result"
    }
   ],
   "source": [
    "using JupyterFormatter\n",
    "enable_autoformat()"
   ]
  },
  {
   "cell_type": "code",
   "execution_count": 14,
   "id": "1c90ebc6-7e64-457a-a624-f8fca180dac3",
   "metadata": {},
   "outputs": [
    {
     "data": {
      "text/plain": [
       "funza (generic function with 1 method)"
      ]
     },
     "execution_count": 14,
     "metadata": {},
     "output_type": "execute_result"
    }
   ],
   "source": [
    "function funza()\n",
    "\n",
    "    draw_float_sample = Array{Float64}(undef, 1)\n",
    "    spins_draw = Array{HalfInt8}(undef, 6)\n",
    "\n",
    "    step = onehalf = half(1)\n",
    "    jb = half(1)\n",
    "\n",
    "    ampls = Float64[]\n",
    "\n",
    "    # loop over partial cutoffs\n",
    "    for pcutoff = step:step:20\n",
    "\n",
    "        Uniform_distribution = Uniform(0, pcutoff)\n",
    "\n",
    "        while true\n",
    "\n",
    "            # sampling j23, j24, j25 for the draw [j23, j24, j25, jb]\n",
    "            while true\n",
    "\n",
    "                for i = 1:3\n",
    "                    rand!(Uniform_distribution, draw_float_sample)\n",
    "                    draw_float_sample[1] = round(Int64, 2 * draw_float_sample[1])\n",
    "                    spins_draw[i] = half(draw_float_sample[1])\n",
    "                end\n",
    "\n",
    "                r, _ = intertwiner_range(spins_draw[1], spins_draw[2], spins_draw[3], jb)\n",
    "                isempty(r) || break\n",
    "\n",
    "            end\n",
    "\n",
    "            # sampling j34, j35 for the draw [j34, j35, jb, j23]\n",
    "            while true\n",
    "\n",
    "                for i = 4:5\n",
    "                    rand!(Uniform_distribution, draw_float_sample)\n",
    "                    draw_float_sample[1] = round(Int64, 2 * draw_float_sample[1])\n",
    "                    spins_draw[i] = half(draw_float_sample[1])\n",
    "                end\n",
    "\n",
    "                r, _ = intertwiner_range(spins_draw[4], spins_draw[5], jb, spins_draw[1])\n",
    "                isempty(r) || break\n",
    "\n",
    "            end\n",
    "\n",
    "\n",
    "            # sampling j45 for the draw [j45, jb, j24, j34]\n",
    "            while true\n",
    "\n",
    "                for i = 6:6\n",
    "                    rand!(Uniform_distribution, draw_float_sample)\n",
    "                    draw_float_sample[1] = round(Int64, 2 * draw_float_sample[1])\n",
    "                    spins_draw[i] = half(draw_float_sample[1])\n",
    "                end\n",
    "\n",
    "                r, _ = intertwiner_range(spins_draw[6], jb, spins_draw[2], spins_draw[4])\n",
    "                isempty(r) || break\n",
    "\n",
    "            end\n",
    "\n",
    "            final_test_1 = false\n",
    "\n",
    "            # check that draw [jb, j25, j35, j45] satisfies triangular inequalities\n",
    "            r, _ = intertwiner_range(jb, spins_draw[3], spins_draw[5], spins_draw[6])\n",
    "            if (!isempty(r))\n",
    "                final_test_1 = true\n",
    "            end\n",
    "\n",
    "            final_test_2 = false\n",
    "\n",
    "            # check that at least one spin is equal to pcutoff \n",
    "            for i = 1:6\n",
    "                if (spins_draw[i] == pcutoff)\n",
    "                    final_test_2 = true\n",
    "                end\n",
    "            end\n",
    "\n",
    "            if (final_test_1 == true && final_test_2 == true)\n",
    "                break\n",
    "            end\n",
    "\n",
    "        end\n",
    "\n",
    "        #println(spins_draw)\n",
    "\n",
    "    end\n",
    "\n",
    "end"
   ]
  },
  {
   "cell_type": "code",
   "execution_count": 29,
   "id": "081063a4-a764-468c-a20e-9a42116e75c6",
   "metadata": {},
   "outputs": [
    {
     "name": "stdout",
     "output_type": "stream",
     "text": [
      "  0.000153 seconds (3 allocations: 192 bytes)\n"
     ]
    }
   ],
   "source": [
    "@time funza()"
   ]
  },
  {
   "cell_type": "code",
   "execution_count": 13,
   "id": "98859e72-e506-40c4-8b41-9eea6282326d",
   "metadata": {},
   "outputs": [
    {
     "data": {
      "text/plain": [
       "spin_range! (generic function with 1 method)"
      ]
     },
     "execution_count": 13,
     "metadata": {},
     "output_type": "execute_result"
    }
   ],
   "source": [
    "# This function receives 3 spins and set the range bounds for the remaining spins, for which there's at least 1 possible intertwiner\n",
    "\n",
    "function spin_range!(a::Spin, b::Spin, c::Spin, range)\n",
    "\n",
    "    if (a == 0)\n",
    "        if (b == 0)\n",
    "            if (c == 0)\n",
    "                range[1] = 0\n",
    "                range[2] = 0\n",
    "                return 0\n",
    "            else # c > 0\n",
    "                range[1] = c\n",
    "                range[2] = c\n",
    "            end # if on c\n",
    "        else # b > 0\n",
    "            if (c == 0)\n",
    "                range[1] = b\n",
    "                range[2] = b\n",
    "                return 0\n",
    "            end # if (c == 0)\n",
    "            if (c < b)\n",
    "                range[1] = b - c\n",
    "                range[2] = b + c\n",
    "                return 0\n",
    "            end # if (c < b)\n",
    "            if (c == b)\n",
    "                range[1] = 0\n",
    "                range[2] = 2b\n",
    "                return 0\n",
    "            end # if (c == b)\n",
    "            if (c > b)\n",
    "                range[1] = c - b\n",
    "                range[2] = c + b\n",
    "                return 0\n",
    "            end # if (c > b)\n",
    "        end # if on b\n",
    "    else # a > 0\n",
    "        if (b == 0)\n",
    "            if (c == 0)\n",
    "                range[1] = a\n",
    "                range[2] = a\n",
    "                return 0\n",
    "            end # if (c == 0)\n",
    "            if (c < a)\n",
    "                range[1] = a - c\n",
    "                range[2] = a + c\n",
    "                return 0\n",
    "            end # if (c < a)\n",
    "            if (c == a)\n",
    "                range[1] = 0\n",
    "                range[2] = 2a\n",
    "                return 0\n",
    "            end # if (c == a)\n",
    "            if (c > a)\n",
    "                range[1] = c - a\n",
    "                range[2] = c + a\n",
    "                return 0\n",
    "            end # if (c > a)\n",
    "        end # if (b == 0)\n",
    "        if (b < a)\n",
    "            if (c < (a - b))\n",
    "                range[1] = a - b - c\n",
    "                range[2] = a + b + c\n",
    "                return 0\n",
    "            end # if (c < (a-b))\n",
    "            if (c <= (a + b))\n",
    "                range[1] = 0\n",
    "                range[2] = a + b + c\n",
    "                return 0\n",
    "            end # if (c <= (a+b))\n",
    "            if (c > (a + b))\n",
    "                range[1] = -a - b + c\n",
    "                range[2] = a + b + c\n",
    "                return 0\n",
    "            end # if (c > (a+b))\n",
    "        end # if (b < a)\n",
    "        if (b == a)\n",
    "            if (c <= 2a)\n",
    "                range[1] = 0\n",
    "                range[2] = 2a + c\n",
    "                return 0\n",
    "            end # if (c <= 2a)\n",
    "            if (c > 2a)\n",
    "                range[1] = c - 2a\n",
    "                range[2] = c + 2a\n",
    "                return 0\n",
    "            end # if (c > 2a)\n",
    "        end # if (b == a) \n",
    "        if (b > a)\n",
    "            if (c < (b - a))\n",
    "                range[1] = -a + b - c\n",
    "                range[2] = a + b + c\n",
    "                return 0\n",
    "            end # if (c < (b-a))\n",
    "            if (c <= (a + b))\n",
    "                range[1] = 0\n",
    "                range[2] = a + b + c\n",
    "                return 0\n",
    "            end # if (c <= (a+b))\n",
    "            if (c > (a + b))\n",
    "                range[1] = -a - b + c\n",
    "                range[2] = a + b + c\n",
    "                return 0\n",
    "            end # if (c > (a+b))\n",
    "        end # if (b > a)\n",
    "    end # if on a\n",
    "\n",
    "end"
   ]
  },
  {
   "cell_type": "code",
   "execution_count": 14,
   "id": "4162c4c8-c5e8-4d49-8ee4-a6021799ee0b",
   "metadata": {},
   "outputs": [
    {
     "data": {
      "text/plain": [
       "log (generic function with 1 method)"
      ]
     },
     "execution_count": 14,
     "metadata": {},
     "output_type": "execute_result"
    }
   ],
   "source": [
    "# logging function (flushing needed)\n",
    "function log(x...)\n",
    "\n",
    "    println(\"[ \", now(), \" ] - \", join(x, \" \")...)\n",
    "    flush(stdout)\n",
    "\n",
    "end"
   ]
  },
  {
   "cell_type": "code",
   "execution_count": 27,
   "id": "2ecefbfa-4ede-4d61-ae95-b15fded60b22",
   "metadata": {},
   "outputs": [
    {
     "data": {
      "text/plain": [
       "0"
      ]
     },
     "execution_count": 27,
     "metadata": {},
     "output_type": "execute_result"
    }
   ],
   "source": [
    "range = Vector{HalfInt8}(undef, 2)\n",
    "\n",
    "spin_range!(half(18), half(2), 30, range)"
   ]
  },
  {
   "cell_type": "code",
   "execution_count": 28,
   "id": "dbc84a0e-245a-4f68-afb3-afc1bd6f6f0a",
   "metadata": {},
   "outputs": [
    {
     "data": {
      "text/plain": [
       "2-element Vector{HalfInt8}:\n",
       " 20\n",
       " 40"
      ]
     },
     "execution_count": 28,
     "metadata": {},
     "output_type": "execute_result"
    }
   ],
   "source": [
    "range"
   ]
  },
  {
   "cell_type": "code",
   "execution_count": null,
   "id": "1a69eea3-21ba-4c0d-8b8e-d71adcdb6f37",
   "metadata": {},
   "outputs": [],
   "source": []
  }
 ],
 "metadata": {
  "kernelspec": {
   "display_name": "Julia 1.7.2",
   "language": "julia",
   "name": "julia-1.7"
  },
  "language_info": {
   "file_extension": ".jl",
   "mimetype": "application/julia",
   "name": "julia",
   "version": "1.7.2"
  }
 },
 "nbformat": 4,
 "nbformat_minor": 5
}
