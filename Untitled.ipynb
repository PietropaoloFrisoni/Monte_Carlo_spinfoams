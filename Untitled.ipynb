{
 "cells": [
  {
   "cell_type": "code",
   "execution_count": 1,
   "id": "1e53c649-9965-4871-898a-ff760b305449",
   "metadata": {},
   "outputs": [],
   "source": [
    "using Random, HalfIntegers, Distributions, SL2Cfoam"
   ]
  },
  {
   "cell_type": "code",
   "execution_count": 2,
   "id": "a1ad26d3-06fd-4567-83fa-9716ae788a60",
   "metadata": {},
   "outputs": [
    {
     "data": {
      "text/plain": [
       "1-element Vector{Function}:\n",
       " format_current_cell (generic function with 1 method)"
      ]
     },
     "execution_count": 2,
     "metadata": {},
     "output_type": "execute_result"
    }
   ],
   "source": [
    "using JupyterFormatter\n",
    "enable_autoformat()"
   ]
  },
  {
   "cell_type": "code",
   "execution_count": 14,
   "id": "1c90ebc6-7e64-457a-a624-f8fca180dac3",
   "metadata": {},
   "outputs": [
    {
     "data": {
      "text/plain": [
       "funza (generic function with 1 method)"
      ]
     },
     "execution_count": 14,
     "metadata": {},
     "output_type": "execute_result"
    }
   ],
   "source": [
    "function funza()\n",
    "\n",
    "    draw_float_sample = Array{Float64}(undef, 1)\n",
    "    spins_draw = Array{HalfInt8}(undef, 6)\n",
    "\n",
    "    step = onehalf = half(1)\n",
    "    jb = half(1)\n",
    "\n",
    "    ampls = Float64[]\n",
    "\n",
    "    # loop over partial cutoffs\n",
    "    for pcutoff = step:step:20\n",
    "\n",
    "        Uniform_distribution = Uniform(0, pcutoff)\n",
    "\n",
    "        while true\n",
    "\n",
    "            # sampling j23, j24, j25 for the draw [j23, j24, j25, jb]\n",
    "            while true\n",
    "\n",
    "                for i = 1:3\n",
    "                    rand!(Uniform_distribution, draw_float_sample)\n",
    "                    draw_float_sample[1] = round(Int64, 2 * draw_float_sample[1])\n",
    "                    spins_draw[i] = half(draw_float_sample[1])\n",
    "                end\n",
    "\n",
    "                r, _ = intertwiner_range(spins_draw[1], spins_draw[2], spins_draw[3], jb)\n",
    "                isempty(r) || break\n",
    "\n",
    "            end\n",
    "\n",
    "            # sampling j34, j35 for the draw [j34, j35, jb, j23]\n",
    "            while true\n",
    "\n",
    "                for i = 4:5\n",
    "                    rand!(Uniform_distribution, draw_float_sample)\n",
    "                    draw_float_sample[1] = round(Int64, 2 * draw_float_sample[1])\n",
    "                    spins_draw[i] = half(draw_float_sample[1])\n",
    "                end\n",
    "\n",
    "                r, _ = intertwiner_range(spins_draw[4], spins_draw[5], jb, spins_draw[1])\n",
    "                isempty(r) || break\n",
    "\n",
    "            end\n",
    "\n",
    "\n",
    "            # sampling j45 for the draw [j45, jb, j24, j34]\n",
    "            while true\n",
    "\n",
    "                for i = 6:6\n",
    "                    rand!(Uniform_distribution, draw_float_sample)\n",
    "                    draw_float_sample[1] = round(Int64, 2 * draw_float_sample[1])\n",
    "                    spins_draw[i] = half(draw_float_sample[1])\n",
    "                end\n",
    "\n",
    "                r, _ = intertwiner_range(spins_draw[6], jb, spins_draw[2], spins_draw[4])\n",
    "                isempty(r) || break\n",
    "\n",
    "            end\n",
    "\n",
    "            final_test_1 = false\n",
    "\n",
    "            # check that draw [jb, j25, j35, j45] satisfies triangular inequalities\n",
    "            r, _ = intertwiner_range(jb, spins_draw[3], spins_draw[5], spins_draw[6])\n",
    "            if (!isempty(r))\n",
    "                final_test_1 = true\n",
    "            end\n",
    "\n",
    "            final_test_2 = false\n",
    "\n",
    "            # check that at least one spin is equal to pcutoff \n",
    "            for i = 1:6\n",
    "                if (spins_draw[i] == pcutoff)\n",
    "                    final_test_2 = true\n",
    "                end\n",
    "            end\n",
    "\n",
    "            if (final_test_1 == true && final_test_2 == true)\n",
    "                break\n",
    "            end\n",
    "\n",
    "        end\n",
    "\n",
    "        #println(spins_draw)\n",
    "\n",
    "    end\n",
    "\n",
    "end"
   ]
  },
  {
   "cell_type": "code",
   "execution_count": 29,
   "id": "081063a4-a764-468c-a20e-9a42116e75c6",
   "metadata": {},
   "outputs": [
    {
     "name": "stdout",
     "output_type": "stream",
     "text": [
      "  0.000153 seconds (3 allocations: 192 bytes)\n"
     ]
    }
   ],
   "source": [
    "@time funza()"
   ]
  },
  {
   "cell_type": "code",
   "execution_count": null,
   "id": "98859e72-e506-40c4-8b41-9eea6282326d",
   "metadata": {},
   "outputs": [],
   "source": []
  }
 ],
 "metadata": {
  "kernelspec": {
   "display_name": "Julia 1.7.2",
   "language": "julia",
   "name": "julia-1.7"
  },
  "language_info": {
   "file_extension": ".jl",
   "mimetype": "application/julia",
   "name": "julia",
   "version": "1.7.2"
  }
 },
 "nbformat": 4,
 "nbformat_minor": 5
}
