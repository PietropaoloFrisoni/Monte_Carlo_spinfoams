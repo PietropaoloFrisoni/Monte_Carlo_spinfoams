{
 "cells": [
  {
   "cell_type": "markdown",
   "id": "66fea05f-7846-4b98-9445-073dfad3d127",
   "metadata": {},
   "source": [
    "# Testing a single range "
   ]
  },
  {
   "cell_type": "markdown",
   "id": "69c86382",
   "metadata": {},
   "source": [
    "Single range function "
   ]
  },
  {
   "cell_type": "code",
   "execution_count": 1,
   "id": "c4afacad",
   "metadata": {},
   "outputs": [],
   "source": [
    "using HalfIntegers"
   ]
  },
  {
   "cell_type": "markdown",
   "id": "f7e10e5b",
   "metadata": {},
   "source": [
    "$$ a\\otimes b = |a-b| \\oplus \\cdots \\oplus a+b$$\n",
    "\n",
    "\n",
    "$$ a\\otimes b \\otimes c = |a-b| \\otimes c \\oplus \\cdots \\oplus (a+b) \\otimes c =  \\cdots \\oplus  (a+b +c)$$\n",
    "\n",
    "$$ 1\\otimes 1 \\otimes c = (0 \\otimes c) \\oplus (1 \\otimes c) \\oplus (2 \\otimes c)$$\n",
    "\n",
    "$$ 1\\otimes 1 \\otimes 1 = (0 \\otimes 1) \\oplus (1 \\otimes 1) \\oplus (2 \\otimes 1)$$\n",
    "\n",
    "\n",
    "$$ 1\\otimes 1 \\otimes 1 = 1 \\oplus (0 \\oplus 1 \\oplus 2) \\oplus (1 \\oplus 2 \\oplus 3)$$"
   ]
  },
  {
   "cell_type": "code",
   "execution_count": 2,
   "id": "aee5d3d8-77f6-4fb9-af80-f26b8c83e19f",
   "metadata": {},
   "outputs": [
    {
     "data": {
      "text/plain": [
       "min_spin (generic function with 1 method)"
      ]
     },
     "execution_count": 2,
     "metadata": {},
     "output_type": "execute_result"
    }
   ],
   "source": [
    "function min_spin(a, b, c)\n",
    "    neg_min_spin = abs(a-b)-c\n",
    "    # if the min spins is a halfinteger the 4th spins also has to be a half integer,\n",
    "    # therefore if any the min possible spin is 1/2 otherwise is 0\n",
    "    natural_min_spin = mod(2*neg_min_spin, 2) == 1 ? half(1) : 0\n",
    "    #if negative means that the min value of the spin such that an intertwiner exists comes from a higher tensor product\n",
    "    # maybe it is necessary to do a check here\n",
    "    max(neg_min_spin,natural_min_spin)\n",
    "end"
   ]
  },
  {
   "cell_type": "code",
   "execution_count": 3,
   "id": "3fa9e89b",
   "metadata": {},
   "outputs": [
    {
     "data": {
      "text/plain": [
       "max_spin (generic function with 1 method)"
      ]
     },
     "execution_count": 3,
     "metadata": {},
     "output_type": "execute_result"
    }
   ],
   "source": [
    "function max_spin(a, b, c)\n",
    "    a+b+c\n",
    "end"
   ]
  },
  {
   "cell_type": "code",
   "execution_count": 4,
   "id": "2ae21be3",
   "metadata": {},
   "outputs": [
    {
     "data": {
      "text/plain": [
       "1"
      ]
     },
     "execution_count": 4,
     "metadata": {},
     "output_type": "execute_result"
    }
   ],
   "source": [
    "jb = half(1)\n",
    "j23 = 2\n",
    "j24 = 3\n",
    "j35 = 1\n",
    "j45 = 1"
   ]
  },
  {
   "cell_type": "code",
   "execution_count": 5,
   "id": "19fdd7bc",
   "metadata": {},
   "outputs": [
    {
     "data": {
      "text/plain": [
       "1/2:5/2"
      ]
     },
     "execution_count": 5,
     "metadata": {},
     "output_type": "execute_result"
    }
   ],
   "source": [
    "j25min = maximum([min_spin(j23,j24,jb),min_spin(j35,j45,jb)])\n",
    "j25max = minimum([max_spin(j23,j24,jb),max_spin(j35,j45,jb)])\n",
    "j25min:j25max"
   ]
  },
  {
   "cell_type": "code",
   "execution_count": 6,
   "id": "c4728f0c",
   "metadata": {},
   "outputs": [
    {
     "data": {
      "text/plain": [
       "3/2:7/2"
      ]
     },
     "execution_count": 6,
     "metadata": {},
     "output_type": "execute_result"
    }
   ],
   "source": [
    "j34min = maximum([min_spin(j23,j35,jb),min_spin(j24,j45,jb)])\n",
    "j34max = minimum([max_spin(j23,j35,jb),max_spin(j24,j45,jb)])\n",
    "j34min:j34max"
   ]
  },
  {
   "cell_type": "markdown",
   "id": "7f9bccf1",
   "metadata": {},
   "source": [
    "The idea is to find a way to map the possible intervals into the integer line"
   ]
  },
  {
   "cell_type": "code",
   "execution_count": null,
   "id": "3e4a6688",
   "metadata": {},
   "outputs": [],
   "source": []
  },
  {
   "cell_type": "markdown",
   "id": "d0cfa10e-b44e-43bd-9230-9d7e62f87ebc",
   "metadata": {},
   "source": [
    "## Ranges self-energy"
   ]
  },
  {
   "cell_type": "code",
   "execution_count": 7,
   "id": "abac50c8",
   "metadata": {},
   "outputs": [],
   "source": [
    "using SL2Cfoam"
   ]
  },
  {
   "cell_type": "code",
   "execution_count": 12,
   "id": "cc14eab8-80a6-4d2b-a27d-a6165fcc1326",
   "metadata": {},
   "outputs": [],
   "source": [
    "# set boundary\n",
    "step = onehalf = half(1)\n",
    "jb = half(1)\n",
    "\n",
    "pcutoff = half(1)\n",
    "\n",
    "\n",
    "# generate a list of all spins to compute\n",
    "spins_all = NTuple{6,HalfInt}[]\n",
    "for j23::HalfInt = 0:onehalf:pcutoff, j24::HalfInt = 0:onehalf:pcutoff, j25::HalfInt = 0:onehalf:pcutoff,\n",
    "    j34::HalfInt = 0:onehalf:pcutoff, j35::HalfInt = 0:onehalf:pcutoff, j45::HalfInt = 0:onehalf:pcutoff\n",
    "\n",
    "    # skip if any intertwiner range empty\n",
    "    r2, _ = intertwiner_range(jb, j25, j24, j23)\n",
    "    r3, _ = intertwiner_range(j23, jb, j34, j35)\n",
    "    r4, _ = intertwiner_range(j34, j24, jb, j45)\n",
    "    r5, _ = intertwiner_range(j45, j35, j25, jb)\n",
    "\n",
    "    isempty(r2) && continue\n",
    "    isempty(r3) && continue\n",
    "    isempty(r4) && continue\n",
    "    isempty(r5) && continue\n",
    "\n",
    "    # must be computed\n",
    "    push!(spins_all, (j23, j24, j25, j34, j35, j45))\n",
    "\n",
    "end"
   ]
  },
  {
   "cell_type": "code",
   "execution_count": 13,
   "id": "70394a81",
   "metadata": {},
   "outputs": [
    {
     "data": {
      "text/plain": [
       "8-element Vector{NTuple{6, Half{Int64}}}:\n",
       " (0, 0, 1/2, 0, 1/2, 1/2)\n",
       " (0, 0, 1/2, 1/2, 0, 0)\n",
       " (0, 1/2, 0, 0, 1/2, 0)\n",
       " (0, 1/2, 0, 1/2, 0, 1/2)\n",
       " (1/2, 0, 0, 0, 0, 1/2)\n",
       " (1/2, 0, 0, 1/2, 1/2, 0)\n",
       " (1/2, 1/2, 1/2, 0, 0, 0)\n",
       " (1/2, 1/2, 1/2, 1/2, 1/2, 1/2)"
      ]
     },
     "execution_count": 13,
     "metadata": {},
     "output_type": "execute_result"
    }
   ],
   "source": [
    "spins_all"
   ]
  },
  {
   "cell_type": "code",
   "execution_count": 21,
   "id": "baac9406-c55c-455e-a884-b977ffcfce14",
   "metadata": {},
   "outputs": [
    {
     "name": "stdout",
     "output_type": "stream",
     "text": [
      "1/2 1/2\n",
      "1/2 1/2\n",
      "1/2 1/2\n",
      "1/2 1/2\n",
      "1/2 1/2\n",
      "0 1/2\n",
      "0 1/2\n",
      "1/2 1/2\n",
      "1/2 1/2\n",
      "0 1/2\n",
      "0 1/2\n",
      "1/2 1/2\n",
      "1/2 1/2\n",
      "1/2 1/2\n",
      "1/2 1/2\n",
      "1/2 1/2\n"
     ]
    }
   ],
   "source": [
    "# generate a list of all spins to compute\n",
    "spins_all_range = NTuple{6,HalfInt}[]\n",
    "for j23::HalfInt = 0:onehalf:pcutoff, j24::HalfInt = 0:onehalf:pcutoff,j35::HalfInt = 0:onehalf:pcutoff, j45::HalfInt = 0:onehalf:pcutoff\n",
    "\n",
    "    j25min = maximum([min_spin(j23,j24,jb),min_spin(j35,j45,jb)])\n",
    "    j25max = minimum([max_spin(j23,j24,jb),max_spin(j35,j45,jb),pcutoff])\n",
    "    \n",
    "    j34min = maximum([min_spin(j23,j35,jb),min_spin(j24,j45,jb)])\n",
    "    j34max = minimum([max_spin(j23,j35,jb),max_spin(j24,j45,jb),pcutoff])\n",
    "    \n",
    "    println(j25min,\" \",j25max)\n",
    "    \n",
    "    for j25::HalfInt = j25min:j25max, j34::HalfInt = j34min:j34max \n",
    "        push!(spins_all_range, (j23, j24, j25, j34, j35, j45))\n",
    "    end\n",
    "\n",
    "end"
   ]
  },
  {
   "cell_type": "code",
   "execution_count": 19,
   "id": "2f8b7a8b-4a60-444d-9e14-66087e13ed75",
   "metadata": {},
   "outputs": [
    {
     "data": {
      "text/plain": [
       "16-element Vector{NTuple{6, Half{Int64}}}:\n",
       " (0, 0, 1/2, 1/2, 0, 0)\n",
       " (0, 0, 1/2, 1/2, 0, 1/2)\n",
       " (0, 0, 1/2, 1/2, 1/2, 0)\n",
       " (0, 0, 1/2, 0, 1/2, 1/2)\n",
       " (0, 1/2, 1/2, 1/2, 0, 0)\n",
       " (0, 1/2, 0, 1/2, 0, 1/2)\n",
       " (0, 1/2, 0, 0, 1/2, 0)\n",
       " (0, 1/2, 1/2, 1/2, 1/2, 1/2)\n",
       " (1/2, 0, 1/2, 1/2, 0, 0)\n",
       " (1/2, 0, 0, 0, 0, 1/2)\n",
       " (1/2, 0, 0, 1/2, 1/2, 0)\n",
       " (1/2, 0, 1/2, 1/2, 1/2, 1/2)\n",
       " (1/2, 1/2, 1/2, 0, 0, 0)\n",
       " (1/2, 1/2, 1/2, 1/2, 0, 1/2)\n",
       " (1/2, 1/2, 1/2, 1/2, 1/2, 0)\n",
       " (1/2, 1/2, 1/2, 1/2, 1/2, 1/2)"
      ]
     },
     "execution_count": 19,
     "metadata": {},
     "output_type": "execute_result"
    }
   ],
   "source": [
    "spins_all_range"
   ]
  },
  {
   "cell_type": "markdown",
   "id": "5c043179-3d15-440c-bc67-71680a7df6e5",
   "metadata": {},
   "source": [
    "Note what we are doing wrong. One edge requires spins to be integers one edge requires spins to be half integers. in that case there are no spins and we should skip. "
   ]
  }
 ],
 "metadata": {
  "kernelspec": {
   "display_name": "Julia 1.7.2",
   "language": "julia",
   "name": "julia-1.7"
  },
  "language_info": {
   "file_extension": ".jl",
   "mimetype": "application/julia",
   "name": "julia",
   "version": "1.7.2"
  }
 },
 "nbformat": 4,
 "nbformat_minor": 5
}
