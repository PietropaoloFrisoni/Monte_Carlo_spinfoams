{
 "cells": [
  {
   "cell_type": "markdown",
   "id": "66fea05f-7846-4b98-9445-073dfad3d127",
   "metadata": {},
   "source": [
    "# Testing a single range "
   ]
  },
  {
   "cell_type": "markdown",
   "id": "69c86382",
   "metadata": {},
   "source": [
    "Single range function "
   ]
  },
  {
   "cell_type": "code",
   "execution_count": 31,
   "id": "c4afacad",
   "metadata": {},
   "outputs": [],
   "source": [
    "using HalfIntegers"
   ]
  },
  {
   "cell_type": "code",
   "execution_count": 57,
   "id": "aee5d3d8-77f6-4fb9-af80-f26b8c83e19f",
   "metadata": {},
   "outputs": [
    {
     "data": {
      "text/plain": [
       "single_spin_range (generic function with 1 method)"
      ]
     },
     "execution_count": 57,
     "metadata": {},
     "output_type": "execute_result"
    }
   ],
   "source": [
    "function single_spin_range(a::HalfInt, b::HalfInt, c::HalfInt)\n",
    "    maxspin = a+b+c\n",
    "    #if the sum of three spins is a halfinteger the 4th spins also has to be a half integer,\n",
    "    # therefore if any the min possible spin is 1/2 otherwise is 0\n",
    "    natural_min_spin = mod(2*maxspin, 2) == 1 ? half(1) : 0\n",
    "    #if negative means that the min value of the spin such that an intertwiner exists comes from a higher tensor product\n",
    "    #maybe it is necessary to do a check here\n",
    "    max(abs(a-b)-c,natural_min_spin),maxspin\n",
    "end"
   ]
  },
  {
   "cell_type": "code",
   "execution_count": 60,
   "id": "5f3b4b54",
   "metadata": {},
   "outputs": [
    {
     "data": {
      "text/plain": [
       "(1/2, 35/2)"
      ]
     },
     "execution_count": 60,
     "metadata": {},
     "output_type": "execute_result"
    }
   ],
   "source": [
    "jmin,jmax = single_spin_range(half(1),half(16),half(18))"
   ]
  },
  {
   "cell_type": "code",
   "execution_count": 61,
   "id": "0e75549c-e494-4c31-b906-096330b55980",
   "metadata": {},
   "outputs": [
    {
     "data": {
      "text/plain": [
       "1/2"
      ]
     },
     "execution_count": 61,
     "metadata": {},
     "output_type": "execute_result"
    }
   ],
   "source": [
    "jb = half(1)"
   ]
  },
  {
   "cell_type": "code",
   "execution_count": null,
   "id": "951ce4ff",
   "metadata": {},
   "outputs": [],
   "source": [
    "(jb, j25, j24, j23)\n",
    "(jb, j23, j34, j35)\n",
    "(jb, j45, j34, j24)\n",
    "(jb, j25, j45, j35)"
   ]
  },
  {
   "cell_type": "markdown",
   "id": "9a11b785",
   "metadata": {},
   "source": []
  },
  {
   "cell_type": "markdown",
   "id": "d0cfa10e-b44e-43bd-9230-9d7e62f87ebc",
   "metadata": {},
   "source": [
    "## BF self-energy"
   ]
  },
  {
   "cell_type": "code",
   "execution_count": 14,
   "id": "cc14eab8-80a6-4d2b-a27d-a6165fcc1326",
   "metadata": {},
   "outputs": [
    {
     "name": "stdout",
     "output_type": "stream",
     "text": [
      "ampls_MC = [0.0, 18.31511111111106, 336.60423611111105, 4021.211193888882, 23625.584214637176, 114513.96741137184, 427100.0592415504, 1.2986206573008737e6, 3.565056842567978e6, 8.958792382168135e6, 2.0007164437549725e7, 4.3232047746211e7, 8.676545513856675e7, 1.640158200702116e8, 3.0000680085474026e8, 5.2670066832307166e8, 9.015206018971332e8, 1.4711638821098802e9, 2.35865706729434e9, 3.7326101448215437e9, 5.639346939767004e9]\n",
      "ampls = [0.0, 17.944444444444443, 351.81944444444446, 4036.8150000000023, 24514.613469387765, 115535.07908163266, 418965.43027210876, 1.3175296938936901e6, 3.5862436553176683e6, 8.913799667163823e6, 2.0217887709183477e7, 4.3060217783452325e7, 8.609056967573586e7, 1.64357360762854e8, 2.9957659964757156e8, 5.271053418785647e8, 8.951935281928358e8, 1.478545295036699e9, 2.37478651992384e9, 3.7292215044068594e9, 5.725292596913422e9]\n"
     ]
    }
   ],
   "source": [
    "    # set boundary\n",
    "    step = onehalf = half(1)\n",
    "    jb = half(1)\n",
    "\n",
    "    ampls = Float64[]\n",
    "\n",
    "    # loop over partial cutoffs\n",
    "    for pcutoff = 0:step:cutoff\n",
    "\n",
    "        # generate a list of all spins to compute\n",
    "        spins_all = NTuple{6,HalfInt}[]\n",
    "        for j23::HalfInt = 0:onehalf:pcutoff, j24::HalfInt = 0:onehalf:pcutoff, j25::HalfInt = 0:onehalf:pcutoff,\n",
    "            j34::HalfInt = 0:onehalf:pcutoff, j35::HalfInt = 0:onehalf:pcutoff, j45::HalfInt = 0:onehalf:pcutoff\n",
    "\n",
    "            # skip if computed in lower partial cutoff\n",
    "            j23 <= (pcutoff - step) && j24 <= (pcutoff - step) &&\n",
    "                j25 <= (pcutoff - step) && j34 <= (pcutoff - step) &&\n",
    "                j35 <= (pcutoff - step) && j45 <= (pcutoff - step) && continue\n",
    "\n",
    "            # skip if any intertwiner range empty\n",
    "            r2, _ = intertwiner_range(jb, j25, j24, j23)\n",
    "            r3, _ = intertwiner_range(j23, jb, j34, j35)\n",
    "            r4, _ = intertwiner_range(j34, j24, jb, j45)\n",
    "            r5, _ = intertwiner_range(j45, j35, j25, jb)\n",
    "\n",
    "            isempty(r2) && continue\n",
    "            isempty(r3) && continue\n",
    "            isempty(r4) && continue\n",
    "            isempty(r5) && continue\n",
    "\n",
    "            # must be computed\n",
    "            push!(spins_all, (j23, j24, j25, j34, j35, j45))\n",
    "\n",
    "        end"
   ]
  }
 ],
 "metadata": {
  "kernelspec": {
   "display_name": "Julia 1.7.2",
   "language": "julia",
   "name": "julia-1.7"
  },
  "language_info": {
   "file_extension": ".jl",
   "mimetype": "application/julia",
   "name": "julia",
   "version": "1.7.2"
  }
 },
 "nbformat": 4,
 "nbformat_minor": 5
}
